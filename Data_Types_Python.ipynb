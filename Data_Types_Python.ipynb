{
 "cells": [
  {
   "cell_type": "markdown",
   "id": "fcafca77-f6d4-4657-8afb-0f1f3953f59c",
   "metadata": {},
   "source": [
    "#### IDE - Integrated Devlopment Environment"
   ]
  },
  {
   "cell_type": "code",
   "execution_count": 17,
   "id": "9f14bc1a-3a0a-4bb6-80cc-f0efe5e3058c",
   "metadata": {},
   "outputs": [],
   "source": [
    "a = 10"
   ]
  },
  {
   "cell_type": "code",
   "execution_count": 10,
   "id": "159dd52a-4999-4c3d-8537-a330192d158b",
   "metadata": {},
   "outputs": [
    {
     "data": {
      "text/plain": [
       "10"
      ]
     },
     "execution_count": 10,
     "metadata": {},
     "output_type": "execute_result"
    }
   ],
   "source": [
    "a"
   ]
  },
  {
   "cell_type": "code",
   "execution_count": 18,
   "id": "1b987c0f-b31b-4202-8562-d45e3ebc615d",
   "metadata": {},
   "outputs": [
    {
     "data": {
      "text/plain": [
       "2"
      ]
     },
     "execution_count": 18,
     "metadata": {},
     "output_type": "execute_result"
    }
   ],
   "source": [
    "1+1"
   ]
  },
  {
   "cell_type": "code",
   "execution_count": 1,
   "id": "bdcd26fa-b0a4-461e-8173-937c608d0b10",
   "metadata": {},
   "outputs": [
    {
     "data": {
      "text/plain": [
       "25"
      ]
     },
     "execution_count": 1,
     "metadata": {},
     "output_type": "execute_result"
    }
   ],
   "source": [
    "## Exapmple OF Multiline coments\n",
    "\"\"\"Hellow World How Are\n",
    "You\"\"\"\n",
    "21+4"
   ]
  },
  {
   "cell_type": "markdown",
   "id": "09d740bb-7746-4835-955a-42429eebb0ca",
   "metadata": {},
   "source": [
    "# Rasal\n",
    "## Rasal\n",
    "### Rasal\n",
    "#### Rasal\n",
    "Rasal"
   ]
  },
  {
   "cell_type": "markdown",
   "id": "43183760-834e-4ee7-aa5a-0977721f5841",
   "metadata": {},
   "source": [
    "##  1.Numbers"
   ]
  },
  {
   "cell_type": "code",
   "execution_count": 1,
   "id": "76213943-5340-45d9-b041-70c365ad4308",
   "metadata": {},
   "outputs": [
    {
     "data": {
      "text/plain": [
       "35"
      ]
     },
     "execution_count": 1,
     "metadata": {},
     "output_type": "execute_result"
    }
   ],
   "source": [
    "23+12"
   ]
  },
  {
   "cell_type": "code",
   "execution_count": 2,
   "id": "819a756b-0ec7-4e5c-b2fa-cdbe83fc2121",
   "metadata": {},
   "outputs": [
    {
     "name": "stdout",
     "output_type": "stream",
     "text": [
      "35\n"
     ]
    }
   ],
   "source": [
    "print(23+12)"
   ]
  },
  {
   "cell_type": "code",
   "execution_count": 1,
   "id": "5a85ebb8-e5a1-42a5-8548-814283615afd",
   "metadata": {},
   "outputs": [
    {
     "data": {
      "text/plain": [
       "4"
      ]
     },
     "execution_count": 1,
     "metadata": {},
     "output_type": "execute_result"
    }
   ],
   "source": [
    "1+3"
   ]
  },
  {
   "cell_type": "code",
   "execution_count": 2,
   "id": "e34cfe4e-124f-4a29-ae49-2ab2fccebee7",
   "metadata": {},
   "outputs": [
    {
     "name": "stdout",
     "output_type": "stream",
     "text": [
      "5\n"
     ]
    }
   ],
   "source": [
    "a=5\n",
    "print(a)"
   ]
  },
  {
   "cell_type": "code",
   "execution_count": 5,
   "id": "005ad47f-1451-4d23-835c-6e1911cb524b",
   "metadata": {},
   "outputs": [
    {
     "name": "stdout",
     "output_type": "stream",
     "text": [
      "W\n"
     ]
    }
   ],
   "source": [
    "# this function print of 7th number of letter\n",
    "a = \"Hello, World!\"\n",
    "print(a[7])"
   ]
  },
  {
   "cell_type": "markdown",
   "id": "4581631c-b034-473f-8437-49ff3c3935b3",
   "metadata": {},
   "source": [
    "## Check number of element in sentence"
   ]
  },
  {
   "cell_type": "code",
   "execution_count": 1,
   "id": "6cfba7cc-1250-4732-948a-0ff65ebd01a2",
   "metadata": {},
   "outputs": [
    {
     "name": "stdout",
     "output_type": "stream",
     "text": [
      "13\n"
     ]
    }
   ],
   "source": [
    "# in below example it also measure space and number of character\n",
    "s = \"Tiruantapuram\"\n",
    "print(len(s))"
   ]
  },
  {
   "cell_type": "code",
   "execution_count": 2,
   "id": "356370c5-0133-439e-8881-8358cd57a88f",
   "metadata": {},
   "outputs": [
    {
     "name": "stdout",
     "output_type": "stream",
     "text": [
      "8\n"
     ]
    }
   ],
   "source": [
    "a = \"kolhapur\"\n",
    "print(len(a))"
   ]
  },
  {
   "cell_type": "code",
   "execution_count": 3,
   "id": "690f28a5-e35b-4856-8d1a-c1f4fadba524",
   "metadata": {},
   "outputs": [
    {
     "name": "stdout",
     "output_type": "stream",
     "text": [
      "13\n"
     ]
    }
   ],
   "source": [
    "v = \"Hello brother\"\n",
    "print(len(v))"
   ]
  },
  {
   "cell_type": "code",
   "execution_count": 4,
   "id": "4f48725c-9f7f-49b4-99ad-b12e8a3d6bf8",
   "metadata": {},
   "outputs": [
    {
     "name": "stdout",
     "output_type": "stream",
     "text": [
      "14\n"
     ]
    }
   ],
   "source": [
    "s1 = \"spy always spy\"\n",
    "print(len(s1))"
   ]
  },
  {
   "cell_type": "markdown",
   "id": "f4c4db48-4170-494b-b66e-80a9a7860e62",
   "metadata": {},
   "source": [
    "## To check this word is present in the below example is present then it print True and if it is not present it print false"
   ]
  },
  {
   "cell_type": "code",
   "execution_count": 11,
   "id": "2d7222a4-46a9-426e-8c6a-6996c56563cb",
   "metadata": {},
   "outputs": [
    {
     "name": "stdout",
     "output_type": "stream",
     "text": [
      "True\n"
     ]
    }
   ],
   "source": [
    "txt = \"namste to all of you to arive here\"\n",
    "print(\"namste\" in txt)"
   ]
  },
  {
   "cell_type": "code",
   "execution_count": 3,
   "id": "58a43b00-745d-4f52-bd63-845bd80c378b",
   "metadata": {},
   "outputs": [
    {
     "name": "stdout",
     "output_type": "stream",
     "text": [
      "False\n"
     ]
    }
   ],
   "source": [
    "r = \"india is my country\"\n",
    "print(\"world\" in r)"
   ]
  },
  {
   "cell_type": "code",
   "execution_count": 4,
   "id": "3668676a-1a7d-4820-95d8-f4b670dfbfaa",
   "metadata": {},
   "outputs": [
    {
     "name": "stdout",
     "output_type": "stream",
     "text": [
      "True\n"
     ]
    }
   ],
   "source": [
    "d = \"indian history is oldest history in the world\"\n",
    "print(\"indian\" in d)"
   ]
  },
  {
   "cell_type": "markdown",
   "id": "a5eeb5d3-6fb2-4a2b-95cb-d2a1c1ebb177",
   "metadata": {},
   "source": [
    "## use \\n for start new line from down"
   ]
  },
  {
   "cell_type": "code",
   "execution_count": 8,
   "id": "9bc172a1-1268-4a22-a3b1-7a1356ec2210",
   "metadata": {},
   "outputs": [
    {
     "name": "stdout",
     "output_type": "stream",
     "text": [
      "Hello World my name is vaibhav \n",
      " and i'm learning python\n"
     ]
    }
   ],
   "source": [
    "print(\"Hello World my name is vaibhav \\n and i'm learning python\")"
   ]
  },
  {
   "cell_type": "code",
   "execution_count": 6,
   "id": "2dade443-744e-48f4-b019-cc91d5a13a47",
   "metadata": {},
   "outputs": [
    {
     "name": "stdout",
     "output_type": "stream",
     "text": [
      "two we are live in 21st century \n",
      " this is 2023\n"
     ]
    }
   ],
   "source": [
    "h = \"two we are live in 21st century \\n this is 2023\"\n",
    "print(h)"
   ]
  },
  {
   "cell_type": "code",
   "execution_count": 6,
   "id": "b5d546aa-3dac-48b6-a2f8-ed5463fa3cc6",
   "metadata": {},
   "outputs": [
    {
     "name": "stdout",
     "output_type": "stream",
     "text": [
      "hello brother im your \n",
      " brother\n"
     ]
    }
   ],
   "source": [
    "print(\"hello brother im your \\n brother\")"
   ]
  },
  {
   "cell_type": "code",
   "execution_count": 5,
   "id": "e2304003-7220-497c-85b9-149715d7463f",
   "metadata": {},
   "outputs": [
    {
     "name": "stdout",
     "output_type": "stream",
     "text": [
      "welcome to come here \n",
      " have a nice day\n"
     ]
    }
   ],
   "source": [
    "print(\"welcome to come here \\n have a nice day\")"
   ]
  },
  {
   "cell_type": "markdown",
   "id": "2b0e1ac9-4910-4f06-b639-5525d5857281",
   "metadata": {},
   "source": [
    "## To change line we can also use multi line string like below"
   ]
  },
  {
   "cell_type": "code",
   "execution_count": 14,
   "id": "1cf5efe7-d472-4b4e-8c6c-77dfd1a97061",
   "metadata": {},
   "outputs": [
    {
     "name": "stdout",
     "output_type": "stream",
     "text": [
      "Hello Brother and sister for attending my \n",
      "function\n"
     ]
    }
   ],
   "source": [
    "print(\"\"\"Hello Brother and sister for attending my \n",
    "function\"\"\")"
   ]
  },
  {
   "cell_type": "code",
   "execution_count": 9,
   "id": "5a128be1-c754-4fd2-bad4-b128d7f72202",
   "metadata": {},
   "outputs": [
    {
     "name": "stdout",
     "output_type": "stream",
     "text": [
      "Today Nivida Stocks touch gained more in \n",
      "its history\n"
     ]
    }
   ],
   "source": [
    "print(\"\"\"Today Nivida Stocks touch gained more in \n",
    "its history\"\"\")"
   ]
  },
  {
   "cell_type": "markdown",
   "id": "3d9ec43c-4ae2-434c-80ff-022f839f1a25",
   "metadata": {},
   "source": [
    "## 2.Variable Assignment"
   ]
  },
  {
   "cell_type": "markdown",
   "id": "d35c4fce-dffa-4a84-83ee-90f447a4e3b4",
   "metadata": {},
   "source": [
    "## string"
   ]
  },
  {
   "cell_type": "code",
   "execution_count": 2,
   "id": "95a32e77-83c9-4cd3-9bfe-c4ed94323c32",
   "metadata": {},
   "outputs": [
    {
     "name": "stdout",
     "output_type": "stream",
     "text": [
      "Vaibhav\n",
      "Rasal\n"
     ]
    }
   ],
   "source": [
    "a = \"Vaibhav\"\n",
    "b = \"Rasal\"\n",
    "print(a)\n",
    "print(b)"
   ]
  },
  {
   "cell_type": "code",
   "execution_count": null,
   "id": "ee14c26d-48dc-4ba2-a6ce-967ca2da9dc8",
   "metadata": {},
   "outputs": [],
   "source": [
    "name = \"Vaibhav\"\n",
    "company = \"Rasal\""
   ]
  },
  {
   "cell_type": "code",
   "execution_count": 13,
   "id": "92d0012c-494e-4b18-ab2f-918eabbc9416",
   "metadata": {},
   "outputs": [
    {
     "data": {
      "text/plain": [
       "'Vaibhav'"
      ]
     },
     "execution_count": 13,
     "metadata": {},
     "output_type": "execute_result"
    }
   ],
   "source": [
    "name"
   ]
  },
  {
   "cell_type": "code",
   "execution_count": 14,
   "id": "32e28b93-625f-4b5f-87a6-8761f6fa6179",
   "metadata": {},
   "outputs": [
    {
     "data": {
      "text/plain": [
       "'Rasal'"
      ]
     },
     "execution_count": 14,
     "metadata": {},
     "output_type": "execute_result"
    }
   ],
   "source": [
    "company"
   ]
  },
  {
   "cell_type": "code",
   "execution_count": 11,
   "id": "e7410c82-958f-4622-940b-c895a4938698",
   "metadata": {},
   "outputs": [],
   "source": [
    "student = \"avinash\"\n",
    "roll_no = 15"
   ]
  },
  {
   "cell_type": "code",
   "execution_count": 12,
   "id": "ef8463f0-0e61-4885-946b-942c3787ee1d",
   "metadata": {},
   "outputs": [
    {
     "data": {
      "text/plain": [
       "'avinash'"
      ]
     },
     "execution_count": 12,
     "metadata": {},
     "output_type": "execute_result"
    }
   ],
   "source": [
    "student"
   ]
  },
  {
   "cell_type": "code",
   "execution_count": 13,
   "id": "d06c5bdc-cca3-4297-9fa2-9a45a1902111",
   "metadata": {},
   "outputs": [
    {
     "data": {
      "text/plain": [
       "15"
      ]
     },
     "execution_count": 13,
     "metadata": {},
     "output_type": "execute_result"
    }
   ],
   "source": [
    "roll_no"
   ]
  },
  {
   "cell_type": "markdown",
   "id": "024dcc1a-6fc9-4948-b2ed-095dc54504c1",
   "metadata": {},
   "source": [
    "## Number"
   ]
  },
  {
   "cell_type": "code",
   "execution_count": 15,
   "id": "4e02b444-b733-4ccc-a3c0-2cc7fe6d422a",
   "metadata": {},
   "outputs": [],
   "source": [
    "number = 10"
   ]
  },
  {
   "cell_type": "code",
   "execution_count": 16,
   "id": "b9fcac09-dc34-4bb6-b378-949904b27039",
   "metadata": {},
   "outputs": [
    {
     "data": {
      "text/plain": [
       "10"
      ]
     },
     "execution_count": 16,
     "metadata": {},
     "output_type": "execute_result"
    }
   ],
   "source": [
    "10"
   ]
  },
  {
   "cell_type": "code",
   "execution_count": 18,
   "id": "b616adf2-ef5f-4c4b-a321-a220adfe8003",
   "metadata": {},
   "outputs": [
    {
     "data": {
      "text/plain": [
       "10"
      ]
     },
     "execution_count": 18,
     "metadata": {},
     "output_type": "execute_result"
    }
   ],
   "source": [
    "number"
   ]
  },
  {
   "cell_type": "code",
   "execution_count": 19,
   "id": "b0ac9d04-5072-4cd1-81e0-7bb38792929f",
   "metadata": {},
   "outputs": [],
   "source": [
    "car = 'ferrari'"
   ]
  },
  {
   "cell_type": "code",
   "execution_count": 20,
   "id": "8688d723-eb32-4294-bcf0-de8f5d88f6ef",
   "metadata": {},
   "outputs": [
    {
     "data": {
      "text/plain": [
       "'ferrari'"
      ]
     },
     "execution_count": 20,
     "metadata": {},
     "output_type": "execute_result"
    }
   ],
   "source": [
    "car"
   ]
  },
  {
   "cell_type": "markdown",
   "id": "fda4f35d-e2c4-48ed-ad3c-850a39e5eb29",
   "metadata": {},
   "source": [
    "## To find data type"
   ]
  },
  {
   "cell_type": "code",
   "execution_count": 21,
   "id": "56c21ef5-7f3e-4202-bb24-6686b3b216c7",
   "metadata": {},
   "outputs": [
    {
     "data": {
      "text/plain": [
       "str"
      ]
     },
     "execution_count": 21,
     "metadata": {},
     "output_type": "execute_result"
    }
   ],
   "source": [
    "type(car)"
   ]
  },
  {
   "cell_type": "code",
   "execution_count": 15,
   "id": "febe6159-701a-4234-8a28-95d89b6f991a",
   "metadata": {},
   "outputs": [
    {
     "data": {
      "text/plain": [
       "str"
      ]
     },
     "execution_count": 15,
     "metadata": {},
     "output_type": "execute_result"
    }
   ],
   "source": [
    "s2 = \"at this moment\"\n",
    "type(\"\")"
   ]
  },
  {
   "cell_type": "code",
   "execution_count": 16,
   "id": "03c01562-39df-422a-a239-783093307c43",
   "metadata": {},
   "outputs": [
    {
     "data": {
      "text/plain": [
       "str"
      ]
     },
     "execution_count": 16,
     "metadata": {},
     "output_type": "execute_result"
    }
   ],
   "source": [
    "type(s2)"
   ]
  },
  {
   "cell_type": "code",
   "execution_count": 22,
   "id": "d8ed6a0b-a7bd-464a-8075-0c87e95753b2",
   "metadata": {},
   "outputs": [
    {
     "data": {
      "text/plain": [
       "str"
      ]
     },
     "execution_count": 22,
     "metadata": {},
     "output_type": "execute_result"
    }
   ],
   "source": [
    "type(\"\")"
   ]
  },
  {
   "cell_type": "code",
   "execution_count": 23,
   "id": "5b34a728-8369-4258-ad53-b660cc453cac",
   "metadata": {},
   "outputs": [
    {
     "data": {
      "text/plain": [
       "int"
      ]
     },
     "execution_count": 23,
     "metadata": {},
     "output_type": "execute_result"
    }
   ],
   "source": [
    "type(number)"
   ]
  },
  {
   "cell_type": "code",
   "execution_count": 8,
   "id": "b1880528-86e5-4aed-a970-2fed97c42d71",
   "metadata": {},
   "outputs": [
    {
     "name": "stdout",
     "output_type": "stream",
     "text": [
      "<class 'str'>\n",
      "<class 'int'>\n"
     ]
    }
   ],
   "source": [
    "x = \"Avinash\"\n",
    "y = 25\n",
    "print(type(x))\n",
    "print(type(y))"
   ]
  },
  {
   "cell_type": "code",
   "execution_count": 17,
   "id": "38294eab-a4cb-4d1a-bfad-64d1eb6ad62c",
   "metadata": {},
   "outputs": [
    {
     "name": "stdout",
     "output_type": "stream",
     "text": [
      "<class 'str'>\n",
      "<class 'int'>\n"
     ]
    }
   ],
   "source": [
    "a = \"sagar\"\n",
    "b = 65\n",
    "print(type(a))\n",
    "print(type(b))"
   ]
  },
  {
   "cell_type": "code",
   "execution_count": 15,
   "id": "b909e9b7-0583-4259-a84c-06fcf79ff092",
   "metadata": {},
   "outputs": [
    {
     "data": {
      "text/plain": [
       "int"
      ]
     },
     "execution_count": 15,
     "metadata": {},
     "output_type": "execute_result"
    }
   ],
   "source": [
    "d = \"Avinash\"\n",
    "h = 25\n",
    "type(\"Avkimash\")\n",
    "type(25)"
   ]
  },
  {
   "cell_type": "code",
   "execution_count": 7,
   "id": "66b10451-609c-4303-857e-189bd8c8b987",
   "metadata": {},
   "outputs": [
    {
     "name": "stdout",
     "output_type": "stream",
     "text": [
      "3\n",
      "3\n",
      "3.0\n"
     ]
    }
   ],
   "source": [
    "b = str(3)\n",
    "c = int(3)\n",
    "d = float(3)\n",
    "print(b)\n",
    "print(c)\n",
    "print(d)"
   ]
  },
  {
   "cell_type": "code",
   "execution_count": 18,
   "id": "524164a0-ea69-41b5-9565-a53494c4539f",
   "metadata": {},
   "outputs": [
    {
     "name": "stdout",
     "output_type": "stream",
     "text": [
      "4\n",
      "5\n",
      "80.0\n"
     ]
    }
   ],
   "source": [
    "s = str(4)\n",
    "q = int(5)\n",
    "r = float(80)\n",
    "print(s)\n",
    "print(q)\n",
    "print(r)"
   ]
  },
  {
   "cell_type": "markdown",
   "id": "9e5b013c-a0ea-4254-a7a5-a1a9b93acb0e",
   "metadata": {},
   "source": [
    "## float"
   ]
  },
  {
   "cell_type": "code",
   "execution_count": 24,
   "id": "5f052a87-387b-4568-ae43-0add84a7e7c8",
   "metadata": {},
   "outputs": [],
   "source": [
    "decimal_num = 2.5"
   ]
  },
  {
   "cell_type": "code",
   "execution_count": 25,
   "id": "e4ce6b90-f6e1-4d94-b7a4-0c7e495ffe10",
   "metadata": {},
   "outputs": [
    {
     "data": {
      "text/plain": [
       "2.5"
      ]
     },
     "execution_count": 25,
     "metadata": {},
     "output_type": "execute_result"
    }
   ],
   "source": [
    "decimal_num"
   ]
  },
  {
   "cell_type": "code",
   "execution_count": 26,
   "id": "c4fc4e8f-c560-41b7-a87d-80da7a702816",
   "metadata": {},
   "outputs": [
    {
     "data": {
      "text/plain": [
       "float"
      ]
     },
     "execution_count": 26,
     "metadata": {},
     "output_type": "execute_result"
    }
   ],
   "source": [
    "type(decimal_num)"
   ]
  },
  {
   "cell_type": "code",
   "execution_count": 27,
   "id": "47b6c34d-64c0-4d6d-9ea3-080a4e6f0186",
   "metadata": {},
   "outputs": [],
   "source": [
    "gunank = 46.66"
   ]
  },
  {
   "cell_type": "code",
   "execution_count": 28,
   "id": "48ab2f54-33c1-4926-8d8a-c6e2b9b9b739",
   "metadata": {},
   "outputs": [
    {
     "data": {
      "text/plain": [
       "float"
      ]
     },
     "execution_count": 28,
     "metadata": {},
     "output_type": "execute_result"
    }
   ],
   "source": [
    "type(gunank)"
   ]
  },
  {
   "cell_type": "markdown",
   "id": "ae2dec43-6220-49b3-9876-c532c2082f6e",
   "metadata": {},
   "source": [
    "## Complex"
   ]
  },
  {
   "cell_type": "code",
   "execution_count": 36,
   "id": "c2d2ac2c-a54e-4e0a-b21f-e67460be5181",
   "metadata": {},
   "outputs": [],
   "source": [
    "a = 1+2j"
   ]
  },
  {
   "cell_type": "code",
   "execution_count": 37,
   "id": "a7a6e94b-feaa-4c40-ad2b-209bad1327cd",
   "metadata": {},
   "outputs": [
    {
     "data": {
      "text/plain": [
       "complex"
      ]
     },
     "execution_count": 37,
     "metadata": {},
     "output_type": "execute_result"
    }
   ],
   "source": [
    "type(a)"
   ]
  },
  {
   "cell_type": "code",
   "execution_count": 42,
   "id": "881677ae-ec2e-47ef-9839-7421aa9eadbb",
   "metadata": {},
   "outputs": [],
   "source": [
    "b = 2j"
   ]
  },
  {
   "cell_type": "code",
   "execution_count": 43,
   "id": "e0e8e22f-5f33-4e65-8e74-65896bbe20b6",
   "metadata": {},
   "outputs": [
    {
     "data": {
      "text/plain": [
       "complex"
      ]
     },
     "execution_count": 43,
     "metadata": {},
     "output_type": "execute_result"
    }
   ],
   "source": [
    "type(b)"
   ]
  },
  {
   "cell_type": "code",
   "execution_count": 22,
   "id": "51cc83b2-f94d-4549-b3ed-4e39d4201cbb",
   "metadata": {},
   "outputs": [
    {
     "data": {
      "text/plain": [
       "complex"
      ]
     },
     "execution_count": 22,
     "metadata": {},
     "output_type": "execute_result"
    }
   ],
   "source": [
    "s = 2+7j\n",
    "type(s)"
   ]
  },
  {
   "cell_type": "code",
   "execution_count": 49,
   "id": "20a2a1ec-ab9d-4d64-997f-cf773b7e756e",
   "metadata": {},
   "outputs": [
    {
     "name": "stdout",
     "output_type": "stream",
     "text": [
      "vaibhav\n",
      "rasal\n"
     ]
    }
   ],
   "source": [
    "## Variables are case sensitive\n",
    "Company = \"vaibhav\"\n",
    "company = \"rasal\"\n",
    "print(Company)\n",
    "print(company)"
   ]
  },
  {
   "cell_type": "code",
   "execution_count": 51,
   "id": "f8c350c4-f3b8-483f-a84b-56a2f02d5e36",
   "metadata": {},
   "outputs": [
    {
     "data": {
      "text/plain": [
       "'\\nint,float,len,complex,bool,str,return,yield\\n'"
      ]
     },
     "execution_count": 51,
     "metadata": {},
     "output_type": "execute_result"
    }
   ],
   "source": [
    "## Reserved keywords\n",
    "'''\n",
    "int,float,len,complex,bool,str,return,yield\n",
    "'''"
   ]
  },
  {
   "cell_type": "markdown",
   "id": "b41968e1-6cd6-412a-8a45-0271578a486e",
   "metadata": {},
   "source": [
    "## Boolean"
   ]
  },
  {
   "cell_type": "code",
   "execution_count": 55,
   "id": "887b41f7-0c54-4a4c-9edc-efa3e411d5c3",
   "metadata": {},
   "outputs": [
    {
     "data": {
      "text/plain": [
       "True"
      ]
     },
     "execution_count": 55,
     "metadata": {},
     "output_type": "execute_result"
    }
   ],
   "source": [
    "True"
   ]
  },
  {
   "cell_type": "code",
   "execution_count": 56,
   "id": "c21fb7ef-c9c7-4c80-aa4a-15a336517641",
   "metadata": {},
   "outputs": [
    {
     "data": {
      "text/plain": [
       "False"
      ]
     },
     "execution_count": 56,
     "metadata": {},
     "output_type": "execute_result"
    }
   ],
   "source": [
    "False"
   ]
  },
  {
   "cell_type": "code",
   "execution_count": 57,
   "id": "f9342fa0-a276-4833-95f9-c2216254e5bb",
   "metadata": {},
   "outputs": [
    {
     "data": {
      "text/plain": [
       "False"
      ]
     },
     "execution_count": 57,
     "metadata": {},
     "output_type": "execute_result"
    }
   ],
   "source": [
    "True and False"
   ]
  },
  {
   "cell_type": "code",
   "execution_count": 23,
   "id": "c9f400af-d123-4fc4-a5af-8de4de399b40",
   "metadata": {},
   "outputs": [
    {
     "data": {
      "text/plain": [
       "True"
      ]
     },
     "execution_count": 23,
     "metadata": {},
     "output_type": "execute_result"
    }
   ],
   "source": [
    "True or False"
   ]
  },
  {
   "cell_type": "code",
   "execution_count": 24,
   "id": "ee11e4e2-c483-41aa-a235-fbefe72bf539",
   "metadata": {},
   "outputs": [
    {
     "data": {
      "text/plain": [
       "False"
      ]
     },
     "execution_count": 24,
     "metadata": {},
     "output_type": "execute_result"
    }
   ],
   "source": [
    "False and True"
   ]
  },
  {
   "cell_type": "code",
   "execution_count": 25,
   "id": "edbb151b-64b6-4c50-9198-68f1338e366c",
   "metadata": {},
   "outputs": [
    {
     "data": {
      "text/plain": [
       "False"
      ]
     },
     "execution_count": 25,
     "metadata": {},
     "output_type": "execute_result"
    }
   ],
   "source": [
    "True and False"
   ]
  },
  {
   "cell_type": "code",
   "execution_count": 58,
   "id": "59679396-062e-4fe0-8bfa-0ef2ef69cd8a",
   "metadata": {},
   "outputs": [
    {
     "data": {
      "text/plain": [
       "True"
      ]
     },
     "execution_count": 58,
     "metadata": {},
     "output_type": "execute_result"
    }
   ],
   "source": [
    "True or False"
   ]
  },
  {
   "cell_type": "code",
   "execution_count": 59,
   "id": "9fdabf77-8370-499b-83e4-27f3324e6784",
   "metadata": {},
   "outputs": [
    {
     "data": {
      "text/plain": [
       "False"
      ]
     },
     "execution_count": 59,
     "metadata": {},
     "output_type": "execute_result"
    }
   ],
   "source": [
    "not True"
   ]
  },
  {
   "cell_type": "code",
   "execution_count": 60,
   "id": "87f5e9ba-fda8-477e-89d5-422f8c00a280",
   "metadata": {},
   "outputs": [
    {
     "data": {
      "text/plain": [
       "bool"
      ]
     },
     "execution_count": 60,
     "metadata": {},
     "output_type": "execute_result"
    }
   ],
   "source": [
    "type(not True)"
   ]
  },
  {
   "cell_type": "code",
   "execution_count": 27,
   "id": "054c04b3-227d-4827-98e6-92bda0c1b9d0",
   "metadata": {},
   "outputs": [
    {
     "data": {
      "text/plain": [
       "True"
      ]
     },
     "execution_count": 27,
     "metadata": {},
     "output_type": "execute_result"
    }
   ],
   "source": [
    "True"
   ]
  },
  {
   "cell_type": "code",
   "execution_count": 28,
   "id": "cfcff600-a5c8-48e8-abf4-ba1860502001",
   "metadata": {},
   "outputs": [
    {
     "data": {
      "text/plain": [
       "bool"
      ]
     },
     "execution_count": 28,
     "metadata": {},
     "output_type": "execute_result"
    }
   ],
   "source": [
    "type(True)"
   ]
  },
  {
   "cell_type": "code",
   "execution_count": 61,
   "id": "9dd38df7-2978-404a-834b-913b32ccc41d",
   "metadata": {},
   "outputs": [
    {
     "data": {
      "text/plain": [
       "False"
      ]
     },
     "execution_count": 61,
     "metadata": {},
     "output_type": "execute_result"
    }
   ],
   "source": [
    "bool(0)"
   ]
  },
  {
   "cell_type": "code",
   "execution_count": 62,
   "id": "44f775af-8417-477f-8458-11fdb8bbb361",
   "metadata": {},
   "outputs": [
    {
     "data": {
      "text/plain": [
       "True"
      ]
     },
     "execution_count": 62,
     "metadata": {},
     "output_type": "execute_result"
    }
   ],
   "source": [
    "bool(1)"
   ]
  },
  {
   "cell_type": "code",
   "execution_count": 65,
   "id": "d3058cb2-8165-463c-a9a3-e8b01479ff51",
   "metadata": {},
   "outputs": [
    {
     "name": "stdout",
     "output_type": "stream",
     "text": [
      "True\n"
     ]
    }
   ],
   "source": [
    "a = 1\n",
    "if bool(a)==True:\n",
    "    \n",
    "    print(\"True\")"
   ]
  },
  {
   "cell_type": "code",
   "execution_count": 66,
   "id": "56dc6058-92e2-4a1e-94f0-5e57e5d210d8",
   "metadata": {},
   "outputs": [
    {
     "data": {
      "text/plain": [
       "bool"
      ]
     },
     "execution_count": 66,
     "metadata": {},
     "output_type": "execute_result"
    }
   ],
   "source": [
    "type(bool(a))"
   ]
  },
  {
   "cell_type": "code",
   "execution_count": 69,
   "id": "38c016fa-3c8a-4aff-b42e-547bcb30db8f",
   "metadata": {},
   "outputs": [
    {
     "data": {
      "text/plain": [
       "23"
      ]
     },
     "execution_count": 69,
     "metadata": {},
     "output_type": "execute_result"
    }
   ],
   "source": [
    "### convert number into string\n",
    "int('23')"
   ]
  },
  {
   "cell_type": "code",
   "execution_count": 70,
   "id": "f5ad91b9-41a9-4b3c-8fa1-08ce624ad495",
   "metadata": {},
   "outputs": [
    {
     "data": {
      "text/plain": [
       "int"
      ]
     },
     "execution_count": 70,
     "metadata": {},
     "output_type": "execute_result"
    }
   ],
   "source": [
    "type(23)"
   ]
  },
  {
   "cell_type": "markdown",
   "id": "a528bba1-848b-4172-b4ac-cf0943b1b323",
   "metadata": {},
   "source": [
    "## Dynamic Typing"
   ]
  },
  {
   "cell_type": "code",
   "execution_count": 10,
   "id": "bb7017ac-2b7d-4c6e-b527-77c674b855f0",
   "metadata": {},
   "outputs": [],
   "source": [
    "a = 12\n",
    "str1=\"Vaibhav\"\n",
    "c = \"vai\""
   ]
  },
  {
   "cell_type": "code",
   "execution_count": 11,
   "id": "7054e6b3-d307-48b0-8f9d-21754e774fde",
   "metadata": {},
   "outputs": [
    {
     "name": "stdout",
     "output_type": "stream",
     "text": [
      "<class 'int'>\n"
     ]
    }
   ],
   "source": [
    "print(type(a))"
   ]
  },
  {
   "cell_type": "code",
   "execution_count": 12,
   "id": "d9363d5e-a9b4-41ae-ad51-d7a2cdb5dd82",
   "metadata": {},
   "outputs": [
    {
     "name": "stdout",
     "output_type": "stream",
     "text": [
      "<class 'int'>\n"
     ]
    }
   ],
   "source": [
    "v = 56\n",
    "print(type(v))"
   ]
  },
  {
   "cell_type": "code",
   "execution_count": 13,
   "id": "77306874-f125-4330-951e-373c13879075",
   "metadata": {},
   "outputs": [
    {
     "name": "stdout",
     "output_type": "stream",
     "text": [
      "<class 'complex'>\n"
     ]
    }
   ],
   "source": [
    "bh = 1+2j\n",
    "print(type(bh))"
   ]
  },
  {
   "cell_type": "markdown",
   "id": "520822d7-b406-4de2-9cd8-b276a0dcc9f4",
   "metadata": {},
   "source": [
    "## Concatenation between different types"
   ]
  },
  {
   "cell_type": "code",
   "execution_count": 80,
   "id": "7e1dfd41-5a08-4d97-ac37-8a23b281a2fc",
   "metadata": {},
   "outputs": [
    {
     "data": {
      "text/plain": [
       "'11'"
      ]
     },
     "execution_count": 80,
     "metadata": {},
     "output_type": "execute_result"
    }
   ],
   "source": [
    "\"1\"+\"1\""
   ]
  },
  {
   "cell_type": "code",
   "execution_count": 81,
   "id": "9e5148c6-b75c-4500-8be8-466d0a253d55",
   "metadata": {},
   "outputs": [
    {
     "data": {
      "text/plain": [
       "'7686'"
      ]
     },
     "execution_count": 81,
     "metadata": {},
     "output_type": "execute_result"
    }
   ],
   "source": [
    "\"76\"+\"86\""
   ]
  },
  {
   "cell_type": "code",
   "execution_count": 82,
   "id": "d23b9086-0537-4d35-9c20-14484955e2e1",
   "metadata": {},
   "outputs": [
    {
     "data": {
      "text/plain": [
       "2"
      ]
     },
     "execution_count": 82,
     "metadata": {},
     "output_type": "execute_result"
    }
   ],
   "source": [
    "int(\"1\")+int(\"1\")"
   ]
  },
  {
   "cell_type": "code",
   "execution_count": 85,
   "id": "d233cad9-8cc4-47e1-b19a-ed0f66ea9a79",
   "metadata": {},
   "outputs": [
    {
     "data": {
      "text/plain": [
       "113"
      ]
     },
     "execution_count": 85,
     "metadata": {},
     "output_type": "execute_result"
    }
   ],
   "source": [
    "int(\"46\")+int(\"67\")"
   ]
  },
  {
   "cell_type": "code",
   "execution_count": 86,
   "id": "5c3bf300-4ab8-4517-9c57-24f70bf667ab",
   "metadata": {},
   "outputs": [
    {
     "data": {
      "text/plain": [
       "'1111111111111111111111111111111111111111111111111111111111111111111111111111111111111111111111111111'"
      ]
     },
     "execution_count": 86,
     "metadata": {},
     "output_type": "execute_result"
    }
   ],
   "source": [
    "\"1\"*100"
   ]
  },
  {
   "cell_type": "code",
   "execution_count": 88,
   "id": "ee28a429-97d1-4560-a1b1-b3f7af3c2e22",
   "metadata": {},
   "outputs": [
    {
     "data": {
      "text/plain": [
       "'6666666'"
      ]
     },
     "execution_count": 88,
     "metadata": {},
     "output_type": "execute_result"
    }
   ],
   "source": [
    "\"6\"*7"
   ]
  },
  {
   "cell_type": "code",
   "execution_count": 14,
   "id": "1ade9d6a-aba2-4f14-bdcf-1386f170a650",
   "metadata": {},
   "outputs": [
    {
     "data": {
      "text/plain": [
       "'108108108108108108108108108108108108108108108108108108108108108108108108108108108108108108108108108108108108108108108108108108108108108108108108108108108108108108108108108108108108108108108108108108108108108108108108108108108108108108108108108108108108108108108108108108108108108108108108108108108108108108108108108108108108'"
      ]
     },
     "execution_count": 14,
     "metadata": {},
     "output_type": "execute_result"
    }
   ],
   "source": [
    "\"108\"*108"
   ]
  },
  {
   "cell_type": "code",
   "execution_count": 18,
   "id": "c7ea3467-c6ae-4cf4-b529-e12800cdb59d",
   "metadata": {},
   "outputs": [
    {
     "data": {
      "text/plain": [
       "'hellohellohellohellohellohellohellohellohellohellohellohellohellohellohellohellohellohellohellohellohellohellohellohellohellohellohellohellohellohellohellohellohellohellohellohellohellohellohellohellohellohellohellohellohellohellohellohellohellohellohellohellohellohellohellohellohellohellohellohellohellohellohellohellohellohellohellohellohellohellohellohellohellohellohellohellohellohellohellohellohellohellohellohellohellohellohellohellohellohellohellohellohellohellohellohellohellohellohellohellohellohellohellohellohellohellohellohellohellohellohellohellohellohellohellohellohellohellohellohellohellohellohellohellohellohellohellohellohellohellohellohellohellohellohellohellohellohellohellohellohellohellohellohellohellohellohellohellohellohellohellohellohellohellohellohellohellohellohellohellohellohellohellohellohellohellohellohellohellohellohellohellohellohellohellohellohellohellohellohellohellohellohellohellohellohellohellohellohellohellohellohellohellohellohellohellohellohellohellohellohellohellohellohellohellohellohellohellohellohellohellohellohellohellohellohellohellohellohellohellohellohellohellohellohellohellohellohellohellohellohellohellohellohellohellohellohellohellohellohellohellohellohellohellohellohellohellohellohellohellohellohellohellohellohellohellohellohellohellohellohellohellohellohellohellohellohellohellohellohellohellohellohellohellohellohellohellohellohellohellohellohellohellohellohellohellohellohellohellohellohellohellohellohellohellohellohellohellohellohellohellohellohellohellohellohellohellohellohellohellohellohellohellohellohellohellohellohellohellohellohellohellohellohellohellohellohellohellohellohellohellohellohellohellohellohellohellohellohellohellohellohellohellohellohellohellohellohellohellohellohellohellohellohellohellohellohellohellohellohellohellohellohellohellohellohellohellohellohellohellohellohellohellohellohellohellohellohellohellohellohellohellohellohellohellohellohellohellohellohellohellohellohellohellohellohellohellohellohellohellohellohellohellohellohellohellohellohellohellohellohellohellohellohellohellohellohellohellohellohellohellohellohellohellohellohellohellohellohellohellohellohellohellohellohellohellohellohellohellohellohellohellohellohellohellohellohellohellohellohellohellohellohellohellohellohellohellohellohellohellohellohellohellohellohellohellohellohellohellohellohellohellohellohellohellohellohellohellohellohellohellohellohellohellohellohellohellohellohellohellohellohellohellohellohellohellohellohellohellohello'"
      ]
     },
     "execution_count": 18,
     "metadata": {},
     "output_type": "execute_result"
    }
   ],
   "source": [
    "\"hello\"*500"
   ]
  },
  {
   "cell_type": "code",
   "execution_count": null,
   "id": "32bad36a-c436-4d49-a45d-5bcf1f6a3af6",
   "metadata": {},
   "outputs": [],
   "source": []
  }
 ],
 "metadata": {
  "kernelspec": {
   "display_name": "Python 3 (ipykernel)",
   "language": "python",
   "name": "python3"
  },
  "language_info": {
   "codemirror_mode": {
    "name": "ipython",
    "version": 3
   },
   "file_extension": ".py",
   "mimetype": "text/x-python",
   "name": "python",
   "nbconvert_exporter": "python",
   "pygments_lexer": "ipython3",
   "version": "3.10.8"
  }
 },
 "nbformat": 4,
 "nbformat_minor": 5
}
