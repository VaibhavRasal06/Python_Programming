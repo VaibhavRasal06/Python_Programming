{
 "cells": [
  {
   "cell_type": "markdown",
   "id": "edcbf9c2-ee7e-4808-8ce3-617b95454ecc",
   "metadata": {},
   "source": [
    "# 1.Reading And Writing Files"
   ]
  },
  {
   "cell_type": "markdown",
   "id": "197c11fe-eef9-482d-9274-f5c1c9dc4499",
   "metadata": {},
   "source": [
    "## read and write with respected to distionary"
   ]
  },
  {
   "cell_type": "code",
   "execution_count": 2,
   "id": "7781a0b1-4431-474f-abb5-82680aedcade",
   "metadata": {},
   "outputs": [],
   "source": [
    "data = {\n",
    "\n",
    "    \"name\" : \"vaibhav\",\n",
    "    \"mail_id\" : \"vaibhav@gmail.com\",\n",
    "    \"phone number\" :984583748,\n",
    "    \"subject\" : [\"data science\", \"big data\", \"data analytics\"]\n",
    "\n",
    "}"
   ]
  },
  {
   "cell_type": "code",
   "execution_count": 7,
   "id": "27cce3f9-1b67-45e1-9ff1-9471fa1137f9",
   "metadata": {},
   "outputs": [],
   "source": [
    "import json"
   ]
  },
  {
   "cell_type": "code",
   "execution_count": 25,
   "id": "5de4781e-f33b-488e-b329-d8b458cd8c6b",
   "metadata": {},
   "outputs": [],
   "source": [
    "with open(\"test.json\", \"w\") as f:\n",
    "    json.dump(data, f)"
   ]
  },
  {
   "cell_type": "code",
   "execution_count": 24,
   "id": "3e572681-53e5-4421-999e-1ce510f63fb2",
   "metadata": {},
   "outputs": [],
   "source": [
    "with open(\"test.json\", 'r') as f :\n",
    "    data1 = json.load(f)"
   ]
  },
  {
   "cell_type": "code",
   "execution_count": 13,
   "id": "4db048e3-7236-434f-9b89-e9ffd0dab5a7",
   "metadata": {},
   "outputs": [
    {
     "data": {
      "text/plain": [
       "{'name': 'vaibhav',\n",
       " 'mail_id': 'vaibhav@gmail.com',\n",
       " 'phone number': 984583748,\n",
       " 'subject': ['data science', 'big data', 'data analytics']}"
      ]
     },
     "execution_count": 13,
     "metadata": {},
     "output_type": "execute_result"
    }
   ],
   "source": [
    "data1"
   ]
  },
  {
   "cell_type": "code",
   "execution_count": 15,
   "id": "08088626-fb0e-4aec-adb3-3007f1cb6488",
   "metadata": {},
   "outputs": [
    {
     "data": {
      "text/plain": [
       "'big data'"
      ]
     },
     "execution_count": 15,
     "metadata": {},
     "output_type": "execute_result"
    }
   ],
   "source": [
    "data1['subject'][1]"
   ]
  },
  {
   "cell_type": "markdown",
   "id": "b91cc1e4-3da0-49e9-bc45-bd989c74cdfc",
   "metadata": {},
   "source": [
    "## read write w.r.t. quamma separated "
   ]
  },
  {
   "cell_type": "code",
   "execution_count": 16,
   "id": "977bb2af-d369-4705-b8e6-cb4fc333f532",
   "metadata": {},
   "outputs": [],
   "source": [
    "data = [[\"name\", \"email_id\", \"number\"],\n",
    "       [\"vaibhav\", \"vaibh@gmail.com\", 98945893],\n",
    "       [\"rasal\", \"rasal@gmail.com\", 987876688]\n",
    "       ]"
   ]
  },
  {
   "cell_type": "code",
   "execution_count": 17,
   "id": "4d1d4ee8-8c75-45e7-92e1-74a8cd179782",
   "metadata": {},
   "outputs": [],
   "source": [
    "import csv"
   ]
  },
  {
   "cell_type": "code",
   "execution_count": null,
   "id": "f93578bb-772f-493a-a0b5-a1bb78aace67",
   "metadata": {},
   "outputs": [],
   "source": [
    "with open(\"test3.csv\", 'w') as f:\n",
    "    w = csv.writer(f)\n",
    "    for i in data:\n",
    "        w.writerow(i)"
   ]
  },
  {
   "cell_type": "code",
   "execution_count": 19,
   "id": "a58d5d0e-3928-4a9b-9732-7179bd7f605d",
   "metadata": {},
   "outputs": [
    {
     "name": "stdout",
     "output_type": "stream",
     "text": [
      "['name', 'email_id', 'number']\n",
      "['vaibhav', 'vaibh@gmail.com', '98945893']\n",
      "['rasal', 'rasal@gmail.com', '987876688']\n"
     ]
    }
   ],
   "source": [
    "with open(\"test3.csv\", 'r') as f:\n",
    "    read = csv.reader(f)\n",
    "    for i in read:\n",
    "        print(i)"
   ]
  },
  {
   "cell_type": "code",
   "execution_count": null,
   "id": "c61b14cd-8773-4e47-b6fc-fdfc6c86674a",
   "metadata": {},
   "outputs": [],
   "source": [
    "## write binary file and read it "
   ]
  },
  {
   "cell_type": "code",
   "execution_count": null,
   "id": "e293d4c2-64f7-46a9-a676-4e212744568a",
   "metadata": {},
   "outputs": [],
   "source": [
    "# bin = binary"
   ]
  },
  {
   "cell_type": "code",
   "execution_count": 20,
   "id": "a688a19c-5a89-4164-a347-e6982fbc58eb",
   "metadata": {},
   "outputs": [],
   "source": [
    "with open(\"test4.bin\", 'wb') as f :\n",
    "    f.write(b\"\\x01\\x02\\x03\")"
   ]
  },
  {
   "cell_type": "code",
   "execution_count": 21,
   "id": "8e5507fe-34a6-413e-a7e5-e205cd82aaa5",
   "metadata": {},
   "outputs": [
    {
     "name": "stdout",
     "output_type": "stream",
     "text": [
      "b'\\x01\\x02\\x03'\n"
     ]
    }
   ],
   "source": [
    "with open(\"test4.bin\", \"rb\") as f:\n",
    "    print(f.read())"
   ]
  },
  {
   "cell_type": "markdown",
   "id": "381ec66d-ebc9-4bb2-be98-0eff2ba4da6e",
   "metadata": {},
   "source": [
    "# 2.Buffered Read And Write & Other File Methods"
   ]
  },
  {
   "cell_type": "code",
   "execution_count": 26,
   "id": "a3b79db5-b55e-4482-8767-96a8c3321951",
   "metadata": {},
   "outputs": [],
   "source": [
    "# if my file size in GB or in TB in that case it is difficult to read files. so to read big files buffered read is used"
   ]
  },
  {
   "cell_type": "code",
   "execution_count": 33,
   "id": "b9ac20c3-4b14-4ce5-b6a8-990db59dae7c",
   "metadata": {},
   "outputs": [],
   "source": [
    "import io"
   ]
  },
  {
   "cell_type": "code",
   "execution_count": 34,
   "id": "b8b326c4-75bd-4879-aa06-4f7efc9c1886",
   "metadata": {},
   "outputs": [],
   "source": [
    "with open(\"test.txt\", \"wb\") as f:\n",
    "    file = io.BufferedWriter(f)\n",
    "    file.write(b\"Along with the advent of industry 4.0, digital workforce transformation is emerging as a common gaol of all most all business verticals. In line with this, cobots and service robots have been in adoption for a while,  making the human-robot collborative workforce a reality.ASIMoV Robotics is dedicated to address the growing demand for digital workforce transformation among companies and organizations. We provide highly customizable world-class robotic platforms and solutions to industries and real-life issues while working with hazardous, unsafe, inefficient, repetitive scenarios\\n\")\n",
    "    file.write(b\"this is my second line that i am trying to write\") \n",
    "    file.flush()"
   ]
  },
  {
   "cell_type": "code",
   "execution_count": 37,
   "id": "e8cbeee2-5504-4d92-82ee-3c6ee0380ca4",
   "metadata": {},
   "outputs": [
    {
     "name": "stdout",
     "output_type": "stream",
     "text": [
      "b'Along with the advent of industry 4.0, digital workforce transformation is emerging as a common gaol of all most all business verticals. In line with this, cobots and service robots have been in adoption for a while,  making the human-robot collborative workforce a reality.ASIMoV Robotics is dedicated to address the growing demand for digital workforce transformation among companies and organizations. We provide highly customizable world-class robotic platforms and solutions to industries and real-life issues while working with hazardous, unsafe, inefficient, repetitive scenarios\\nthis is my second line that i am trying to write'\n"
     ]
    }
   ],
   "source": [
    "with open (\"test.txt\", \"rb\") as f:\n",
    "    file = io.BufferedReader(f)\n",
    "    data = file.read()\n",
    "    print(data)"
   ]
  },
  {
   "cell_type": "code",
   "execution_count": 38,
   "id": "1ecb225f-119d-45f4-bedb-e6356c7605bb",
   "metadata": {},
   "outputs": [
    {
     "name": "stdout",
     "output_type": "stream",
     "text": [
      "b'Along with'\n"
     ]
    }
   ],
   "source": [
    "with open (\"test.txt\", \"rb\") as f:\n",
    "    file = io.BufferedReader(f)\n",
    "    data = file.read(10)\n",
    "    print(data)"
   ]
  },
  {
   "cell_type": "code",
   "execution_count": 40,
   "id": "44efdec3-dfde-4ae3-9bb0-36e9d23f6675",
   "metadata": {},
   "outputs": [
    {
     "name": "stdout",
     "output_type": "stream",
     "text": [
      "b'Along with the advent of industry 4.0, digital workforce transformation is emerging as a common gaol'\n"
     ]
    }
   ],
   "source": [
    "with open (\"test.txt\", \"rb\") as f:\n",
    "    file = io.BufferedReader(f)\n",
    "    data = file.read(100)\n",
    "    print(data)"
   ]
  },
  {
   "cell_type": "markdown",
   "id": "be5b9d13-3058-4b75-bc83-210c32db14b5",
   "metadata": {},
   "source": [
    "# 3. Logging And Debugging"
   ]
  },
  {
   "cell_type": "code",
   "execution_count": 1,
   "id": "1c73aeb4-3ac6-4c61-ab0d-b8d8d3eeae43",
   "metadata": {},
   "outputs": [],
   "source": [
    "import logging"
   ]
  },
  {
   "cell_type": "code",
   "execution_count": 19,
   "id": "25c535da-b1ef-49fa-884d-261290d6cff0",
   "metadata": {},
   "outputs": [],
   "source": [
    "logging.basicConfig(filename = \"test.log\" , level = logging.INFO)"
   ]
  },
  {
   "cell_type": "code",
   "execution_count": 20,
   "id": "ce72264c-4a84-4757-af24-2c929d356e1a",
   "metadata": {},
   "outputs": [],
   "source": [
    "logging.info(\"this is class of data science masters\")"
   ]
  },
  {
   "cell_type": "code",
   "execution_count": 21,
   "id": "60c18e93-3581-46a3-8575-e932edcff37d",
   "metadata": {},
   "outputs": [],
   "source": [
    "logging.error(\"this is my error\")"
   ]
  },
  {
   "cell_type": "code",
   "execution_count": 24,
   "id": "aa9fb8a6-0574-48f2-94a3-22b7534fdd2a",
   "metadata": {},
   "outputs": [],
   "source": [
    "logging.critical(\"this is my critical\")"
   ]
  },
  {
   "cell_type": "code",
   "execution_count": 25,
   "id": "9bed2c57-4ca8-4605-a62c-b8f6fd51cfc5",
   "metadata": {},
   "outputs": [],
   "source": [
    "logging.warning(\"do not shut down system\")"
   ]
  },
  {
   "cell_type": "code",
   "execution_count": 26,
   "id": "f01119a4-de9e-4c74-bcd3-c83cfe24a108",
   "metadata": {},
   "outputs": [],
   "source": [
    "logging.debug(\"this is ingo about debug\")"
   ]
  },
  {
   "cell_type": "code",
   "execution_count": 28,
   "id": "15218c45-004a-4f41-89d2-5689fec44ec2",
   "metadata": {},
   "outputs": [],
   "source": [
    "logging.shutdown()"
   ]
  },
  {
   "cell_type": "markdown",
   "id": "56863af1-373f-46ed-b5de-e9a59837765d",
   "metadata": {},
   "source": [
    "1.NOSET\n",
    "2.DEBUG\n",
    "3.INFO\n",
    "4.WARNING\n",
    "5.ERROR\n",
    "6.CRITICAL"
   ]
  },
  {
   "cell_type": "code",
   "execution_count": 2,
   "id": "7f77cd9d-bf99-4391-98ba-ce95ac8fd618",
   "metadata": {},
   "outputs": [],
   "source": [
    "logging.basicConfig(filename = \"test1.log\", level = logging.DEBUG,format = '%(asctime)s %(message)s' )"
   ]
  },
  {
   "cell_type": "code",
   "execution_count": 3,
   "id": "f05f508a-c22e-4500-ad74-3dea003736ee",
   "metadata": {},
   "outputs": [],
   "source": [
    "logging.info(\"this is my info\")"
   ]
  },
  {
   "cell_type": "code",
   "execution_count": 4,
   "id": "c7bda42b-d45b-4da4-af93-f790d16fa5b5",
   "metadata": {},
   "outputs": [],
   "source": [
    "logging.debug(\"this is my debug log\")"
   ]
  },
  {
   "cell_type": "code",
   "execution_count": 5,
   "id": "1d06c0dc-d01a-4a89-a188-5da61c2a2dcc",
   "metadata": {},
   "outputs": [],
   "source": [
    "logging.warning(\"this is my warning\")"
   ]
  },
  {
   "cell_type": "code",
   "execution_count": 6,
   "id": "25c323f2-2642-4d76-bfe1-748178854315",
   "metadata": {},
   "outputs": [],
   "source": [
    "logging.shutdown()"
   ]
  },
  {
   "cell_type": "code",
   "execution_count": 3,
   "id": "1111a4df-2d2d-45a2-9d74-02a95d67fb70",
   "metadata": {},
   "outputs": [],
   "source": [
    "logging.basicConfig(filename = \"test3.log\", level = logging.DEBUG,format = '%(asctime)s %(name)s %(levelname)s %(message)s')"
   ]
  },
  {
   "cell_type": "code",
   "execution_count": 4,
   "id": "b43b20ac-a0d6-4b36-a3f5-623f79b4da96",
   "metadata": {},
   "outputs": [],
   "source": [
    "logging.info(\"this is my info\")"
   ]
  },
  {
   "cell_type": "code",
   "execution_count": 6,
   "id": "69ccade4-3076-4e81-a438-fbedc4f26ae5",
   "metadata": {},
   "outputs": [],
   "source": [
    "l= [1,2,3,4,[4,5,6],\"vaibhav\", \"rasal\"]"
   ]
  },
  {
   "cell_type": "code",
   "execution_count": 18,
   "id": "814b11bb-f8b7-46ea-a464-23ba8e059478",
   "metadata": {},
   "outputs": [],
   "source": [
    "l1_int = []\n",
    "l2_str = []\n",
    "for i in l :\n",
    "    logging.info(\"this is start of my first for loop {}\".format(l))\n",
    "    logging.info(\"this is the value of i am looging {}\".format(i))\n",
    "    if type(i) == list:\n",
    "        for j in i :\n",
    "            logging.info(\"logging my j {j} and i is {i}\".format(i= i, j=j))\n",
    "            if type(j) == int :\n",
    "                l1_int.append(j)\n",
    "    elif type(i) == int:\n",
    "        l1_int.append(i)\n",
    "    else:\n",
    "        if type(i) == str:\n",
    "            l2_str.append(i)\n",
    "logging.info(\"this is my final result with all int {l1}, with all str{l2}\".format(l1 = l1_int, l2 = l2_str))\n",
    "                "
   ]
  },
  {
   "cell_type": "code",
   "execution_count": 10,
   "id": "9d0adf0d-c4cc-46cc-9328-dec645be3398",
   "metadata": {},
   "outputs": [
    {
     "data": {
      "text/plain": [
       "[1, 2, 3, 4, 4, 5, 6]"
      ]
     },
     "execution_count": 10,
     "metadata": {},
     "output_type": "execute_result"
    }
   ],
   "source": [
    "l1_int"
   ]
  },
  {
   "cell_type": "code",
   "execution_count": 12,
   "id": "32040a8d-d19f-49b1-b7cd-4ef35f9641c6",
   "metadata": {},
   "outputs": [
    {
     "data": {
      "text/plain": [
       "['vaibhav', 'rasal']"
      ]
     },
     "execution_count": 12,
     "metadata": {},
     "output_type": "execute_result"
    }
   ],
   "source": [
    "l2_str"
   ]
  },
  {
   "cell_type": "markdown",
   "id": "b6ac111e-6c74-4434-9d9b-498f3ff62b91",
   "metadata": {},
   "source": [
    "# 4.Modules And Import Statements"
   ]
  },
  {
   "cell_type": "code",
   "execution_count": null,
   "id": "b1163c11-30eb-46f8-b0d5-c85a8a9c423f",
   "metadata": {},
   "outputs": [],
   "source": []
  }
 ],
 "metadata": {
  "kernelspec": {
   "display_name": "Python 3 (ipykernel)",
   "language": "python",
   "name": "python3"
  },
  "language_info": {
   "codemirror_mode": {
    "name": "ipython",
    "version": 3
   },
   "file_extension": ".py",
   "mimetype": "text/x-python",
   "name": "python",
   "nbconvert_exporter": "python",
   "pygments_lexer": "ipython3",
   "version": "3.10.8"
  }
 },
 "nbformat": 4,
 "nbformat_minor": 5
}
