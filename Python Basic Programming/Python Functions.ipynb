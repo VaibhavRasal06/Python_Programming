{
 "cells": [
  {
   "cell_type": "markdown",
   "id": "5d3b2632-07f4-4d2d-9a70-2ea6538daafe",
   "metadata": {},
   "source": [
    "### Functions"
   ]
  },
  {
   "cell_type": "code",
   "execution_count": 1,
   "id": "6e073bbd-05e0-48aa-be26-56b74f0bda9a",
   "metadata": {},
   "outputs": [
    {
     "name": "stdout",
     "output_type": "stream",
     "text": [
      "this is my prog\n"
     ]
    }
   ],
   "source": [
    "print(\"this is my prog\")"
   ]
  },
  {
   "cell_type": "code",
   "execution_count": 2,
   "id": "84778a15-f9ea-438d-a9e5-4ba38bd48ecf",
   "metadata": {},
   "outputs": [],
   "source": [
    "l = [1,2,3,4,5]"
   ]
  },
  {
   "cell_type": "code",
   "execution_count": 3,
   "id": "b927e9fb-bcf0-47d2-9571-d64f34d8667d",
   "metadata": {},
   "outputs": [
    {
     "data": {
      "text/plain": [
       "5"
      ]
     },
     "execution_count": 3,
     "metadata": {},
     "output_type": "execute_result"
    }
   ],
   "source": [
    "len(l)"
   ]
  },
  {
   "cell_type": "code",
   "execution_count": 5,
   "id": "cf86c3ae-c0a0-4e2e-9442-0bf9b1973d8d",
   "metadata": {},
   "outputs": [],
   "source": [
    "def test(): \n",
    "    pass"
   ]
  },
  {
   "cell_type": "code",
   "execution_count": 6,
   "id": "e27c250e-0af1-482f-8df5-be74856f6507",
   "metadata": {},
   "outputs": [],
   "source": [
    "def test1():\n",
    "    print(\"this is my very very first fun\")"
   ]
  },
  {
   "cell_type": "code",
   "execution_count": 7,
   "id": "09f4ceaf-bf36-4578-9eec-8c0252713702",
   "metadata": {},
   "outputs": [
    {
     "name": "stdout",
     "output_type": "stream",
     "text": [
      "this is my very very first fun\n"
     ]
    }
   ],
   "source": [
    "test1()"
   ]
  },
  {
   "cell_type": "code",
   "execution_count": 8,
   "id": "087b061b-673a-41f2-8028-25a66581f8f4",
   "metadata": {},
   "outputs": [
    {
     "name": "stdout",
     "output_type": "stream",
     "text": [
      "this is my very very first fun\n"
     ]
    }
   ],
   "source": [
    "test1()"
   ]
  },
  {
   "cell_type": "code",
   "execution_count": 2,
   "id": "6bef2569-b030-4fd8-8415-802e04b5fd49",
   "metadata": {},
   "outputs": [
    {
     "ename": "SyntaxError",
     "evalue": "cannot assign to function call here. Maybe you meant '==' instead of '='? (2212491188.py, line 1)",
     "output_type": "error",
     "traceback": [
      "\u001b[0;36m  Cell \u001b[0;32mIn[2], line 1\u001b[0;36m\u001b[0m\n\u001b[0;31m    test1() = \"vaib\"\u001b[0m\n\u001b[0m    ^\u001b[0m\n\u001b[0;31mSyntaxError\u001b[0m\u001b[0;31m:\u001b[0m cannot assign to function call here. Maybe you meant '==' instead of '='?\n"
     ]
    }
   ],
   "source": [
    "test1() = \"vaib\""
   ]
  },
  {
   "cell_type": "code",
   "execution_count": 6,
   "id": "ec173235-f590-49c7-a481-541e58d8f642",
   "metadata": {},
   "outputs": [],
   "source": [
    "# here are you alwayus suppose to write return function not a print.\n",
    "def test2():\n",
    "    return \"this is my fun with return \""
   ]
  },
  {
   "cell_type": "code",
   "execution_count": 4,
   "id": "caad6f08-1780-4141-991c-96df8d38cc0e",
   "metadata": {},
   "outputs": [
    {
     "data": {
      "text/plain": [
       "'this is my fun with return'"
      ]
     },
     "execution_count": 4,
     "metadata": {},
     "output_type": "execute_result"
    }
   ],
   "source": [
    "test2()"
   ]
  },
  {
   "cell_type": "code",
   "execution_count": 7,
   "id": "a1262392-42f4-4724-a5f3-45365db4b22b",
   "metadata": {},
   "outputs": [
    {
     "data": {
      "text/plain": [
       "'this is my fun with return vaib'"
      ]
     },
     "execution_count": 7,
     "metadata": {},
     "output_type": "execute_result"
    }
   ],
   "source": [
    "test2() + \"vaib\""
   ]
  },
  {
   "cell_type": "code",
   "execution_count": 15,
   "id": "e87beaf7-90f0-48f1-88a0-4acf51e4eeb3",
   "metadata": {},
   "outputs": [],
   "source": [
    "def test3():\n",
    "    return \"hello my name is vaibhav \""
   ]
  },
  {
   "cell_type": "code",
   "execution_count": 9,
   "id": "c19ea26b-ad22-42ee-9ab4-a1e2a2ca59a4",
   "metadata": {},
   "outputs": [
    {
     "data": {
      "text/plain": [
       "'hello my name is vaibhav'"
      ]
     },
     "execution_count": 9,
     "metadata": {},
     "output_type": "execute_result"
    }
   ],
   "source": [
    "test3()"
   ]
  },
  {
   "cell_type": "code",
   "execution_count": 16,
   "id": "0d90b22a-c72b-4f5a-9255-c874cf4f509f",
   "metadata": {},
   "outputs": [
    {
     "data": {
      "text/plain": [
       "'hello my name is vaibhav Akash'"
      ]
     },
     "execution_count": 16,
     "metadata": {},
     "output_type": "execute_result"
    }
   ],
   "source": [
    "test3() + \"Akash\""
   ]
  },
  {
   "cell_type": "code",
   "execution_count": 19,
   "id": "44850478-a01d-4fc6-ab3b-2e625d5d9bf8",
   "metadata": {},
   "outputs": [],
   "source": [
    "def test4():\n",
    "    return 1,4,\"vaibhav rasal\",34.56"
   ]
  },
  {
   "cell_type": "code",
   "execution_count": 20,
   "id": "02815753-5eb6-45a3-a6e9-658d023e80de",
   "metadata": {},
   "outputs": [
    {
     "data": {
      "text/plain": [
       "(1, 4, 'vaibhav rasal', 34.56)"
      ]
     },
     "execution_count": 20,
     "metadata": {},
     "output_type": "execute_result"
    }
   ],
   "source": [
    "test4()"
   ]
  },
  {
   "cell_type": "code",
   "execution_count": 21,
   "id": "ac04dab7-9ba0-43b4-9520-3767008bf79c",
   "metadata": {},
   "outputs": [],
   "source": [
    "a = 1,2,3,4,5"
   ]
  },
  {
   "cell_type": "code",
   "execution_count": 22,
   "id": "7f82d033-9f73-4e8b-b702-54fa2e9e1c68",
   "metadata": {},
   "outputs": [
    {
     "data": {
      "text/plain": [
       "(1, 2, 3, 4, 5)"
      ]
     },
     "execution_count": 22,
     "metadata": {},
     "output_type": "execute_result"
    }
   ],
   "source": [
    "a"
   ]
  },
  {
   "cell_type": "code",
   "execution_count": 25,
   "id": "ded52c04-2b7a-405c-88dc-727c712dffdc",
   "metadata": {},
   "outputs": [],
   "source": [
    "a,b,c,d = 1,2,34.56,True"
   ]
  },
  {
   "cell_type": "code",
   "execution_count": 26,
   "id": "b7b6c4bb-925c-4c53-9f9b-3840c03af826",
   "metadata": {},
   "outputs": [
    {
     "data": {
      "text/plain": [
       "1"
      ]
     },
     "execution_count": 26,
     "metadata": {},
     "output_type": "execute_result"
    }
   ],
   "source": [
    "a"
   ]
  },
  {
   "cell_type": "code",
   "execution_count": 27,
   "id": "c0de039d-944b-4baa-b018-ebb33764e565",
   "metadata": {},
   "outputs": [
    {
     "data": {
      "text/plain": [
       "2"
      ]
     },
     "execution_count": 27,
     "metadata": {},
     "output_type": "execute_result"
    }
   ],
   "source": [
    "b"
   ]
  },
  {
   "cell_type": "code",
   "execution_count": 28,
   "id": "00d11d56-f4e4-400c-8df0-f129662fb27b",
   "metadata": {},
   "outputs": [
    {
     "data": {
      "text/plain": [
       "True"
      ]
     },
     "execution_count": 28,
     "metadata": {},
     "output_type": "execute_result"
    }
   ],
   "source": [
    "d"
   ]
  },
  {
   "cell_type": "code",
   "execution_count": 31,
   "id": "b914d1db-283a-44b9-93a0-913e35726d07",
   "metadata": {},
   "outputs": [
    {
     "data": {
      "text/plain": [
       "(1, 4, 'vaibhav rasal', 34.56)"
      ]
     },
     "execution_count": 31,
     "metadata": {},
     "output_type": "execute_result"
    }
   ],
   "source": [
    "# it always print output in form of tuples\n",
    "test4()"
   ]
  },
  {
   "cell_type": "code",
   "execution_count": 35,
   "id": "0b9d813d-0e50-47a1-83bb-92d542d8f89c",
   "metadata": {},
   "outputs": [
    {
     "data": {
      "text/plain": [
       "1"
      ]
     },
     "execution_count": 35,
     "metadata": {},
     "output_type": "execute_result"
    }
   ],
   "source": [
    "test4()[0]"
   ]
  },
  {
   "cell_type": "code",
   "execution_count": 37,
   "id": "9199ca8f-9ad8-4dd0-a1ab-df6a7a2f3e6b",
   "metadata": {},
   "outputs": [
    {
     "data": {
      "text/plain": [
       "34.56"
      ]
     },
     "execution_count": 37,
     "metadata": {},
     "output_type": "execute_result"
    }
   ],
   "source": [
    "test4()[3]"
   ]
  },
  {
   "cell_type": "code",
   "execution_count": 39,
   "id": "b2e83e53-b410-4431-9f72-f9b537687e8f",
   "metadata": {},
   "outputs": [],
   "source": [
    "a,b,c,d = test4()"
   ]
  },
  {
   "cell_type": "code",
   "execution_count": 40,
   "id": "497f5b62-c9a3-48b3-b65e-a4fef89e30bb",
   "metadata": {},
   "outputs": [
    {
     "data": {
      "text/plain": [
       "34.56"
      ]
     },
     "execution_count": 40,
     "metadata": {},
     "output_type": "execute_result"
    }
   ],
   "source": [
    "d"
   ]
  },
  {
   "cell_type": "code",
   "execution_count": 41,
   "id": "df2b21af-b1a5-46f9-b8a1-30a547d17a94",
   "metadata": {},
   "outputs": [
    {
     "data": {
      "text/plain": [
       "'vaibhav rasal'"
      ]
     },
     "execution_count": 41,
     "metadata": {},
     "output_type": "execute_result"
    }
   ],
   "source": [
    "c"
   ]
  },
  {
   "cell_type": "code",
   "execution_count": 42,
   "id": "af1102da-3b8a-4359-b286-de1f9816f773",
   "metadata": {},
   "outputs": [
    {
     "data": {
      "text/plain": [
       "4"
      ]
     },
     "execution_count": 42,
     "metadata": {},
     "output_type": "execute_result"
    }
   ],
   "source": [
    "b"
   ]
  },
  {
   "cell_type": "code",
   "execution_count": 43,
   "id": "60aa6af2-e75a-45a5-a180-e356ed5e492d",
   "metadata": {},
   "outputs": [
    {
     "data": {
      "text/plain": [
       "1"
      ]
     },
     "execution_count": 43,
     "metadata": {},
     "output_type": "execute_result"
    }
   ],
   "source": [
    "a"
   ]
  },
  {
   "cell_type": "code",
   "execution_count": 4,
   "id": "4359ccc1-f36f-4572-aeff-e6f4e2dadfbb",
   "metadata": {},
   "outputs": [],
   "source": [
    "def test5():\n",
    "    a = 3*4 +5\n",
    "    return a"
   ]
  },
  {
   "cell_type": "code",
   "execution_count": 6,
   "id": "622a28e2-cd63-4256-8ff0-64295dc2c665",
   "metadata": {},
   "outputs": [
    {
     "data": {
      "text/plain": [
       "17"
      ]
     },
     "execution_count": 6,
     "metadata": {},
     "output_type": "execute_result"
    }
   ],
   "source": [
    "test5()"
   ]
  },
  {
   "cell_type": "code",
   "execution_count": 7,
   "id": "79ffae67-dfb8-4c9c-981b-12fad2fb531b",
   "metadata": {},
   "outputs": [],
   "source": [
    "def test6():\n",
    "    v = 6*6*6\n",
    "    return v"
   ]
  },
  {
   "cell_type": "code",
   "execution_count": 9,
   "id": "5dc92a72-07c9-44b6-bc16-4d79240b4b26",
   "metadata": {},
   "outputs": [
    {
     "data": {
      "text/plain": [
       "216"
      ]
     },
     "execution_count": 9,
     "metadata": {},
     "output_type": "execute_result"
    }
   ],
   "source": [
    "test6()"
   ]
  },
  {
   "cell_type": "code",
   "execution_count": 12,
   "id": "568cd5e9-28b4-49b0-ba20-f8fff8bc893d",
   "metadata": {},
   "outputs": [],
   "source": [
    "def test7():\n",
    "    h = 7*5*8\n",
    "    return h"
   ]
  },
  {
   "cell_type": "code",
   "execution_count": 13,
   "id": "913756b7-f305-4a15-af09-e3371d3c5fe7",
   "metadata": {},
   "outputs": [
    {
     "data": {
      "text/plain": [
       "280"
      ]
     },
     "execution_count": 13,
     "metadata": {},
     "output_type": "execute_result"
    }
   ],
   "source": [
    "test7()"
   ]
  },
  {
   "cell_type": "code",
   "execution_count": 14,
   "id": "d469234f-8faf-485f-b7a2-3768a1bec2b1",
   "metadata": {},
   "outputs": [],
   "source": [
    "def test8():\n",
    "    b = 6+8*7\n",
    "    return b"
   ]
  },
  {
   "cell_type": "code",
   "execution_count": 16,
   "id": "988e243d-1f64-4b78-a5c0-2749cd97bea5",
   "metadata": {},
   "outputs": [
    {
     "data": {
      "text/plain": [
       "62"
      ]
     },
     "execution_count": 16,
     "metadata": {},
     "output_type": "execute_result"
    }
   ],
   "source": [
    "test8()"
   ]
  },
  {
   "cell_type": "code",
   "execution_count": 17,
   "id": "0afa837b-5074-4697-b286-781e3fd2288c",
   "metadata": {},
   "outputs": [
    {
     "data": {
      "text/plain": [
       "int"
      ]
     },
     "execution_count": 17,
     "metadata": {},
     "output_type": "execute_result"
    }
   ],
   "source": [
    "type(test8())"
   ]
  },
  {
   "cell_type": "code",
   "execution_count": 4,
   "id": "b8860146-59d1-4df2-b4c1-65ccbe1ada08",
   "metadata": {},
   "outputs": [],
   "source": [
    "def test9(a,b):\n",
    "    c = a+b\n",
    "    return c"
   ]
  },
  {
   "cell_type": "code",
   "execution_count": 6,
   "id": "0e27a2cc-3aee-4eb2-87e9-01528b3b46c5",
   "metadata": {},
   "outputs": [
    {
     "data": {
      "text/plain": [
       "14"
      ]
     },
     "execution_count": 6,
     "metadata": {},
     "output_type": "execute_result"
    }
   ],
   "source": [
    "test9(6,8)"
   ]
  },
  {
   "cell_type": "code",
   "execution_count": 13,
   "id": "13747f54-5799-48d3-b52e-d03dd9c1dd69",
   "metadata": {},
   "outputs": [
    {
     "data": {
      "text/plain": [
       "'vaibhav rasal'"
      ]
     },
     "execution_count": 13,
     "metadata": {},
     "output_type": "execute_result"
    }
   ],
   "source": [
    "test9(\"vaibhav\", \" rasal\")"
   ]
  },
  {
   "cell_type": "code",
   "execution_count": 14,
   "id": "3f27dc84-a4e9-472e-9c96-393bff1e33ef",
   "metadata": {},
   "outputs": [
    {
     "data": {
      "text/plain": [
       "[1, 2, 3, 4, 4, 5, 6, 7, 8]"
      ]
     },
     "execution_count": 14,
     "metadata": {},
     "output_type": "execute_result"
    }
   ],
   "source": [
    "test9([1,2,3,4] , [4,5,6,7,8])"
   ]
  },
  {
   "cell_type": "code",
   "execution_count": 15,
   "id": "ccbb32da-fbcb-4bd2-b858-1d7ced667513",
   "metadata": {},
   "outputs": [
    {
     "data": {
      "text/plain": [
       "88784"
      ]
     },
     "execution_count": 15,
     "metadata": {},
     "output_type": "execute_result"
    }
   ],
   "source": [
    "test9(8908,79876)"
   ]
  },
  {
   "cell_type": "code",
   "execution_count": 16,
   "id": "654084d8-b6b6-47ad-b0c6-97ccc0c345b9",
   "metadata": {},
   "outputs": [],
   "source": [
    "def test10(a,c):\n",
    "    b = a*c\n",
    "    return b"
   ]
  },
  {
   "cell_type": "code",
   "execution_count": 18,
   "id": "62d02aed-81ac-4cc4-8d17-e73ad4fbbd9a",
   "metadata": {},
   "outputs": [
    {
     "data": {
      "text/plain": [
       "56"
      ]
     },
     "execution_count": 18,
     "metadata": {},
     "output_type": "execute_result"
    }
   ],
   "source": [
    "test10(7,8)"
   ]
  },
  {
   "cell_type": "code",
   "execution_count": 19,
   "id": "5d551b19-788a-4bad-8636-4db894c45424",
   "metadata": {},
   "outputs": [
    {
     "data": {
      "text/plain": [
       "506762889"
      ]
     },
     "execution_count": 19,
     "metadata": {},
     "output_type": "execute_result"
    }
   ],
   "source": [
    "test10(7467,67867)"
   ]
  },
  {
   "cell_type": "code",
   "execution_count": 23,
   "id": "3a3b3714-3781-490b-aadc-60ba0363b309",
   "metadata": {},
   "outputs": [
    {
     "data": {
      "text/plain": [
       "'vaibhav rasal'"
      ]
     },
     "execution_count": 23,
     "metadata": {},
     "output_type": "execute_result"
    }
   ],
   "source": [
    "test9(a = \"vaibhav\", b = \" rasal\")"
   ]
  },
  {
   "cell_type": "code",
   "execution_count": 1,
   "id": "e4259335-8179-43fc-9e4d-7c335e854730",
   "metadata": {},
   "outputs": [],
   "source": [
    "def my_function():\n",
    "    print(\"hare krishna\")"
   ]
  },
  {
   "cell_type": "code",
   "execution_count": 3,
   "id": "3364b727-a5c6-4c6a-99ec-f69982f8e51b",
   "metadata": {},
   "outputs": [
    {
     "name": "stdout",
     "output_type": "stream",
     "text": [
      "hare krishna\n"
     ]
    }
   ],
   "source": [
    "my_function()"
   ]
  },
  {
   "cell_type": "code",
   "execution_count": 7,
   "id": "6ef7787b-8031-48b9-9e67-800a034c556e",
   "metadata": {},
   "outputs": [
    {
     "name": "stdout",
     "output_type": "stream",
     "text": [
      "Email Reference\n",
      "name Reference\n",
      "branch Reference\n"
     ]
    }
   ],
   "source": [
    "def my_function(fname):\n",
    "    print(fname + \" Reference\")\n",
    "my_function(\"Email\")\n",
    "my_function(\"name\")\n",
    "my_function(\"branch\")"
   ]
  },
  {
   "cell_type": "code",
   "execution_count": 5,
   "id": "be4afb9d-5ea4-4f7d-894d-bb90e8dd77dd",
   "metadata": {},
   "outputs": [
    {
     "name": "stdout",
     "output_type": "stream",
     "text": [
      "Vaibhav Rasal\n"
     ]
    }
   ],
   "source": [
    "def my_function(name, surname):\n",
    "    print(name + surname)\n",
    "my_function(\"Vaibhav\", \" Rasal\")"
   ]
  },
  {
   "cell_type": "code",
   "execution_count": null,
   "id": "d1b7bb5b-1954-4a4a-99f1-557bb8c94ab2",
   "metadata": {},
   "outputs": [],
   "source": [
    "# create a function which will take list as a input and give me a final list with all the numeric value"
   ]
  },
  {
   "cell_type": "code",
   "execution_count": 6,
   "id": "257c9b37-8960-4d71-af16-01826b5d65f1",
   "metadata": {},
   "outputs": [],
   "source": [
    "l = [1,2,3,4,5,\"sudh\", \"pwskills\", [1,2,3,45,67]]"
   ]
  },
  {
   "cell_type": "code",
   "execution_count": 10,
   "id": "da642084-0446-4c4e-864e-ea687b3c8f92",
   "metadata": {},
   "outputs": [],
   "source": [
    "def test13(a):\n",
    "    n = []\n",
    "    for i in a :\n",
    "        if type(i) == int or type(i) == float :\n",
    "            n.append(i)\n",
    "    return n   "
   ]
  },
  {
   "cell_type": "code",
   "execution_count": 11,
   "id": "95b6a4ff-042d-457e-b536-f02e7a1377b0",
   "metadata": {},
   "outputs": [
    {
     "data": {
      "text/plain": [
       "[1, 2, 3, 4, 5]"
      ]
     },
     "execution_count": 11,
     "metadata": {},
     "output_type": "execute_result"
    }
   ],
   "source": [
    "test13(l)"
   ]
  },
  {
   "cell_type": "code",
   "execution_count": 17,
   "id": "52d28109-c3a7-4293-9c51-7e00490d4963",
   "metadata": {},
   "outputs": [],
   "source": [
    "def test14(a) :\n",
    "    n = []\n",
    "    for i in a :\n",
    "        if type(i) == list :\n",
    "            for j in i :\n",
    "                if type(j) == int or type(j) == float :\n",
    "                    n.append(j)\n",
    "        else :\n",
    "            if type(i) == int or type(i) == float :\n",
    "                n.append(i)\n",
    "    return n"
   ]
  },
  {
   "cell_type": "code",
   "execution_count": 18,
   "id": "f8af634e-cb8b-4bb4-bd4b-5f26c714b946",
   "metadata": {},
   "outputs": [
    {
     "data": {
      "text/plain": [
       "[1, 2, 3, 4, 5, 1, 2, 3, 45, 67]"
      ]
     },
     "execution_count": 18,
     "metadata": {},
     "output_type": "execute_result"
    }
   ],
   "source": [
    "test14(l)"
   ]
  },
  {
   "cell_type": "code",
   "execution_count": 16,
   "id": "a24a0562-f0c1-4982-adbb-4fd59b675966",
   "metadata": {},
   "outputs": [
    {
     "data": {
      "text/plain": [
       "[1, 2, 3, 4, 5, 'sudh', 'pwskills', [1, 2, 3, 45, 67]]"
      ]
     },
     "execution_count": 16,
     "metadata": {},
     "output_type": "execute_result"
    }
   ],
   "source": [
    "l"
   ]
  },
  {
   "cell_type": "code",
   "execution_count": 19,
   "id": "349c73ea-d717-4e49-8192-424019975b8e",
   "metadata": {},
   "outputs": [],
   "source": [
    "## Code With Harry"
   ]
  },
  {
   "cell_type": "code",
   "execution_count": 21,
   "id": "449c090f-200c-4d13-b522-47b901e64c4b",
   "metadata": {},
   "outputs": [
    {
     "name": "stdout",
     "output_type": "stream",
     "text": [
      "3.9375\n"
     ]
    }
   ],
   "source": [
    "a = 7\n",
    "b = 9\n",
    "gmean = (a*b) / (a+b)\n",
    "print(gmean)"
   ]
  },
  {
   "cell_type": "code",
   "execution_count": 25,
   "id": "f6026aa7-0e80-4aca-b3a6-412c602c97a0",
   "metadata": {},
   "outputs": [
    {
     "name": "stdout",
     "output_type": "stream",
     "text": [
      "3.4285714285714284\n",
      "3.6363636363636362\n"
     ]
    }
   ],
   "source": [
    "a = 8\n",
    "b = 6\n",
    "gmean1 = (a*b) / (a+b)\n",
    "print(gmean1)\n",
    "\n",
    "c = 5\n",
    "d = 8\n",
    "gmean2 = (c*d) / (c+b)\n",
    "print(gmean2)"
   ]
  },
  {
   "cell_type": "code",
   "execution_count": 33,
   "id": "52f7e732-fed1-45ef-b060-21e6775203ee",
   "metadata": {},
   "outputs": [
    {
     "name": "stdout",
     "output_type": "stream",
     "text": [
      "First number is greater\n",
      "3.4285714285714284\n",
      "Second number is greater\n",
      "3.6363636363636362\n"
     ]
    }
   ],
   "source": [
    "# in this below statement we create a function randomly. instead of repeat pricedure of writing code we can create function for same task.\n",
    "def CalculateGmean(a,b):\n",
    "    mean = (a*b) / (a+b)\n",
    "    print(mean)\n",
    "\n",
    "a = 8\n",
    "b = 6\n",
    "if (a>b):\n",
    "    print(\"First number is greater\")\n",
    "else:\n",
    "    print(\"second number is great\")\n",
    "\n",
    "CalculateGmean\n",
    "print(gmean1)\n",
    "\n",
    "c = 5\n",
    "d = 8\n",
    "if (c>d):\n",
    "    print(\"First number is greater\")\n",
    "else:\n",
    "    print(\"Second number is greater\")\n",
    "CalculateGmean\n",
    "print(gmean2)"
   ]
  },
  {
   "cell_type": "code",
   "execution_count": 2,
   "id": "8cb1fe96-7aa1-4c2f-8090-ba01490fbc11",
   "metadata": {},
   "outputs": [],
   "source": [
    "def Argu(a,b,c,d,e):\n",
    "    pass"
   ]
  },
  {
   "cell_type": "code",
   "execution_count": 3,
   "id": "4d66b16a-7378-47cd-a856-276c6aab5a9b",
   "metadata": {},
   "outputs": [
    {
     "ename": "TypeError",
     "evalue": "Argu() takes 5 positional arguments but 8 were given",
     "output_type": "error",
     "traceback": [
      "\u001b[0;31m---------------------------------------------------------------------------\u001b[0m",
      "\u001b[0;31mTypeError\u001b[0m                                 Traceback (most recent call last)",
      "Cell \u001b[0;32mIn[3], line 1\u001b[0m\n\u001b[0;32m----> 1\u001b[0m \u001b[43mArgu\u001b[49m\u001b[43m(\u001b[49m\u001b[38;5;241;43m1\u001b[39;49m\u001b[43m,\u001b[49m\u001b[38;5;241;43m2\u001b[39;49m\u001b[43m,\u001b[49m\u001b[38;5;241;43m3\u001b[39;49m\u001b[43m,\u001b[49m\u001b[38;5;241;43m4\u001b[39;49m\u001b[43m,\u001b[49m\u001b[38;5;241;43m4\u001b[39;49m\u001b[43m,\u001b[49m\u001b[38;5;241;43m4\u001b[39;49m\u001b[43m,\u001b[49m\u001b[38;5;241;43m5\u001b[39;49m\u001b[43m,\u001b[49m\u001b[38;5;241;43m5\u001b[39;49m\u001b[43m)\u001b[49m\n",
      "\u001b[0;31mTypeError\u001b[0m: Argu() takes 5 positional arguments but 8 were given"
     ]
    }
   ],
   "source": [
    "Argu(1,2,3,4,4,4,5,5)"
   ]
  },
  {
   "cell_type": "code",
   "execution_count": null,
   "id": "2f700310-eea9-478f-b846-4ff39f27766d",
   "metadata": {},
   "outputs": [],
   "source": [
    "# here * (star) is called staric"
   ]
  },
  {
   "cell_type": "code",
   "execution_count": 4,
   "id": "5fba44ae-2341-47d6-af95-897ed2b78b11",
   "metadata": {},
   "outputs": [],
   "source": [
    "def Argu(*Numbers):\n",
    "    return Numbers"
   ]
  },
  {
   "cell_type": "code",
   "execution_count": 1,
   "id": "9798be29-b7b1-4c7f-8589-3da40c5594ec",
   "metadata": {},
   "outputs": [],
   "source": [
    "# we can write any word next to star\n",
    "def test2(*vaibhav):\n",
    "    return vaibhav"
   ]
  },
  {
   "cell_type": "code",
   "execution_count": 2,
   "id": "57fd6cf1-fcd1-42f1-a2cb-b5656c0f1b1d",
   "metadata": {},
   "outputs": [
    {
     "data": {
      "text/plain": [
       "('pune', 'is', 'big', 'city')"
      ]
     },
     "execution_count": 2,
     "metadata": {},
     "output_type": "execute_result"
    }
   ],
   "source": [
    "test2(\"pune\", \"is\", \"big\", \"city\")"
   ]
  },
  {
   "cell_type": "code",
   "execution_count": 6,
   "id": "abf17b90-092f-4a52-9dff-894038c8b8d9",
   "metadata": {},
   "outputs": [
    {
     "data": {
      "text/plain": [
       "(1, 2, 3, 4, 5, 5, 6, 3, 5, 5)"
      ]
     },
     "execution_count": 6,
     "metadata": {},
     "output_type": "execute_result"
    }
   ],
   "source": [
    "Argu(1,2,3,4,5,5,6,3,5,5)"
   ]
  },
  {
   "cell_type": "code",
   "execution_count": 7,
   "id": "77f0e77e-e595-4db7-a927-abb7b9ab9a40",
   "metadata": {},
   "outputs": [
    {
     "data": {
      "text/plain": [
       "('string', 1, 2, 3, 34, (1, 2, 3, 4, 4), [2, 3, 4, 56])"
      ]
     },
     "execution_count": 7,
     "metadata": {},
     "output_type": "execute_result"
    }
   ],
   "source": [
    "Argu(\"string\",1,2,3,34, (1,2,3,4,4,), [2,3,4,56] )"
   ]
  },
  {
   "cell_type": "code",
   "execution_count": 25,
   "id": "b156b425-7229-45cf-97be-ca7274efd806",
   "metadata": {},
   "outputs": [],
   "source": [
    "def test(*argu , a ):\n",
    "    return argu ,a"
   ]
  },
  {
   "cell_type": "code",
   "execution_count": 26,
   "id": "320953a5-9a8e-4202-a706-27bf0c711165",
   "metadata": {},
   "outputs": [
    {
     "data": {
      "text/plain": [
       "((23, 4, 3, 4, 3, 2), 'param')"
      ]
     },
     "execution_count": 26,
     "metadata": {},
     "output_type": "execute_result"
    }
   ],
   "source": [
    "test(23,4,3,4,3,2 ,a = \"param\")"
   ]
  },
  {
   "cell_type": "code",
   "execution_count": 29,
   "id": "0ca3aab5-e12b-4dfc-8396-dcc4884b592d",
   "metadata": {},
   "outputs": [],
   "source": [
    "# append function is used to add one more element in the list\n",
    "def test1(*args):\n",
    "    l = []\n",
    "    for i in args:\n",
    "        if type(i) == list : \n",
    "            l.append(i)\n",
    "    return l"
   ]
  },
  {
   "cell_type": "code",
   "execution_count": 28,
   "id": "e5f949de-24b6-4868-94b6-c080d5c77377",
   "metadata": {},
   "outputs": [
    {
     "data": {
      "text/plain": [
       "[[2, 4, 54, 6, 3, 3]]"
      ]
     },
     "execution_count": 28,
     "metadata": {},
     "output_type": "execute_result"
    }
   ],
   "source": [
    "test1(1,2,3,4, [2,4,54,6,3,3], (\"amar\"))"
   ]
  },
  {
   "cell_type": "code",
   "execution_count": 30,
   "id": "aa961903-26be-401d-92b8-6475a7973385",
   "metadata": {},
   "outputs": [],
   "source": [
    "def test2(*args):\n",
    "    l = []\n",
    "    for i in args:\n",
    "        if type(i) == list :\n",
    "            l.append(i)\n",
    "    return l"
   ]
  },
  {
   "cell_type": "code",
   "execution_count": 32,
   "id": "db3bba07-b090-4010-b70e-a3be05478831",
   "metadata": {},
   "outputs": [
    {
     "data": {
      "text/plain": [
       "[[22, 34, 3, 42, 24, 1, 4, 4],\n",
       " [34, 4, 4, 3, 2, 3, 4, 4, 3],\n",
       " [43, 4, 5, 3, 3, 3, 3]]"
      ]
     },
     "execution_count": 32,
     "metadata": {},
     "output_type": "execute_result"
    }
   ],
   "source": [
    "test2(232,2,3,3,2,1, [22,34,3,42,24,1,4,4],[34,4,4,3,2,3,4,4,3],[43,4,5,3,3,3,3])"
   ]
  },
  {
   "cell_type": "code",
   "execution_count": null,
   "id": "016f4b41-f734-41bd-aa93-2631f6c5e10a",
   "metadata": {},
   "outputs": [],
   "source": [
    "# for the dictonary we use **(double stars)"
   ]
  },
  {
   "cell_type": "code",
   "execution_count": 37,
   "id": "770cb248-1b5f-4288-80bd-8e070532d2d4",
   "metadata": {},
   "outputs": [],
   "source": [
    "def test3(** kvargs):\n",
    "    return kvargs"
   ]
  },
  {
   "cell_type": "code",
   "execution_count": 38,
   "id": "19607959-7496-4b32-8754-aff26fbbe660",
   "metadata": {},
   "outputs": [
    {
     "data": {
      "text/plain": [
       "{}"
      ]
     },
     "execution_count": 38,
     "metadata": {},
     "output_type": "execute_result"
    }
   ],
   "source": [
    "test3()"
   ]
  },
  {
   "cell_type": "code",
   "execution_count": 39,
   "id": "3a77f733-30ec-4867-828a-140e7d1417f4",
   "metadata": {},
   "outputs": [
    {
     "data": {
      "text/plain": [
       "{'a': 22, 'b': 43, 'c': [4, 3, 2, 4, 2], 'd': ('vaib', 'rasal')}"
      ]
     },
     "execution_count": 39,
     "metadata": {},
     "output_type": "execute_result"
    }
   ],
   "source": [
    "test3(a=22, b=43, c= [4,3,2,4,2], d= (\"vaib\", \"rasal\"))"
   ]
  },
  {
   "cell_type": "code",
   "execution_count": 55,
   "id": "6a2907fe-3573-4c59-a20c-fd18581a56c9",
   "metadata": {},
   "outputs": [],
   "source": [
    "def test4(** kvargs):\n",
    "    for i in kvargs.keys():\n",
    "        if type(kvargs[i] ) == list :\n",
    "            return i , kvargs[i]"
   ]
  },
  {
   "cell_type": "code",
   "execution_count": 56,
   "id": "01729e60-7703-4b96-91d4-543609ca44db",
   "metadata": {},
   "outputs": [
    {
     "data": {
      "text/plain": [
       "('c', [4, 3, 2, 4, 2])"
      ]
     },
     "execution_count": 56,
     "metadata": {},
     "output_type": "execute_result"
    }
   ],
   "source": [
    "test4(a = 22 , b = 43 , c = [4,3,2,4,2], d = (\"vaib\" , \"rasal\")) "
   ]
  },
  {
   "cell_type": "code",
   "execution_count": 1,
   "id": "1e9a80ea-b83f-432c-b805-fe422cc3d4cf",
   "metadata": {},
   "outputs": [],
   "source": [
    "def test5(**kvargs):\n",
    "    return args , kvargs"
   ]
  },
  {
   "cell_type": "code",
   "execution_count": 5,
   "id": "1e26d6e7-bde6-48d1-b285-cfa27794964a",
   "metadata": {},
   "outputs": [
    {
     "ename": "TypeError",
     "evalue": "test5() takes 0 positional arguments but 4 were given",
     "output_type": "error",
     "traceback": [
      "\u001b[0;31m---------------------------------------------------------------------------\u001b[0m",
      "\u001b[0;31mTypeError\u001b[0m                                 Traceback (most recent call last)",
      "Cell \u001b[0;32mIn[5], line 1\u001b[0m\n\u001b[0;32m----> 1\u001b[0m \u001b[43mtest5\u001b[49m\u001b[43m(\u001b[49m\u001b[38;5;241;43m2\u001b[39;49m\u001b[43m,\u001b[49m\u001b[38;5;241;43m3\u001b[39;49m\u001b[43m,\u001b[49m\u001b[38;5;241;43m4\u001b[39;49m\u001b[43m,\u001b[49m\u001b[38;5;241;43m5\u001b[39;49m\u001b[43m,\u001b[49m\u001b[43m \u001b[49m\u001b[43ma\u001b[49m\u001b[38;5;241;43m=\u001b[39;49m\u001b[43m \u001b[49m\u001b[38;5;241;43m32\u001b[39;49m\u001b[43m,\u001b[49m\u001b[43m \u001b[49m\u001b[43mb\u001b[49m\u001b[38;5;241;43m=\u001b[39;49m\u001b[43m \u001b[49m\u001b[38;5;241;43m23\u001b[39;49m\u001b[43m)\u001b[49m\n",
      "\u001b[0;31mTypeError\u001b[0m: test5() takes 0 positional arguments but 4 were given"
     ]
    }
   ],
   "source": [
    "test5(2,3,4,5, a= 32, b= 23)"
   ]
  },
  {
   "cell_type": "markdown",
   "id": "843873f2-c6a4-47c7-a283-a5aa22f36383",
   "metadata": {},
   "source": [
    "### Generator Function"
   ]
  },
  {
   "cell_type": "code",
   "execution_count": 6,
   "id": "e800c3d1-2d9e-4302-9d77-fefeb3ad5e0b",
   "metadata": {},
   "outputs": [
    {
     "data": {
      "text/plain": [
       "range(1, 10)"
      ]
     },
     "execution_count": 6,
     "metadata": {},
     "output_type": "execute_result"
    }
   ],
   "source": [
    "range(1,10)"
   ]
  },
  {
   "cell_type": "code",
   "execution_count": 7,
   "id": "0826874d-6150-4295-a033-5f48093f34ac",
   "metadata": {},
   "outputs": [
    {
     "name": "stdout",
     "output_type": "stream",
     "text": [
      "1\n",
      "2\n",
      "3\n",
      "4\n",
      "5\n",
      "6\n",
      "7\n",
      "8\n",
      "9\n"
     ]
    }
   ],
   "source": [
    "for i in range(1,10):\n",
    "    print(i)\n"
   ]
  },
  {
   "cell_type": "code",
   "execution_count": 39,
   "id": "5c66fcc8-ce18-41b1-922d-41ec3b53904e",
   "metadata": {},
   "outputs": [],
   "source": [
    "l = [1,2,3,4,5,5,6,7,8,8,\"sudh\" , \"pwskills\"]"
   ]
  },
  {
   "cell_type": "code",
   "execution_count": 40,
   "id": "866da202-1373-4b33-91b5-3e241e45d600",
   "metadata": {},
   "outputs": [],
   "source": [
    "def test1(a) :\n",
    "    n = []\n",
    "    for i in a :\n",
    "        if type(i) == int :\n",
    "            n.append(i)\n",
    "    return n"
   ]
  },
  {
   "cell_type": "code",
   "execution_count": 45,
   "id": "2dfbf4e0-5bce-40f5-b684-d94fe61defbc",
   "metadata": {},
   "outputs": [
    {
     "data": {
      "text/plain": [
       "[1, 2, 3, 4, 5, 5, 6, 7, 8, 8]"
      ]
     },
     "execution_count": 45,
     "metadata": {},
     "output_type": "execute_result"
    }
   ],
   "source": [
    "test1(l)"
   ]
  },
  {
   "cell_type": "markdown",
   "id": "c36834fb-3aa3-4c9d-8727-90445e2a8b1e",
   "metadata": {},
   "source": [
    "#### Fibonacci Series"
   ]
  },
  {
   "cell_type": "code",
   "execution_count": 48,
   "id": "164c092a-a216-4920-a03e-b21e4e988607",
   "metadata": {},
   "outputs": [],
   "source": [
    "def test_fib(n):\n",
    "    a,b = 0,1\n",
    "    for i in range(n):\n",
    "        yield a\n",
    "        a,b = b, a+b "
   ]
  },
  {
   "cell_type": "code",
   "execution_count": 49,
   "id": "c6dde0d2-b627-49b2-a1c3-fd6a4294fd4c",
   "metadata": {},
   "outputs": [
    {
     "data": {
      "text/plain": [
       "<generator object test_fib at 0x7f0944c320a0>"
      ]
     },
     "execution_count": 49,
     "metadata": {},
     "output_type": "execute_result"
    }
   ],
   "source": [
    "test_fib(10)"
   ]
  },
  {
   "cell_type": "code",
   "execution_count": 50,
   "id": "63b4b1e0-2e8f-4844-bf22-eadadf280cbf",
   "metadata": {},
   "outputs": [
    {
     "name": "stdout",
     "output_type": "stream",
     "text": [
      "0\n",
      "1\n",
      "1\n",
      "2\n",
      "3\n",
      "5\n",
      "8\n",
      "13\n",
      "21\n",
      "34\n"
     ]
    }
   ],
   "source": [
    "for i in test_fib(10):\n",
    "    print(i)"
   ]
  },
  {
   "cell_type": "code",
   "execution_count": null,
   "id": "bc00dd57-0e4a-4283-bc4f-00cafc6d835f",
   "metadata": {},
   "outputs": [],
   "source": []
  }
 ],
 "metadata": {
  "kernelspec": {
   "display_name": "Python 3 (ipykernel)",
   "language": "python",
   "name": "python3"
  },
  "language_info": {
   "codemirror_mode": {
    "name": "ipython",
    "version": 3
   },
   "file_extension": ".py",
   "mimetype": "text/x-python",
   "name": "python",
   "nbconvert_exporter": "python",
   "pygments_lexer": "ipython3",
   "version": "3.10.8"
  }
 },
 "nbformat": 4,
 "nbformat_minor": 5
}
