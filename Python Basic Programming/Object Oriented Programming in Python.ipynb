{
 "cells": [
  {
   "cell_type": "markdown",
   "id": "2bb22140-8551-42bb-b44f-f77c3e493b6b",
   "metadata": {},
   "source": [
    "## Object Oriented Programming"
   ]
  },
  {
   "cell_type": "markdown",
   "id": "58add7a2-d0e6-4e41-b104-0f645f8705bc",
   "metadata": {},
   "source": [
    "basically oops are created to handle different types of python files. also it create to get easy for edit, modify,recognize etc.\n",
    "In oops modules divided in different classes"
   ]
  },
  {
   "cell_type": "code",
   "execution_count": 1,
   "id": "f3c61910-4d2d-4ca9-8e2c-d47ea7b2f0d4",
   "metadata": {},
   "outputs": [],
   "source": [
    "class test:\n",
    "    pass"
   ]
  },
  {
   "cell_type": "code",
   "execution_count": 2,
   "id": "858be0e3-7b16-423a-9adb-044b894f8ccf",
   "metadata": {},
   "outputs": [],
   "source": [
    "a = test()"
   ]
  },
  {
   "cell_type": "code",
   "execution_count": 3,
   "id": "2d7effaf-450c-4781-b8be-0131b4db5597",
   "metadata": {},
   "outputs": [
    {
     "data": {
      "text/plain": [
       "__main__.test"
      ]
     },
     "execution_count": 3,
     "metadata": {},
     "output_type": "execute_result"
    }
   ],
   "source": [
    "type(a)"
   ]
  },
  {
   "cell_type": "code",
   "execution_count": 4,
   "id": "49f67e40-82e8-4469-9a74-b0a8897fd578",
   "metadata": {},
   "outputs": [
    {
     "data": {
      "text/plain": [
       "__main__.module"
      ]
     },
     "execution_count": 4,
     "metadata": {},
     "output_type": "execute_result"
    }
   ],
   "source": [
    "class module:\n",
    "    pass\n",
    "a = module()\n",
    "type(a)"
   ]
  },
  {
   "cell_type": "code",
   "execution_count": 7,
   "id": "0f0286b6-b882-42ce-89ac-3280e7b2f13b",
   "metadata": {},
   "outputs": [
    {
     "name": "stdout",
     "output_type": "stream",
     "text": [
      "<class '__main__.name'>\n"
     ]
    }
   ],
   "source": [
    "class name:\n",
    "    pass\n",
    "b = name()\n",
    "print(type(b))"
   ]
  },
  {
   "cell_type": "markdown",
   "id": "e89c3150-859b-4786-be71-e02760918587",
   "metadata": {},
   "source": [
    "# "
   ]
  },
  {
   "cell_type": "code",
   "execution_count": 8,
   "id": "00f06be3-08e6-43ac-b346-9a0157387aea",
   "metadata": {},
   "outputs": [],
   "source": [
    "class pune:\n",
    "    \n",
    "    def welcome_msg(self):\n",
    "        print(\"welcome to pune\")"
   ]
  },
  {
   "cell_type": "code",
   "execution_count": 10,
   "id": "8e8e2409-4b3f-47a8-9e69-5c6f812f8083",
   "metadata": {},
   "outputs": [],
   "source": [
    "vaibhav = pune()"
   ]
  },
  {
   "cell_type": "code",
   "execution_count": 11,
   "id": "e1cb5238-6ea2-4fde-8196-fb7054da96e2",
   "metadata": {},
   "outputs": [
    {
     "name": "stdout",
     "output_type": "stream",
     "text": [
      "welcome to pune\n"
     ]
    }
   ],
   "source": [
    "vaibhav.welcome_msg()"
   ]
  },
  {
   "cell_type": "code",
   "execution_count": 12,
   "id": "339f06bb-a319-4b09-af16-03ad745663cc",
   "metadata": {},
   "outputs": [],
   "source": [
    "avinash = pune()"
   ]
  },
  {
   "cell_type": "code",
   "execution_count": 13,
   "id": "e470d6b9-9167-44f8-b395-8fd6e587646a",
   "metadata": {},
   "outputs": [
    {
     "name": "stdout",
     "output_type": "stream",
     "text": [
      "welcome to pune\n"
     ]
    }
   ],
   "source": [
    "avinash.welcome_msg()"
   ]
  },
  {
   "cell_type": "code",
   "execution_count": 15,
   "id": "52058060-1371-4719-a284-3230324cb83e",
   "metadata": {},
   "outputs": [],
   "source": [
    "dhiraj = pune()"
   ]
  },
  {
   "cell_type": "code",
   "execution_count": 16,
   "id": "c0bf260a-a83e-4d6e-9553-c6902850fe01",
   "metadata": {},
   "outputs": [
    {
     "name": "stdout",
     "output_type": "stream",
     "text": [
      "welcome to pune\n"
     ]
    }
   ],
   "source": [
    "dhiraj.welcome_msg()"
   ]
  },
  {
   "cell_type": "code",
   "execution_count": 3,
   "id": "6e191663-9fee-4e65-8800-3c95d9768556",
   "metadata": {},
   "outputs": [],
   "source": [
    "class welcome:\n",
    "    \n",
    "    def welcome_msg_1(self):\n",
    "        print(\"Welcome to Maharashtra\")"
   ]
  },
  {
   "cell_type": "code",
   "execution_count": 5,
   "id": "aa2c7dfd-640c-4646-b2d7-3c724d8d6f61",
   "metadata": {},
   "outputs": [],
   "source": [
    "ramesh = welcome()"
   ]
  },
  {
   "cell_type": "code",
   "execution_count": 6,
   "id": "f1ab84f7-d4d8-4fff-a42b-90626627889a",
   "metadata": {},
   "outputs": [
    {
     "name": "stdout",
     "output_type": "stream",
     "text": [
      "Welcome to Maharashtra\n"
     ]
    }
   ],
   "source": [
    "ramesh.welcome_msg_1()"
   ]
  },
  {
   "cell_type": "code",
   "execution_count": 1,
   "id": "08ca37a4-9ed1-413b-8ab7-d6fc19cdc236",
   "metadata": {},
   "outputs": [],
   "source": [
    "class pwskills:\n",
    "    \n",
    "    def __init__(self, phone_number, email_id, student_id):\n",
    "        \n",
    "        self.phone_number = phone_number\n",
    "        self.email_id = email_id\n",
    "        self.student_id = student_id\n",
    "        \n",
    "    def return_student_details(self):\n",
    "        return self.phone_number, self.email_id, self.student_id"
   ]
  },
  {
   "cell_type": "code",
   "execution_count": 3,
   "id": "497d4e28-fb33-4212-8214-61ad3a0f0253",
   "metadata": {},
   "outputs": [],
   "source": [
    "vaibhav = pwskills(9322930375, \"rasalvaibhavsanjay@gmail.com\", 1234)"
   ]
  },
  {
   "cell_type": "code",
   "execution_count": 9,
   "id": "11e61dfd-eb46-414c-ae73-072078a0d12d",
   "metadata": {},
   "outputs": [],
   "source": [
    "dhiraj = pwskills(874893893, \"hdfgsdhsis\", 8478)"
   ]
  },
  {
   "cell_type": "code",
   "execution_count": 10,
   "id": "a6239bdf-cf45-4827-ad73-ce9d7ffa13c9",
   "metadata": {},
   "outputs": [
    {
     "data": {
      "text/plain": [
       "9322930375"
      ]
     },
     "execution_count": 10,
     "metadata": {},
     "output_type": "execute_result"
    }
   ],
   "source": [
    "vaibhav.phone_number"
   ]
  },
  {
   "cell_type": "code",
   "execution_count": 11,
   "id": "57e18980-6eeb-455a-a87d-b995c4e7b757",
   "metadata": {},
   "outputs": [
    {
     "data": {
      "text/plain": [
       "'hdfgsdhsis'"
      ]
     },
     "execution_count": 11,
     "metadata": {},
     "output_type": "execute_result"
    }
   ],
   "source": [
    "dhiraj.email_id"
   ]
  },
  {
   "cell_type": "code",
   "execution_count": 12,
   "id": "ee184225-7432-45a5-8991-cc368f6ba717",
   "metadata": {},
   "outputs": [],
   "source": [
    "vikas = pwskills(989808098,\"hjbhyghbhjbh\",76789)"
   ]
  },
  {
   "cell_type": "code",
   "execution_count": 13,
   "id": "e757d340-bb65-4c97-b2cd-3f0f919ceb83",
   "metadata": {},
   "outputs": [
    {
     "data": {
      "text/plain": [
       "76789"
      ]
     },
     "execution_count": 13,
     "metadata": {},
     "output_type": "execute_result"
    }
   ],
   "source": [
    "vikas.student_id"
   ]
  },
  {
   "cell_type": "code",
   "execution_count": 7,
   "id": "e2361f8d-852b-43b0-b0cf-387c991306c8",
   "metadata": {},
   "outputs": [],
   "source": [
    "class anurag_hostel:\n",
    "    \n",
    "    def __init__(self, room_number, branch, payment_status, phone_number):\n",
    "        \n",
    "        self.room_number = room_number\n",
    "        self.branch = branch\n",
    "        self.payment_status = payment_status\n",
    "        self.phone_number = phone_number\n",
    "        \n",
    "    def hostel_students_details(self):\n",
    "        return self.room_number, self.branch, self.payment_status, self.phone_number       "
   ]
  },
  {
   "cell_type": "code",
   "execution_count": 8,
   "id": "df89158c-81ff-4704-a0b9-ce43fbe2707c",
   "metadata": {},
   "outputs": [],
   "source": [
    "vaibhav = anurag_hostel(17, \"Robotics And Automation\", \"payment done\", 9322930375)"
   ]
  },
  {
   "cell_type": "code",
   "execution_count": 10,
   "id": "03b507ff-1007-4a66-9c69-ffc57ab47dac",
   "metadata": {},
   "outputs": [
    {
     "data": {
      "text/plain": [
       "'payment done'"
      ]
     },
     "execution_count": 10,
     "metadata": {},
     "output_type": "execute_result"
    }
   ],
   "source": [
    "vaibhav.payment_status"
   ]
  },
  {
   "cell_type": "code",
   "execution_count": 11,
   "id": "c7d0a67f-1203-499d-85dc-a1e7c76f857c",
   "metadata": {},
   "outputs": [
    {
     "data": {
      "text/plain": [
       "9322930375"
      ]
     },
     "execution_count": 11,
     "metadata": {},
     "output_type": "execute_result"
    }
   ],
   "source": [
    "vaibhav.phone_number"
   ]
  },
  {
   "cell_type": "code",
   "execution_count": 12,
   "id": "97124688-0b95-47e1-84c4-dab4a46dc72f",
   "metadata": {},
   "outputs": [],
   "source": [
    "dhiraj = anurag_hostel(18, \"Information Technology\", \"payment done\", 747878727362)"
   ]
  },
  {
   "cell_type": "code",
   "execution_count": 14,
   "id": "74e74c3a-64e0-46b5-a489-f8f14ae1195d",
   "metadata": {},
   "outputs": [
    {
     "data": {
      "text/plain": [
       "'Information Technology'"
      ]
     },
     "execution_count": 14,
     "metadata": {},
     "output_type": "execute_result"
    }
   ],
   "source": [
    "dhiraj.branch"
   ]
  },
  {
   "cell_type": "code",
   "execution_count": 15,
   "id": "a2591e21-6b29-4700-ad20-b468f34f713e",
   "metadata": {},
   "outputs": [
    {
     "data": {
      "text/plain": [
       "'payment done'"
      ]
     },
     "execution_count": 15,
     "metadata": {},
     "output_type": "execute_result"
    }
   ],
   "source": [
    "dhiraj.payment_status"
   ]
  },
  {
   "cell_type": "code",
   "execution_count": 16,
   "id": "e77a90c7-59f0-482a-a920-0547c8078af5",
   "metadata": {},
   "outputs": [
    {
     "data": {
      "text/plain": [
       "18"
      ]
     },
     "execution_count": 16,
     "metadata": {},
     "output_type": "execute_result"
    }
   ],
   "source": [
    "dhiraj.room_number"
   ]
  },
  {
   "cell_type": "code",
   "execution_count": 22,
   "id": "b13878f1-d311-4355-b369-df4f0e5b1ec3",
   "metadata": {},
   "outputs": [],
   "source": [
    "class flytbase:\n",
    "    \n",
    "    def __init__(self, employee_id, department, salary, blood_group, experience):\n",
    "        \n",
    "        self.employee_id = employee_id\n",
    "        self.department = department\n",
    "        self.salary = salary\n",
    "        self.blood_group = blood_group\n",
    "        self.experience = experience\n",
    "        \n",
    "    def flytbase_employee_info(self):\n",
    "        self.employee_id, self.department, self.salary, self.blood_group, self.experience"
   ]
  },
  {
   "cell_type": "code",
   "execution_count": 27,
   "id": "0f3db2dd-07f8-4edf-92e2-b1888163ccb1",
   "metadata": {},
   "outputs": [],
   "source": [
    "vishal = flytbase(6372, \"HR Department\", 56000, \"AB+\", \"3 Years\")"
   ]
  },
  {
   "cell_type": "code",
   "execution_count": 29,
   "id": "3ae0337f-fc19-40fe-9e54-b91d2ddc6b53",
   "metadata": {},
   "outputs": [],
   "source": [
    "ganesh = flytbase(76368, \"Design Department\", 673672, \"O+\", \"4 Years\")"
   ]
  },
  {
   "cell_type": "code",
   "execution_count": 30,
   "id": "bfe2d327-0c27-4765-83b3-6689557678b9",
   "metadata": {},
   "outputs": [],
   "source": [
    "rahul = flytbase(63723, \"Creative designer\" , 72372, \"B+\", \"5 Years\")"
   ]
  },
  {
   "cell_type": "code",
   "execution_count": 31,
   "id": "32387753-7a13-45e4-8988-cc6bac440807",
   "metadata": {},
   "outputs": [
    {
     "data": {
      "text/plain": [
       "6372"
      ]
     },
     "execution_count": 31,
     "metadata": {},
     "output_type": "execute_result"
    }
   ],
   "source": [
    "vishal.employee_id"
   ]
  },
  {
   "cell_type": "code",
   "execution_count": 32,
   "id": "7c5dbcc2-a929-4970-9ca1-10cd936621e2",
   "metadata": {},
   "outputs": [
    {
     "data": {
      "text/plain": [
       "'B+'"
      ]
     },
     "execution_count": 32,
     "metadata": {},
     "output_type": "execute_result"
    }
   ],
   "source": [
    "rahul.blood_group"
   ]
  },
  {
   "cell_type": "code",
   "execution_count": 33,
   "id": "6584777d-9cc0-41e9-a3b1-3267b418191c",
   "metadata": {},
   "outputs": [
    {
     "data": {
      "text/plain": [
       "'5 Years'"
      ]
     },
     "execution_count": 33,
     "metadata": {},
     "output_type": "execute_result"
    }
   ],
   "source": [
    "rahul.experience"
   ]
  },
  {
   "cell_type": "code",
   "execution_count": 34,
   "id": "c43677d5-2a1e-4eeb-9cfe-a029791fa2cf",
   "metadata": {},
   "outputs": [
    {
     "data": {
      "text/plain": [
       "'Design Department'"
      ]
     },
     "execution_count": 34,
     "metadata": {},
     "output_type": "execute_result"
    }
   ],
   "source": [
    "ganesh.department"
   ]
  },
  {
   "cell_type": "code",
   "execution_count": 5,
   "id": "6d96447c-3dcb-4f50-ae34-285b8ec69228",
   "metadata": {},
   "outputs": [],
   "source": [
    "# in this code instead of self we can take any strings\n",
    "# this method is called class method\n",
    "# we also can change the Variables name not need to take same values\n",
    "class cars:\n",
    "    \n",
    "    def __init__(self,Range_Rover, Mercedese, Tata, Mahindra, Walkswagan, Ashok_Layland):\n",
    "        \n",
    "        self.Range_Rover = Range_Rover\n",
    "        self.Mercedese = Mercedese\n",
    "        self.Tata = Tata\n",
    "        self.Mahindra = Mahindra\n",
    "        self.Walkswagan = Walkswagan\n",
    "        self.Ashok_Layland = Ashok_Layland\n",
    "        \n",
    "    def return_car_models(self):\n",
    "        return self.Range_Rover, self.Mercedese, self.Tata, self.Mahindra, self.Walkswagan, self.Ashok_Layland"
   ]
  },
  {
   "cell_type": "code",
   "execution_count": 6,
   "id": "af78cabc-036e-4fed-84bb-624465aa8cca",
   "metadata": {},
   "outputs": [],
   "source": [
    "Cars = cars(\"Velar\", \"s-class\", \"Harrier\", \"Thar\",\"Polo\", \"Bada_Dost\")"
   ]
  },
  {
   "cell_type": "code",
   "execution_count": 4,
   "id": "00b75103-a5f5-4dd6-8fb8-61b6fd75d82b",
   "metadata": {},
   "outputs": [
    {
     "data": {
      "text/plain": [
       "'Velar'"
      ]
     },
     "execution_count": 4,
     "metadata": {},
     "output_type": "execute_result"
    }
   ],
   "source": [
    "Cars.Range_Rover"
   ]
  },
  {
   "cell_type": "code",
   "execution_count": 7,
   "id": "83f54b4c-52bd-4a14-996b-d506e0d72bad",
   "metadata": {},
   "outputs": [
    {
     "data": {
      "text/plain": [
       "'Polo'"
      ]
     },
     "execution_count": 7,
     "metadata": {},
     "output_type": "execute_result"
    }
   ],
   "source": [
    "Cars.Walkswagan"
   ]
  },
  {
   "cell_type": "code",
   "execution_count": 9,
   "id": "f120753c-ab35-40eb-a38a-48243cb79567",
   "metadata": {},
   "outputs": [
    {
     "data": {
      "text/plain": [
       "('Velar', 's-class', 'Harrier', 'Thar', 'Polo', 'Bada_Dost')"
      ]
     },
     "execution_count": 9,
     "metadata": {},
     "output_type": "execute_result"
    }
   ],
   "source": [
    "Cars.return_car_models()"
   ]
  },
  {
   "cell_type": "code",
   "execution_count": 39,
   "id": "59a3003c-cc14-4adc-b7bc-0b225b99f40a",
   "metadata": {},
   "outputs": [],
   "source": [
    "class places:\n",
    "    \n",
    "    def __init__(self,Haridwar, Tirupati, Jejuri, Bhuleshwar, Trambkeshwar, ShaniShingnapur, Akkalkot):\n",
    "        \n",
    "        self.Haridwar = Haridwar\n",
    "        self.Tirupati = Vyenkateshwara\n",
    "        self.Jejuri = Khnadoba\n",
    "        self.Bhuleshwar = Bhuleshwar\n",
    "        self. Trambkeshwar= Trambkeshwar\n",
    "        self.ShaniShingnapur = Shani\n",
    "        self.Akkalkot = Dattguru\n",
    "        \n",
    "    def return_places_name(self):\n",
    "        return self.Haridwar, self.Tirupati, self.Jejuri, self.Bhuleshwar, self.Trambkeshwar, self.ShaniShingnapur, self.Akkalkot"
   ]
  },
  {
   "cell_type": "code",
   "execution_count": 36,
   "id": "8a27f0d8-0de6-4b76-8864-25f28cf651c1",
   "metadata": {},
   "outputs": [],
   "source": [
    "pl = (\"Train\", \"Plane\", \"TwoWhwwler\", \"FourWheeler\", \"Bus\", \"Travel\", \"Ertiga\")"
   ]
  },
  {
   "cell_type": "code",
   "execution_count": 37,
   "id": "35af25b4-978b-4ade-a279-b4f3bc9c78b9",
   "metadata": {},
   "outputs": [
    {
     "ename": "AttributeError",
     "evalue": "'tuple' object has no attribute 'ShaniShingnapur'",
     "output_type": "error",
     "traceback": [
      "\u001b[0;31m---------------------------------------------------------------------------\u001b[0m",
      "\u001b[0;31mAttributeError\u001b[0m                            Traceback (most recent call last)",
      "Cell \u001b[0;32mIn[37], line 1\u001b[0m\n\u001b[0;32m----> 1\u001b[0m \u001b[43mtemples\u001b[49m\u001b[38;5;241;43m.\u001b[39;49m\u001b[43mShaniShingnapur\u001b[49m\n",
      "\u001b[0;31mAttributeError\u001b[0m: 'tuple' object has no attribute 'ShaniShingnapur'"
     ]
    }
   ],
   "source": [
    "temples.ShaniShingnapur"
   ]
  },
  {
   "cell_type": "markdown",
   "id": "62cd5f39-ba65-475b-bf44-7b6bdef7cbb3",
   "metadata": {},
   "source": [
    "### Polymorphism"
   ]
  },
  {
   "cell_type": "code",
   "execution_count": 1,
   "id": "aed93088-82be-4d46-b76b-5f8c83ce5bbc",
   "metadata": {},
   "outputs": [],
   "source": [
    "def test(a,b):\n",
    "    return a+b"
   ]
  },
  {
   "cell_type": "code",
   "execution_count": 3,
   "id": "157e316c-0df3-4204-b514-5a65f21f44f3",
   "metadata": {},
   "outputs": [
    {
     "data": {
      "text/plain": [
       "'vaibhav rasal'"
      ]
     },
     "execution_count": 3,
     "metadata": {},
     "output_type": "execute_result"
    }
   ],
   "source": [
    "test(\"vaibhav \",\"rasal\")"
   ]
  },
  {
   "cell_type": "code",
   "execution_count": 4,
   "id": "4c0715cb-4e95-498c-8f38-c723bf600102",
   "metadata": {},
   "outputs": [
    {
     "data": {
      "text/plain": [
       "1033"
      ]
     },
     "execution_count": 4,
     "metadata": {},
     "output_type": "execute_result"
    }
   ],
   "source": [
    "test(545,488)"
   ]
  },
  {
   "cell_type": "code",
   "execution_count": 6,
   "id": "e7efa2be-e93f-435a-b3d0-b65191687511",
   "metadata": {},
   "outputs": [
    {
     "data": {
      "text/plain": [
       "106"
      ]
     },
     "execution_count": 6,
     "metadata": {},
     "output_type": "execute_result"
    }
   ],
   "source": [
    "test(21,85)"
   ]
  },
  {
   "cell_type": "code",
   "execution_count": 7,
   "id": "fdd02256-1fcc-4cb3-941e-bf04626fb16e",
   "metadata": {},
   "outputs": [
    {
     "data": {
      "text/plain": [
       "[2, 3, 4, 5, 6, 4, 2, 4, 5, 3, 4]"
      ]
     },
     "execution_count": 7,
     "metadata": {},
     "output_type": "execute_result"
    }
   ],
   "source": [
    "test([2,3,4,5,6,4] , [2,4,5,3,4])"
   ]
  },
  {
   "cell_type": "code",
   "execution_count": 8,
   "id": "811c6604-afef-4790-a964-a60f106893cd",
   "metadata": {},
   "outputs": [],
   "source": [
    "class data_science :\n",
    "    def syllabus(self) :\n",
    "        print(\"this is my data science class\")"
   ]
  },
  {
   "cell_type": "code",
   "execution_count": 9,
   "id": "bb35e76d-7643-4435-a81f-24a9d95c49b7",
   "metadata": {},
   "outputs": [],
   "source": [
    "class web_dev :\n",
    "    def syllabus(self) :\n",
    "        print(\"this is my web dev class\")"
   ]
  },
  {
   "cell_type": "code",
   "execution_count": 11,
   "id": "972459ef-270e-4fbc-846a-b190a1c464eb",
   "metadata": {},
   "outputs": [],
   "source": [
    "def class_parcer(class_obj) :\n",
    "    for i in class_obj :\n",
    "        i.syllabus()"
   ]
  },
  {
   "cell_type": "code",
   "execution_count": null,
   "id": "e2e3e9e9-f6e6-45a8-ac64-2f8742ff4983",
   "metadata": {},
   "outputs": [],
   "source": [
    "obj_data_science = data_science()"
   ]
  },
  {
   "cell_type": "code",
   "execution_count": 14,
   "id": "d30ce018-e195-492e-aa00-4f7e42468320",
   "metadata": {},
   "outputs": [],
   "source": [
    "obj_web_dev = web_dev()"
   ]
  },
  {
   "cell_type": "code",
   "execution_count": null,
   "id": "5c76d837-c9f6-45b9-a95f-d083f92c0a22",
   "metadata": {},
   "outputs": [],
   "source": [
    "class_obj = [obj_data_science, obj_web_dev]"
   ]
  },
  {
   "cell_type": "code",
   "execution_count": 22,
   "id": "99ec44d8-b32c-457e-92f6-40126fa203cc",
   "metadata": {},
   "outputs": [
    {
     "name": "stdout",
     "output_type": "stream",
     "text": [
      "this is my data science class\n",
      "this is my web dev class\n"
     ]
    }
   ],
   "source": [
    "class_parcer(class_obj)"
   ]
  },
  {
   "cell_type": "markdown",
   "id": "afb3425d-0de8-4d8a-9a5e-0e6912a4938a",
   "metadata": {},
   "source": [
    "### Polymorphism Exmaples"
   ]
  },
  {
   "cell_type": "code",
   "execution_count": 1,
   "id": "d19c10a9-f102-42fa-bf9c-46d90277c5e6",
   "metadata": {},
   "outputs": [],
   "source": [
    "class school :\n",
    "    def city(self) :\n",
    "        print(\"my school was in deulgaon rasal\")"
   ]
  },
  {
   "cell_type": "code",
   "execution_count": 2,
   "id": "61e35c81-e9f3-4f63-a0bb-ecbe767ec9f1",
   "metadata": {},
   "outputs": [],
   "source": [
    "class college :\n",
    "    def city(self) :\n",
    "        print(\"my college was in baramati\")"
   ]
  },
  {
   "cell_type": "code",
   "execution_count": 4,
   "id": "6e6ba5f8-0b5b-4b63-83c6-4ed1f393feec",
   "metadata": {},
   "outputs": [],
   "source": [
    "def lucky_cities(my_life) :\n",
    "    for i in my_life :\n",
    "        i.city()"
   ]
  },
  {
   "cell_type": "code",
   "execution_count": 5,
   "id": "6ea5f046-bae4-416a-a591-f95d984df41c",
   "metadata": {},
   "outputs": [],
   "source": [
    "my_education_in = school()"
   ]
  },
  {
   "cell_type": "code",
   "execution_count": 6,
   "id": "d747dd29-34eb-4d0d-b040-324b7513fab5",
   "metadata": {},
   "outputs": [],
   "source": [
    "my_education_out = college()"
   ]
  },
  {
   "cell_type": "code",
   "execution_count": 7,
   "id": "62ce97fc-891c-4fd5-89f0-9ba10555fb56",
   "metadata": {},
   "outputs": [],
   "source": [
    "my_life = [school, college]"
   ]
  },
  {
   "cell_type": "code",
   "execution_count": 9,
   "id": "13f276e3-1d55-44ff-9ec0-142b7e2397e9",
   "metadata": {},
   "outputs": [
    {
     "name": "stdout",
     "output_type": "stream",
     "text": [
      "Capital of Maharshtra is Mumbai\n",
      "Capital of Karnatka is Bengluru\n"
     ]
    }
   ],
   "source": [
    "class Maharashtra() :\n",
    "    def capital(self) :\n",
    "        print(\"Capital of Maharshtra is Mumbai\")\n",
    "        \n",
    "    def language(self) :\n",
    "        print(\"Language of maharashtra is marathi\")\n",
    "\n",
    "class Karnatka() :\n",
    "    def capital(self) :\n",
    "        print(\"Capital of Karnatka is Bengluru\")\n",
    "        \n",
    "    def language(self) :\n",
    "        print(\"Language of Karnatka is Kannada\")\n",
    "        \n",
    "obj_mh = Maharashtra()\n",
    "obj_ka = Karnatka()\n",
    "\n",
    "for state in (obj_mh, obj_ka):\n",
    "    state.capital()\n",
    "    state.language\n"
   ]
  },
  {
   "cell_type": "code",
   "execution_count": 16,
   "id": "78280b9f-6ad5-472b-b666-e8768da7aeca",
   "metadata": {},
   "outputs": [],
   "source": [
    "class samsung_ultra_22() :\n",
    "    def camera(self) :\n",
    "        print(\"Camera of samsung s22 ultra is 108MP\")\n",
    "        \n",
    "    def storage(self) :\n",
    "        print(\"storage of samsung is 256 GB ROM and 12 GB RAM\")\n",
    "        \n",
    "class iphone_14() :\n",
    "    def camera(self) :\n",
    "        print(\"camera of iphone of is 12 MP\")\n",
    "        \n",
    "    def storage(self) :\n",
    "        print(\"storage of iphone is 256 GB ROM and 8 GB ROM\")"
   ]
  },
  {
   "cell_type": "code",
   "execution_count": 17,
   "id": "b016086e-1899-40b0-8dbf-a609bdab4320",
   "metadata": {},
   "outputs": [],
   "source": [
    "obj_sa = samsung_ultra_22()"
   ]
  },
  {
   "cell_type": "code",
   "execution_count": 22,
   "id": "98469a13-6120-4a76-8d4b-ee47b7ee7ef9",
   "metadata": {},
   "outputs": [],
   "source": [
    "obj_ip = iphone_14()"
   ]
  },
  {
   "cell_type": "code",
   "execution_count": 23,
   "id": "5a2f8056-1645-4c25-8ffe-191e02388fb0",
   "metadata": {},
   "outputs": [
    {
     "name": "stdout",
     "output_type": "stream",
     "text": [
      "Camera of samsung s22 ultra is 108MP\n",
      "storage of samsung is 256 GB ROM and 12 GB RAM\n",
      "camera of iphone of is 12 MP\n",
      "storage of iphone is 256 GB ROM and 8 GB ROM\n"
     ]
    }
   ],
   "source": [
    "for spec in (obj_sa, obj_ip):\n",
    "    spec.camera()\n",
    "    spec.storage()"
   ]
  },
  {
   "cell_type": "code",
   "execution_count": 34,
   "id": "17227840-e46b-47bb-a209-b89fbb3dfa6c",
   "metadata": {},
   "outputs": [],
   "source": [
    "class USA :\n",
    "    def capital(self) :\n",
    "        print(\"Capital of USA is Washington\")\n",
    "        \n",
    "    def currency(self) :\n",
    "        print(\"Currency of USA is Dollar\")\n",
    "        \n",
    "    def stock_market(self) :\n",
    "        print(\"USA Stock market name is Nasdq\")\n",
    "        \n",
    "    def space_agency(self) :\n",
    "        print(\"Space agency of USA is NASA\")\n",
    "        \n",
    "class India :\n",
    "    def capital(self) :\n",
    "        print(\"Capital of India is New Delhi\")\n",
    "        \n",
    "    def currency(self) :\n",
    "        print(\"Currency of India is Rupyees\")\\\n",
    "        \n",
    "    def stock_market(self) :\n",
    "            print(\"stock market of india is Bomnay Stock Exchange\")\n",
    "            \n",
    "    def space_agency(self) :\n",
    "        print(\"space Agency of India is ISRO\")"
   ]
  },
  {
   "cell_type": "code",
   "execution_count": 36,
   "id": "1da0741b-70cc-47ca-87f8-3e9935149964",
   "metadata": {},
   "outputs": [],
   "source": [
    "obj_USA = USA()\n",
    "obj_IND = India()"
   ]
  },
  {
   "cell_type": "code",
   "execution_count": 38,
   "id": "c6d1440a-6da5-4045-a868-87fa3a288e1c",
   "metadata": {},
   "outputs": [
    {
     "name": "stdout",
     "output_type": "stream",
     "text": [
      "Capital of USA is Washington\n",
      "Currency of USA is Dollar\n",
      "USA Stock market name is Nasdq\n",
      "Space agency of USA is NASA\n",
      "Capital of India is New Delhi\n",
      "Currency of India is Rupyees\n",
      "stock market of india is Bomnay Stock Exchange\n",
      "space Agency of India is ISRO\n"
     ]
    }
   ],
   "source": [
    "for info in (obj_USA, obj_IND) :\n",
    "    info.capital()\n",
    "    info.currency()\n",
    "    info.stock_market()\n",
    "    info.space_agency()"
   ]
  },
  {
   "cell_type": "code",
   "execution_count": 10,
   "id": "7c12796d-e2f9-472d-bcee-feaa0972c4b8",
   "metadata": {},
   "outputs": [
    {
     "name": "stdout",
     "output_type": "stream",
     "text": [
      "there are many birds in the world\n",
      "most of the bird can fly but not all\n",
      "there are many birds in the world\n",
      "most of the bird can fly but not all\n",
      "there are many birds in the world\n",
      "most of the bird can fly but not all\n"
     ]
    }
   ],
   "source": [
    "class Bird:\n",
    "    def intro(self):\n",
    "        print(\"there are many birds in the world\")\n",
    "    \n",
    "    def flight(self):\n",
    "        print(\"most of the bird can fly but not all\")\n",
    "        \n",
    "class sparrow(Bird):\n",
    "    def flight(self):\n",
    "        print(\"sparrow can fly\")\n",
    "        \n",
    "class eagle(Bird):\n",
    "    def flight(self):\n",
    "        print(\"eagle can fly abobe the sky\")\n",
    "        \n",
    "        \n",
    "obj_bird = Bird()\n",
    "obj_sparrow = sparrow()\n",
    "obj_eagle = eagle()\n",
    "\n",
    "obj_bird.intro()\n",
    "obj_bird.flight()\n",
    "\n",
    "obj_sparrow.intro()\n",
    "obj_bird.flight()\n",
    "\n",
    "obj_eagle.intro()\n",
    "obj_bird.flight()"
   ]
  },
  {
   "cell_type": "markdown",
   "id": "d7ba3e49-3cdd-4a9d-b218-99ca11f75db1",
   "metadata": {},
   "source": [
    "## Encapsulation"
   ]
  },
  {
   "cell_type": "markdown",
   "id": "73af91e2-5b7c-4ffd-a060-d26e67716e70",
   "metadata": {},
   "source": [
    "Encapsulation means to protect code from other user to avoid change in code. we kow the class name and also variable name so other cannot change the code without correct keywords. hide intire workspace from user"
   ]
  },
  {
   "cell_type": "code",
   "execution_count": 11,
   "id": "7ca5bb17-a294-4ba4-9c50-00d11ea3e550",
   "metadata": {},
   "outputs": [],
   "source": [
    "class test :\n",
    "    def __init__(self, a,b) :\n",
    "        self.a = a\n",
    "        self.b = b\n",
    "    "
   ]
  },
  {
   "cell_type": "code",
   "execution_count": 12,
   "id": "ab41c6ca-a504-4183-8e72-a23d19a828ad",
   "metadata": {},
   "outputs": [],
   "source": [
    "t = test(67,89)"
   ]
  },
  {
   "cell_type": "code",
   "execution_count": 13,
   "id": "12004b0d-5120-4a29-a4f8-f6ca0e7d22e4",
   "metadata": {},
   "outputs": [
    {
     "data": {
      "text/plain": [
       "67"
      ]
     },
     "execution_count": 13,
     "metadata": {},
     "output_type": "execute_result"
    }
   ],
   "source": [
    "t.a"
   ]
  },
  {
   "cell_type": "code",
   "execution_count": 14,
   "id": "1e364748-0b11-40ee-ad22-452bf5059aa5",
   "metadata": {},
   "outputs": [
    {
     "data": {
      "text/plain": [
       "89"
      ]
     },
     "execution_count": 14,
     "metadata": {},
     "output_type": "execute_result"
    }
   ],
   "source": [
    "t.b"
   ]
  },
  {
   "cell_type": "code",
   "execution_count": 15,
   "id": "03778397-14af-4065-9c16-7f3f8d508daa",
   "metadata": {},
   "outputs": [],
   "source": [
    "t.a = 76676"
   ]
  },
  {
   "cell_type": "code",
   "execution_count": 16,
   "id": "55d93bb2-b1cc-42c1-8880-9d36f6909c9f",
   "metadata": {},
   "outputs": [
    {
     "data": {
      "text/plain": [
       "76676"
      ]
     },
     "execution_count": 16,
     "metadata": {},
     "output_type": "execute_result"
    }
   ],
   "source": [
    "t.a"
   ]
  },
  {
   "cell_type": "code",
   "execution_count": 34,
   "id": "bf950b37-32a3-47c4-9343-efeebd677943",
   "metadata": {},
   "outputs": [],
   "source": [
    "class car:\n",
    "    \n",
    "    def __init__(self, year , make , model , speed ) :\n",
    "        self.__year = year\n",
    "        self.__make = make\n",
    "        self.__model = model\n",
    "        self.__speed = 0\n",
    "        \n",
    "    def set_speed(self , speed ) :\n",
    "        self.__speed = 0 if speed < 0 else speed\n",
    "        \n",
    "    def get_speed(self) :\n",
    "        return self.__speed\n",
    "           "
   ]
  },
  {
   "cell_type": "code",
   "execution_count": 37,
   "id": "2e47a41f-156e-4903-8a6d-fba5264adcea",
   "metadata": {},
   "outputs": [
    {
     "data": {
      "text/plain": [
       "0"
      ]
     },
     "execution_count": 37,
     "metadata": {},
     "output_type": "execute_result"
    }
   ],
   "source": [
    "obj_car.get_speed()"
   ]
  },
  {
   "cell_type": "code",
   "execution_count": 36,
   "id": "9185b5c4-7e20-4e65-8dc2-30801ad369da",
   "metadata": {},
   "outputs": [],
   "source": [
    "obj_car = car(2021 , \"toyota\" , \"innova\", 12)"
   ]
  },
  {
   "cell_type": "code",
   "execution_count": null,
   "id": "1bbabb5e-6cab-4c0c-9654-f9f9c5f5647a",
   "metadata": {},
   "outputs": [],
   "source": []
  },
  {
   "cell_type": "code",
   "execution_count": 30,
   "id": "0d05633b-6154-4e87-8669-513f54467cdc",
   "metadata": {},
   "outputs": [
    {
     "data": {
      "text/plain": [
       "2021"
      ]
     },
     "execution_count": 30,
     "metadata": {},
     "output_type": "execute_result"
    }
   ],
   "source": [
    "obj_car._car__year "
   ]
  },
  {
   "cell_type": "code",
   "execution_count": 25,
   "id": "bd4925e0-c7c4-4b15-b81f-519b2a3b6fd7",
   "metadata": {},
   "outputs": [
    {
     "data": {
      "text/plain": [
       "'toyota'"
      ]
     },
     "execution_count": 25,
     "metadata": {},
     "output_type": "execute_result"
    }
   ],
   "source": [
    "obj_car._car__make"
   ]
  },
  {
   "cell_type": "code",
   "execution_count": 26,
   "id": "324df683-0ef9-455b-822d-15aa61873b0d",
   "metadata": {},
   "outputs": [],
   "source": [
    "obj_car._car__model = \"tata\""
   ]
  },
  {
   "cell_type": "code",
   "execution_count": 27,
   "id": "00a35a05-6a27-4eab-a238-06542bc635ab",
   "metadata": {},
   "outputs": [
    {
     "data": {
      "text/plain": [
       "'tata'"
      ]
     },
     "execution_count": 27,
     "metadata": {},
     "output_type": "execute_result"
    }
   ],
   "source": [
    "obj_car._car__model"
   ]
  },
  {
   "cell_type": "code",
   "execution_count": 31,
   "id": "1e608ab8-393e-4dac-96ef-7387b1ce6f93",
   "metadata": {},
   "outputs": [],
   "source": [
    "obj_car.set_speed(-282)"
   ]
  },
  {
   "cell_type": "code",
   "execution_count": 33,
   "id": "a3ebd4e1-6ebb-4130-8864-22938de1bf36",
   "metadata": {},
   "outputs": [
    {
     "data": {
      "text/plain": [
       "0"
      ]
     },
     "execution_count": 33,
     "metadata": {},
     "output_type": "execute_result"
    }
   ],
   "source": [
    "obj_car._car__speed"
   ]
  },
  {
   "cell_type": "code",
   "execution_count": 19,
   "id": "1ac4dff3-dff0-481c-a46c-d2e02382694f",
   "metadata": {},
   "outputs": [],
   "source": [
    "class car:\n",
    "    \n",
    "    def __init__(self, year , make , model , speed ) :\n",
    "        self.__year = year\n",
    "        self.__make = make\n",
    "        self.__model = model\n",
    "        self.__speed = 0\n",
    "        \n",
    "    def set_speed(self , speed ) :\n",
    "        self.__speed = 0 if speed < 0 else speed"
   ]
  },
  {
   "cell_type": "code",
   "execution_count": 22,
   "id": "0fb3864f-c899-4017-afba-203226a795b8",
   "metadata": {},
   "outputs": [
    {
     "ename": "AttributeError",
     "evalue": "'car' object has no attribute 'set_speed'",
     "output_type": "error",
     "traceback": [
      "\u001b[0;31m---------------------------------------------------------------------------\u001b[0m",
      "\u001b[0;31mAttributeError\u001b[0m                            Traceback (most recent call last)",
      "Cell \u001b[0;32mIn[22], line 1\u001b[0m\n\u001b[0;32m----> 1\u001b[0m \u001b[43mobj_car\u001b[49m\u001b[38;5;241;43m.\u001b[39;49m\u001b[43mset_speed\u001b[49m(\u001b[38;5;241m-\u001b[39m\u001b[38;5;241m1234\u001b[39m)\n",
      "\u001b[0;31mAttributeError\u001b[0m: 'car' object has no attribute 'set_speed'"
     ]
    }
   ],
   "source": [
    "obj_car.set_speed(-1234)"
   ]
  },
  {
   "cell_type": "code",
   "execution_count": 21,
   "id": "622c7566-fbdc-467a-9fd5-27358f3ee6c0",
   "metadata": {},
   "outputs": [
    {
     "data": {
      "text/plain": [
       "0"
      ]
     },
     "execution_count": 21,
     "metadata": {},
     "output_type": "execute_result"
    }
   ],
   "source": [
    "obj_car._car__speed"
   ]
  },
  {
   "cell_type": "code",
   "execution_count": 46,
   "id": "df284491-2023-4338-af88-7996e172c62e",
   "metadata": {},
   "outputs": [],
   "source": [
    "class bank_account :\n",
    "    \n",
    "    def __init__(self, balance ) :\n",
    "        self.__balance = balance\n",
    "        \n",
    "    def deposit(self, amount ) :\n",
    "        self.__balance = self.__balance + amount\n",
    "        \n",
    "    def withdraw(self, amount ) :\n",
    "        if self.__balance >= amount :\n",
    "            self.__balance = self.__balance = amount\n",
    "            return True\n",
    "        else :\n",
    "            return False\n",
    "        \n",
    "    def get_balance(self) :\n",
    "        return self.__balance"
   ]
  },
  {
   "cell_type": "code",
   "execution_count": 47,
   "id": "b318263c-4d2c-4bba-9095-5c707a05e27d",
   "metadata": {},
   "outputs": [],
   "source": [
    "obj_bank_account = bank_account(1000)"
   ]
  },
  {
   "cell_type": "code",
   "execution_count": 48,
   "id": "f0d25d87-5b07-4976-8f22-7e2d482ad3e1",
   "metadata": {},
   "outputs": [
    {
     "data": {
      "text/plain": [
       "False"
      ]
     },
     "execution_count": 48,
     "metadata": {},
     "output_type": "execute_result"
    }
   ],
   "source": [
    "obj_bank_account.withdraw(11545)"
   ]
  },
  {
   "cell_type": "markdown",
   "id": "a58c2809-a839-49b4-8b61-5680afae8779",
   "metadata": {},
   "source": [
    "## Inheritance"
   ]
  },
  {
   "cell_type": "code",
   "execution_count": 4,
   "id": "7e2afbe8-15c5-49fb-82e2-25042fac5e1a",
   "metadata": {},
   "outputs": [],
   "source": [
    "class parent:\n",
    "    \n",
    "    def test_parent(self) :\n",
    "        print(\"this is my parent classs \") "
   ]
  },
  {
   "cell_type": "code",
   "execution_count": 7,
   "id": "7a3af9ff-afac-4d1a-adc6-46d7a0c8b1b5",
   "metadata": {},
   "outputs": [],
   "source": [
    "class child(parent):\n",
    "    pass   "
   ]
  },
  {
   "cell_type": "code",
   "execution_count": 8,
   "id": "4cd43854-b299-483e-9b16-cffbf290c51b",
   "metadata": {},
   "outputs": [],
   "source": [
    "child_obj = child()"
   ]
  },
  {
   "cell_type": "code",
   "execution_count": 10,
   "id": "9b2a50ec-3db1-4a79-8372-8ccdc3d84024",
   "metadata": {},
   "outputs": [
    {
     "name": "stdout",
     "output_type": "stream",
     "text": [
      "this is my parent classs \n"
     ]
    }
   ],
   "source": [
    "child_obj.test_parent()"
   ]
  },
  {
   "cell_type": "markdown",
   "id": "58e75414-7667-4a26-92d5-8d948b5dc0db",
   "metadata": {},
   "source": [
    "#### Example 2"
   ]
  },
  {
   "cell_type": "code",
   "execution_count": 11,
   "id": "2e88b6da-0018-4cf6-abbb-adf40f1360ee",
   "metadata": {},
   "outputs": [],
   "source": [
    "class class1(class1) :\n",
    "    def test_class1(self) :\n",
    "        print(\"this is class1\")\n",
    "    "
   ]
  },
  {
   "cell_type": "code",
   "execution_count": 12,
   "id": "19ca4fe6-ea5e-4c0d-8712-c386e39961ea",
   "metadata": {},
   "outputs": [],
   "source": [
    "class class2(class1) :\n",
    "    def test_class2(self):\n",
    "        print(\"this is class2\")"
   ]
  },
  {
   "cell_type": "code",
   "execution_count": 13,
   "id": "886f637d-5b5e-478a-955b-fc62db39362b",
   "metadata": {},
   "outputs": [],
   "source": [
    "class class3(class2) :\n",
    "    def test_class3(self) :\n",
    "        print(\"this is class 3\")"
   ]
  },
  {
   "cell_type": "code",
   "execution_count": 14,
   "id": "be5be53d-9773-48f6-94b4-c13d544f7639",
   "metadata": {},
   "outputs": [],
   "source": [
    "obj_class3 = class3()"
   ]
  },
  {
   "cell_type": "code",
   "execution_count": 15,
   "id": "856de924-99e6-49c9-9630-bd720be5983b",
   "metadata": {},
   "outputs": [
    {
     "name": "stdout",
     "output_type": "stream",
     "text": [
      "this is class1\n"
     ]
    }
   ],
   "source": [
    "obj_class3.test_class1()"
   ]
  },
  {
   "cell_type": "code",
   "execution_count": 18,
   "id": "fb06d73b-42a4-4788-ad82-f2d8c9a31ce8",
   "metadata": {},
   "outputs": [],
   "source": [
    "obj_class2 = class3()"
   ]
  },
  {
   "cell_type": "code",
   "execution_count": 19,
   "id": "318ed12e-b63b-4cab-9705-bee99bb956e1",
   "metadata": {},
   "outputs": [
    {
     "name": "stdout",
     "output_type": "stream",
     "text": [
      "this is class1\n"
     ]
    }
   ],
   "source": [
    "obj_class2.test_class1()"
   ]
  },
  {
   "cell_type": "code",
   "execution_count": 20,
   "id": "01a95381-e8ea-4d39-827d-ab18db64e554",
   "metadata": {},
   "outputs": [
    {
     "name": "stdout",
     "output_type": "stream",
     "text": [
      "this is class2\n"
     ]
    }
   ],
   "source": [
    "obj_class3.test_class2()"
   ]
  },
  {
   "cell_type": "markdown",
   "id": "0dc77925-6ff7-4a50-a0b7-6786fe2ab0b6",
   "metadata": {},
   "source": [
    "### Example 3"
   ]
  },
  {
   "cell_type": "code",
   "execution_count": 22,
   "id": "528dd95d-c30f-468c-bf38-fa09c6d0d416",
   "metadata": {},
   "outputs": [],
   "source": [
    "class class1:\n",
    "    def test_class1(self) :\n",
    "        print(\"this is my class 1\" )\n",
    "        \n",
    "class class2:\n",
    "    def test_class2(self) :\n",
    "        print(\"this is my class 2\")\n",
    "        \n",
    "class class3(class1, class2):\n",
    "    pass"
   ]
  },
  {
   "cell_type": "code",
   "execution_count": 23,
   "id": "ee7dcc2c-1d51-422a-9443-2cf58254d20c",
   "metadata": {},
   "outputs": [],
   "source": [
    "obj_class3 = class3()"
   ]
  },
  {
   "cell_type": "code",
   "execution_count": 24,
   "id": "1e702388-c7c9-4db1-9703-196eed911460",
   "metadata": {},
   "outputs": [
    {
     "name": "stdout",
     "output_type": "stream",
     "text": [
      "this is my class 1\n"
     ]
    }
   ],
   "source": [
    "obj_class3.test_class1()"
   ]
  },
  {
   "cell_type": "code",
   "execution_count": 25,
   "id": "6ad21aad-9aab-4c1d-96b7-73f70dd6f293",
   "metadata": {},
   "outputs": [
    {
     "name": "stdout",
     "output_type": "stream",
     "text": [
      "this is my class 2\n"
     ]
    }
   ],
   "source": [
    "obj_class3.test_class2()"
   ]
  },
  {
   "cell_type": "markdown",
   "id": "5ea50f36-df1c-4df8-8861-bdcbbe7d1b9f",
   "metadata": {},
   "source": [
    "## Abstraction"
   ]
  },
  {
   "cell_type": "code",
   "execution_count": 1,
   "id": "4bee156b-2f00-462b-90f5-88384a2d1cda",
   "metadata": {},
   "outputs": [
    {
     "name": "stdout",
     "output_type": "stream",
     "text": [
      "Maharashtra's official language is Marathi\n",
      "Karnatka's official language is Kannada\n"
     ]
    }
   ],
   "source": [
    "from abc import ABC, abstractmethod\n",
    "\n",
    "class India(ABC):\n",
    "    \n",
    "    @abstractmethod\n",
    "    def Language(self):\n",
    "        pass\n",
    "    \n",
    "class Maharashtra(India):\n",
    "    \n",
    "    def Language(self):\n",
    "        print(\"Maharashtra's official language is Marathi\")\n",
    "    \n",
    "class Karnatka(India):\n",
    "    \n",
    "    def Language(self):\n",
    "        print(\"Karnatka's official language is Kannada\")\n",
    "    \n",
    "if __name__ == \"__main__\":\n",
    "    \n",
    "    maharashtra = Maharashtra()\n",
    "    maharashtra.Language()\n",
    "    \n",
    "    karnatka = Karnatka()\n",
    "    karnatka.Language()"
   ]
  },
  {
   "cell_type": "code",
   "execution_count": null,
   "id": "21f10cb5-c4c6-42b5-9ab6-3870333a38e5",
   "metadata": {},
   "outputs": [],
   "source": [
    "import abc\n",
    "\n",
    "class pwskills:\n",
    "    \n",
    "    @abc.abstractmethod\n",
    "    def student_details(self):\n",
    "        pass\n",
    "    \n",
    "    @abc.abstractmethod\n",
    "    def student_assignment(self):\n",
    "        pass\n",
    "    \n",
    "    @abc.abstractmethod\n",
    "    def student_marks(self):\n",
    "        pass    \n",
    "\n",
    "class data_science(pwskills):\n",
    "    \n",
    "    def student_details(self):\n",
    "        return \"it will try to return a details of data science masters\"\n",
    "    \n",
    "    def student_assignment(self):\n",
    "        return \"it will return a details of student assignment for data science masters\"\n",
    "    \n",
    "    \n",
    "class web_dev(pwskills):\n",
    "    \n",
    "    def student_details(self):\n",
    "        return \"it will try to return a details of web devlopment\"\n",
    "    \n",
    "    def student_assignment(self):\n",
    "        return \"it will try to return a details of web development\"\n",
    "    \n",
    "    \n",
    "\n"
   ]
  }
 ],
 "metadata": {
  "kernelspec": {
   "display_name": "Python 3 (ipykernel)",
   "language": "python",
   "name": "python3"
  },
  "language_info": {
   "codemirror_mode": {
    "name": "ipython",
    "version": 3
   },
   "file_extension": ".py",
   "mimetype": "text/x-python",
   "name": "python",
   "nbconvert_exporter": "python",
   "pygments_lexer": "ipython3",
   "version": "3.10.8"
  }
 },
 "nbformat": 4,
 "nbformat_minor": 5
}
