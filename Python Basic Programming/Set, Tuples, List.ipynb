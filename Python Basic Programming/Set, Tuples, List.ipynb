{
 "cells": [
  {
   "cell_type": "markdown",
   "id": "c184763a-51af-4492-8d37-91a38e25b9db",
   "metadata": {},
   "source": [
    "## Tuples"
   ]
  },
  {
   "cell_type": "code",
   "execution_count": 1,
   "id": "b60fd622-b552-41dd-abd2-a93ab598e309",
   "metadata": {},
   "outputs": [],
   "source": [
    "t = ()"
   ]
  },
  {
   "cell_type": "code",
   "execution_count": 2,
   "id": "617517de-5e11-4f22-a33b-6436eb661364",
   "metadata": {},
   "outputs": [
    {
     "data": {
      "text/plain": [
       "tuple"
      ]
     },
     "execution_count": 2,
     "metadata": {},
     "output_type": "execute_result"
    }
   ],
   "source": [
    "type(t)"
   ]
  },
  {
   "cell_type": "code",
   "execution_count": 3,
   "id": "4e817adc-c772-410c-9849-71381dd429c7",
   "metadata": {},
   "outputs": [],
   "source": [
    "t1 = (1,2,3,4,5,6,7,8+5j,\"vibhu\",True)"
   ]
  },
  {
   "cell_type": "code",
   "execution_count": 4,
   "id": "fbdb318b-1730-4710-9688-b459e6d0bb49",
   "metadata": {},
   "outputs": [
    {
     "data": {
      "text/plain": [
       "tuple"
      ]
     },
     "execution_count": 4,
     "metadata": {},
     "output_type": "execute_result"
    }
   ],
   "source": [
    "type(t)"
   ]
  },
  {
   "cell_type": "code",
   "execution_count": 5,
   "id": "99ce906b-57e2-45ac-bd63-89edb87a29df",
   "metadata": {},
   "outputs": [],
   "source": [
    "l = [1,2,3,4]"
   ]
  },
  {
   "cell_type": "code",
   "execution_count": 6,
   "id": "646a9c7f-cf8d-43b3-b113-24e245d5672e",
   "metadata": {},
   "outputs": [
    {
     "data": {
      "text/plain": [
       "list"
      ]
     },
     "execution_count": 6,
     "metadata": {},
     "output_type": "execute_result"
    }
   ],
   "source": [
    "type(l)"
   ]
  },
  {
   "cell_type": "code",
   "execution_count": 7,
   "id": "228210a5-76e0-4550-9e1f-e7c08e21bc65",
   "metadata": {},
   "outputs": [
    {
     "data": {
      "text/plain": [
       "(1, 2, 3, 4, 5, 6, 7, (8+5j), 'vibhu', True)"
      ]
     },
     "execution_count": 7,
     "metadata": {},
     "output_type": "execute_result"
    }
   ],
   "source": [
    "t1"
   ]
  },
  {
   "cell_type": "code",
   "execution_count": 9,
   "id": "0a657b96-583b-4104-b6f2-d8f385a99845",
   "metadata": {},
   "outputs": [
    {
     "data": {
      "text/plain": [
       "1"
      ]
     },
     "execution_count": 9,
     "metadata": {},
     "output_type": "execute_result"
    }
   ],
   "source": [
    "t1[0]"
   ]
  },
  {
   "cell_type": "code",
   "execution_count": 10,
   "id": "726276c2-544a-4316-aaf6-5cad2fa07ea1",
   "metadata": {},
   "outputs": [
    {
     "data": {
      "text/plain": [
       "'vibhu'"
      ]
     },
     "execution_count": 10,
     "metadata": {},
     "output_type": "execute_result"
    }
   ],
   "source": [
    "t1[8]"
   ]
  },
  {
   "cell_type": "code",
   "execution_count": 14,
   "id": "a3bdfca8-e3d5-445c-a77f-600f2afbc719",
   "metadata": {},
   "outputs": [
    {
     "data": {
      "text/plain": [
       "(True, 'vibhu', (8+5j), 7, 6, 5, 4, 3, 2, 1)"
      ]
     },
     "execution_count": 14,
     "metadata": {},
     "output_type": "execute_result"
    }
   ],
   "source": [
    "t1[::-1]"
   ]
  },
  {
   "cell_type": "code",
   "execution_count": 18,
   "id": "1d549ec8-d0eb-4734-b726-00d07ed3be37",
   "metadata": {},
   "outputs": [
    {
     "data": {
      "text/plain": [
       "(True, 'vibhu', (8+5j))"
      ]
     },
     "execution_count": 18,
     "metadata": {},
     "output_type": "execute_result"
    }
   ],
   "source": [
    "t1[0:3]"
   ]
  },
  {
   "cell_type": "code",
   "execution_count": 19,
   "id": "ef8705e1-f817-402f-b57c-41fb6b5b7030",
   "metadata": {},
   "outputs": [
    {
     "data": {
      "text/plain": [
       "(True, 'vibhu', (8+5j), 7, 6, 5, 4, 3, 2, 1)"
      ]
     },
     "execution_count": 19,
     "metadata": {},
     "output_type": "execute_result"
    }
   ],
   "source": [
    "t1"
   ]
  },
  {
   "cell_type": "markdown",
   "id": "cfdceb00-54c3-46e3-9f2e-7b03e188a47f",
   "metadata": {},
   "source": [
    "#### count function \n",
    "##### used to number of times perticular element comes in given touple"
   ]
  },
  {
   "cell_type": "code",
   "execution_count": 20,
   "id": "ec2eaca2-6487-4f42-837e-60162fcacaf5",
   "metadata": {},
   "outputs": [
    {
     "data": {
      "text/plain": [
       "1"
      ]
     },
     "execution_count": 20,
     "metadata": {},
     "output_type": "execute_result"
    }
   ],
   "source": [
    "t1.count(6)\n",
    "# in this example 6 number comes in t1 1 time so it print 1"
   ]
  },
  {
   "cell_type": "code",
   "execution_count": 25,
   "id": "e6dc9526-c6f0-4a76-934b-b663ff05fe51",
   "metadata": {},
   "outputs": [
    {
     "data": {
      "text/plain": [
       "2"
      ]
     },
     "execution_count": 25,
     "metadata": {},
     "output_type": "execute_result"
    }
   ],
   "source": [
    "t1.count(True)\n",
    "# here True comes 2 times means 1 also understand as True by system\n",
    "# internaly system save True as 1"
   ]
  },
  {
   "cell_type": "code",
   "execution_count": 22,
   "id": "ae2495da-d8c7-4d42-83cb-b46b6bf5f949",
   "metadata": {},
   "outputs": [
    {
     "data": {
      "text/plain": [
       "1"
      ]
     },
     "execution_count": 22,
     "metadata": {},
     "output_type": "execute_result"
    }
   ],
   "source": [
    "t1.count(7)"
   ]
  },
  {
   "cell_type": "code",
   "execution_count": 24,
   "id": "84722857-51df-45db-b8aa-9b7284a8d511",
   "metadata": {},
   "outputs": [
    {
     "data": {
      "text/plain": [
       "1"
      ]
     },
     "execution_count": 24,
     "metadata": {},
     "output_type": "execute_result"
    }
   ],
   "source": [
    "t1.count(\"vibhu\")"
   ]
  },
  {
   "cell_type": "markdown",
   "id": "44966130-2ee6-4edb-abc0-93aa7d9573e2",
   "metadata": {},
   "source": [
    "#### index function\n",
    "##### index function is used to element position in touple"
   ]
  },
  {
   "cell_type": "code",
   "execution_count": 26,
   "id": "31cd8691-0504-466a-8f33-bfa2c3281077",
   "metadata": {},
   "outputs": [
    {
     "data": {
      "text/plain": [
       "0"
      ]
     },
     "execution_count": 26,
     "metadata": {},
     "output_type": "execute_result"
    }
   ],
   "source": [
    "t1.index(1)"
   ]
  },
  {
   "cell_type": "code",
   "execution_count": 27,
   "id": "019c524f-e4a1-4a1f-8117-6869bc798f73",
   "metadata": {},
   "outputs": [
    {
     "data": {
      "text/plain": [
       "4"
      ]
     },
     "execution_count": 27,
     "metadata": {},
     "output_type": "execute_result"
    }
   ],
   "source": [
    "t1.index(6)"
   ]
  },
  {
   "cell_type": "code",
   "execution_count": 29,
   "id": "4623ed39-3ac9-41be-b283-8469291179d7",
   "metadata": {},
   "outputs": [
    {
     "data": {
      "text/plain": [
       "1"
      ]
     },
     "execution_count": 29,
     "metadata": {},
     "output_type": "execute_result"
    }
   ],
   "source": [
    "t1.index(\"vibhu\")"
   ]
  },
  {
   "cell_type": "code",
   "execution_count": 30,
   "id": "e5ce1e15-2be2-4a00-be44-d7f0e4a6b091",
   "metadata": {},
   "outputs": [
    {
     "data": {
      "text/plain": [
       "6"
      ]
     },
     "execution_count": 30,
     "metadata": {},
     "output_type": "execute_result"
    }
   ],
   "source": [
    "t1.index(4)"
   ]
  },
  {
   "cell_type": "code",
   "execution_count": 31,
   "id": "fe50ee8c-0470-4ab2-b6ae-3304190935d9",
   "metadata": {},
   "outputs": [
    {
     "data": {
      "text/plain": [
       "(True, 'vibhu', (8+5j), 7, 6, 5, 4, 3, 2, 1)"
      ]
     },
     "execution_count": 31,
     "metadata": {},
     "output_type": "execute_result"
    }
   ],
   "source": [
    "t1"
   ]
  },
  {
   "cell_type": "code",
   "execution_count": 32,
   "id": "8fbd553b-9243-4415-9640-5ff00294a3cb",
   "metadata": {},
   "outputs": [
    {
     "data": {
      "text/plain": [
       "2"
      ]
     },
     "execution_count": 32,
     "metadata": {},
     "output_type": "execute_result"
    }
   ],
   "source": [
    "t1.count(True)"
   ]
  },
  {
   "cell_type": "code",
   "execution_count": 33,
   "id": "bc94ad6e-513d-40eb-9c66-20e234a28578",
   "metadata": {},
   "outputs": [
    {
     "data": {
      "text/plain": [
       "2"
      ]
     },
     "execution_count": 33,
     "metadata": {},
     "output_type": "execute_result"
    }
   ],
   "source": [
    "t1.count(1)"
   ]
  },
  {
   "cell_type": "markdown",
   "id": "10cf3b3b-e2ac-4928-89cb-8966747a0dd2",
   "metadata": {},
   "source": [
    "##### diff. bet. touple and list is mutability and inmutability"
   ]
  },
  {
   "cell_type": "markdown",
   "id": "13127297-008b-4406-94ba-1cafd8b8899f",
   "metadata": {},
   "source": [
    "##### we cannot change any value in a existance touple"
   ]
  },
  {
   "cell_type": "code",
   "execution_count": 34,
   "id": "d4496fb2-59da-4c84-a461-ec3386a18a01",
   "metadata": {},
   "outputs": [
    {
     "data": {
      "text/plain": [
       "(True, 'vibhu', (8+5j), 7, 6, 5, 4, 3, 2, 1)"
      ]
     },
     "execution_count": 34,
     "metadata": {},
     "output_type": "execute_result"
    }
   ],
   "source": [
    "t1"
   ]
  },
  {
   "cell_type": "code",
   "execution_count": 35,
   "id": "d805018d-ae9c-4b40-9c0a-5984bf384f58",
   "metadata": {},
   "outputs": [
    {
     "data": {
      "text/plain": [
       "[1, 2, 3, 4]"
      ]
     },
     "execution_count": 35,
     "metadata": {},
     "output_type": "execute_result"
    }
   ],
   "source": [
    "l"
   ]
  },
  {
   "cell_type": "code",
   "execution_count": 36,
   "id": "2fb34a36-6440-42d9-95eb-7c1a0786c1f8",
   "metadata": {},
   "outputs": [
    {
     "data": {
      "text/plain": [
       "True"
      ]
     },
     "execution_count": 36,
     "metadata": {},
     "output_type": "execute_result"
    }
   ],
   "source": [
    "t1[0]"
   ]
  },
  {
   "cell_type": "markdown",
   "id": "0f4a4dad-0d0d-42a2-a4c8-38f4dd386064",
   "metadata": {},
   "source": [
    "##### Tuple are basically an Immutabality where it is is not going to alllow to change any element at a particular index"
   ]
  },
  {
   "cell_type": "code",
   "execution_count": 37,
   "id": "161101d8-bea5-4718-83ad-c634c2ee52bc",
   "metadata": {},
   "outputs": [
    {
     "ename": "TypeError",
     "evalue": "'tuple' object does not support item assignment",
     "output_type": "error",
     "traceback": [
      "\u001b[0;31m---------------------------------------------------------------------------\u001b[0m",
      "\u001b[0;31mTypeError\u001b[0m                                 Traceback (most recent call last)",
      "Cell \u001b[0;32mIn[37], line 1\u001b[0m\n\u001b[0;32m----> 1\u001b[0m \u001b[43mt1\u001b[49m\u001b[43m[\u001b[49m\u001b[38;5;241;43m0\u001b[39;49m\u001b[43m]\u001b[49m \u001b[38;5;241m=\u001b[39m \u001b[38;5;241m365\u001b[39m\n",
      "\u001b[0;31mTypeError\u001b[0m: 'tuple' object does not support item assignment"
     ]
    }
   ],
   "source": [
    "t1[0] = 365"
   ]
  },
  {
   "cell_type": "code",
   "execution_count": 38,
   "id": "e9f47512-0e1a-47ce-bdf4-fd2e5d8f80fa",
   "metadata": {},
   "outputs": [],
   "source": [
    "l[0] = 657"
   ]
  },
  {
   "cell_type": "code",
   "execution_count": 39,
   "id": "de848454-1c29-4024-9c40-983c6b96288d",
   "metadata": {},
   "outputs": [
    {
     "data": {
      "text/plain": [
       "657"
      ]
     },
     "execution_count": 39,
     "metadata": {},
     "output_type": "execute_result"
    }
   ],
   "source": [
    "l[0]"
   ]
  },
  {
   "cell_type": "code",
   "execution_count": 40,
   "id": "05214266-fe81-4728-940b-81e257628678",
   "metadata": {},
   "outputs": [
    {
     "data": {
      "text/plain": [
       "[657, 2, 3, 4]"
      ]
     },
     "execution_count": 40,
     "metadata": {},
     "output_type": "execute_result"
    }
   ],
   "source": [
    "l"
   ]
  },
  {
   "cell_type": "markdown",
   "id": "89430993-aa70-4d0b-bd16-a29d3b903c2e",
   "metadata": {},
   "source": [
    "##### iterate using for loop"
   ]
  },
  {
   "cell_type": "code",
   "execution_count": 42,
   "id": "d2b025bc-aab3-4bb8-8572-e7252fd65bfe",
   "metadata": {},
   "outputs": [
    {
     "name": "stdout",
     "output_type": "stream",
     "text": [
      "True\n",
      "vibhu\n",
      "(8+5j)\n",
      "7\n",
      "6\n",
      "5\n",
      "4\n",
      "3\n",
      "2\n",
      "1\n"
     ]
    }
   ],
   "source": [
    "for i in t1:\n",
    "    print(i)"
   ]
  },
  {
   "cell_type": "code",
   "execution_count": 44,
   "id": "25c2a2ad-7ff0-4861-ba8f-b1831de0928c",
   "metadata": {},
   "outputs": [
    {
     "data": {
      "text/plain": [
       "int"
      ]
     },
     "execution_count": 44,
     "metadata": {},
     "output_type": "execute_result"
    }
   ],
   "source": [
    "type(i)"
   ]
  },
  {
   "cell_type": "code",
   "execution_count": 4,
   "id": "e214a65a-0113-4b28-95aa-84f0c45b74a0",
   "metadata": {},
   "outputs": [],
   "source": [
    "t1 = ((True, 'vibhu', (8+5j), 7, 6, 5, 4, 3, 2, 1))"
   ]
  },
  {
   "cell_type": "code",
   "execution_count": 5,
   "id": "3c086d9d-7248-4337-a876-f67cb318c5a0",
   "metadata": {},
   "outputs": [
    {
     "name": "stdout",
     "output_type": "stream",
     "text": [
      "True <class 'bool'>\n",
      "vibhu <class 'str'>\n",
      "(8+5j) <class 'complex'>\n",
      "7 <class 'int'>\n",
      "6 <class 'int'>\n",
      "5 <class 'int'>\n",
      "4 <class 'int'>\n",
      "3 <class 'int'>\n",
      "2 <class 'int'>\n",
      "1 <class 'int'>\n"
     ]
    }
   ],
   "source": [
    "for i in t1:\n",
    "    print(i, type(i))"
   ]
  },
  {
   "cell_type": "code",
   "execution_count": 6,
   "id": "39810760-93b2-403d-9a1d-72eb5b4bf1d7",
   "metadata": {},
   "outputs": [],
   "source": [
    "t2 = (1,2,3,4)"
   ]
  },
  {
   "cell_type": "code",
   "execution_count": 7,
   "id": "31a497fc-8215-4d1b-92e2-1261b9113c25",
   "metadata": {},
   "outputs": [
    {
     "data": {
      "text/plain": [
       "(1, 2, 3, 4)"
      ]
     },
     "execution_count": 7,
     "metadata": {},
     "output_type": "execute_result"
    }
   ],
   "source": [
    "t2"
   ]
  },
  {
   "cell_type": "code",
   "execution_count": 8,
   "id": "42e5ad14-eb30-4119-8d77-a17bef618120",
   "metadata": {},
   "outputs": [
    {
     "data": {
      "text/plain": [
       "(1, 2, 3, 4, 1, 2, 3, 4, 1, 2, 3, 4)"
      ]
     },
     "execution_count": 8,
     "metadata": {},
     "output_type": "execute_result"
    }
   ],
   "source": [
    "t2 * 3"
   ]
  },
  {
   "cell_type": "code",
   "execution_count": 11,
   "id": "21ccaec5-1580-4dd0-88f7-ba9bfcf20d6f",
   "metadata": {},
   "outputs": [
    {
     "name": "stdout",
     "output_type": "stream",
     "text": [
      "1 (1, 2, 3, 4, 1, 2, 3, 4)\n",
      "2 (1, 2, 3, 4, 1, 2, 3, 4)\n",
      "3 (1, 2, 3, 4, 1, 2, 3, 4)\n",
      "4 (1, 2, 3, 4, 1, 2, 3, 4)\n"
     ]
    }
   ],
   "source": [
    "for i in t2:\n",
    "    print(i, t2*2)"
   ]
  },
  {
   "cell_type": "code",
   "execution_count": 12,
   "id": "8bf6f0c9-5f1e-4c93-b8b3-3b87adf410cb",
   "metadata": {},
   "outputs": [
    {
     "data": {
      "text/plain": [
       "4"
      ]
     },
     "execution_count": 12,
     "metadata": {},
     "output_type": "execute_result"
    }
   ],
   "source": [
    "max(t2)"
   ]
  },
  {
   "cell_type": "code",
   "execution_count": 13,
   "id": "f809a2e5-f5b9-493c-b978-485b5f80752d",
   "metadata": {},
   "outputs": [
    {
     "data": {
      "text/plain": [
       "1"
      ]
     },
     "execution_count": 13,
     "metadata": {},
     "output_type": "execute_result"
    }
   ],
   "source": [
    "min(t2)"
   ]
  },
  {
   "cell_type": "markdown",
   "id": "e0f8dc88-af21-4d15-95fb-5b1a15d3679f",
   "metadata": {},
   "source": [
    "##### create tuple inside tuple"
   ]
  },
  {
   "cell_type": "code",
   "execution_count": 14,
   "id": "055e1d19-6c98-43f9-b5b7-df369cf5fa8d",
   "metadata": {},
   "outputs": [],
   "source": [
    "t1 = (1,2,3,4)\n",
    "t2 = (5,6,7,8)"
   ]
  },
  {
   "cell_type": "code",
   "execution_count": 18,
   "id": "624a9428-19e5-4cbf-863f-370f97f463ef",
   "metadata": {},
   "outputs": [],
   "source": [
    "t3 = (t1,t2)"
   ]
  },
  {
   "cell_type": "code",
   "execution_count": 19,
   "id": "14cbaf08-518f-46ee-8805-c3a52a214610",
   "metadata": {},
   "outputs": [
    {
     "data": {
      "text/plain": [
       "((1, 2, 3, 4), (5, 6, 7, 8))"
      ]
     },
     "execution_count": 19,
     "metadata": {},
     "output_type": "execute_result"
    }
   ],
   "source": [
    "t3"
   ]
  },
  {
   "cell_type": "code",
   "execution_count": 20,
   "id": "0c9eb741-7085-43b8-9149-afdf46dfe8a3",
   "metadata": {},
   "outputs": [],
   "source": [
    "t4 = (1,2,3,4, [1,2,3,4])"
   ]
  },
  {
   "cell_type": "markdown",
   "id": "286e6a88-fb8f-46ec-844b-7adfaa679991",
   "metadata": {},
   "source": [
    "t4"
   ]
  },
  {
   "cell_type": "code",
   "execution_count": 21,
   "id": "d18f8a5f-9eec-41c9-9334-7a9fcfce0fe6",
   "metadata": {},
   "outputs": [
    {
     "data": {
      "text/plain": [
       "(1, 2, 3, 4, [1, 2, 3, 4])"
      ]
     },
     "execution_count": 21,
     "metadata": {},
     "output_type": "execute_result"
    }
   ],
   "source": [
    "t4"
   ]
  },
  {
   "cell_type": "markdown",
   "id": "ffa6648d-671f-42e0-8171-f4cf6043aee8",
   "metadata": {},
   "source": [
    "##### del function is used as delete function"
   ]
  },
  {
   "cell_type": "code",
   "execution_count": 23,
   "id": "ae1abcdf-a888-4b69-8d09-0d2510557c0d",
   "metadata": {},
   "outputs": [],
   "source": [
    "del t4"
   ]
  },
  {
   "cell_type": "code",
   "execution_count": 24,
   "id": "062af7ca-e6a2-4ac5-bfc4-826f4448af01",
   "metadata": {},
   "outputs": [
    {
     "ename": "NameError",
     "evalue": "name 't4' is not defined",
     "output_type": "error",
     "traceback": [
      "\u001b[0;31m---------------------------------------------------------------------------\u001b[0m",
      "\u001b[0;31mNameError\u001b[0m                                 Traceback (most recent call last)",
      "Cell \u001b[0;32mIn[24], line 1\u001b[0m\n\u001b[0;32m----> 1\u001b[0m \u001b[43mt4\u001b[49m\n",
      "\u001b[0;31mNameError\u001b[0m: name 't4' is not defined"
     ]
    }
   ],
   "source": [
    "t4"
   ]
  },
  {
   "cell_type": "code",
   "execution_count": 25,
   "id": "480c4e3a-91c3-49e3-9831-dc7cd7560a6a",
   "metadata": {},
   "outputs": [
    {
     "data": {
      "text/plain": [
       "(1, 2, 3, 4)"
      ]
     },
     "execution_count": 25,
     "metadata": {},
     "output_type": "execute_result"
    }
   ],
   "source": [
    "t1"
   ]
  },
  {
   "cell_type": "code",
   "execution_count": 26,
   "id": "837b7eaa-608e-4861-8f1d-0f074cd2725f",
   "metadata": {},
   "outputs": [
    {
     "data": {
      "text/plain": [
       "(5, 6, 7, 8)"
      ]
     },
     "execution_count": 26,
     "metadata": {},
     "output_type": "execute_result"
    }
   ],
   "source": [
    "t2"
   ]
  },
  {
   "cell_type": "code",
   "execution_count": 27,
   "id": "cc36161a-2f7c-49a8-87a5-da9ff3c56845",
   "metadata": {},
   "outputs": [
    {
     "data": {
      "text/plain": [
       "((1, 2, 3, 4), (5, 6, 7, 8))"
      ]
     },
     "execution_count": 27,
     "metadata": {},
     "output_type": "execute_result"
    }
   ],
   "source": [
    "t3"
   ]
  },
  {
   "cell_type": "code",
   "execution_count": 28,
   "id": "0de4da8a-efe8-438b-9a37-c321b69cefb8",
   "metadata": {},
   "outputs": [
    {
     "data": {
      "text/plain": [
       "4"
      ]
     },
     "execution_count": 28,
     "metadata": {},
     "output_type": "execute_result"
    }
   ],
   "source": [
    "len(t1)"
   ]
  },
  {
   "cell_type": "code",
   "execution_count": 29,
   "id": "4237bac4-eb0c-4faa-8f1b-2e385e002f5b",
   "metadata": {},
   "outputs": [
    {
     "data": {
      "text/plain": [
       "4"
      ]
     },
     "execution_count": 29,
     "metadata": {},
     "output_type": "execute_result"
    }
   ],
   "source": [
    "len(t2)"
   ]
  },
  {
   "cell_type": "code",
   "execution_count": 30,
   "id": "922cf65e-6e45-42ad-9b33-64a9ddfea808",
   "metadata": {},
   "outputs": [
    {
     "data": {
      "text/plain": [
       "2"
      ]
     },
     "execution_count": 30,
     "metadata": {},
     "output_type": "execute_result"
    }
   ],
   "source": [
    "len(t3)"
   ]
  },
  {
   "cell_type": "code",
   "execution_count": 32,
   "id": "57d25cfb-3284-4cdd-9ad7-11fbd12c0db3",
   "metadata": {},
   "outputs": [
    {
     "data": {
      "text/plain": [
       "(5, 6, 7, 8)"
      ]
     },
     "execution_count": 32,
     "metadata": {},
     "output_type": "execute_result"
    }
   ],
   "source": [
    "t2"
   ]
  },
  {
   "cell_type": "markdown",
   "id": "d7a38a65-4bbf-4ef3-8ff6-35d08ddd00f8",
   "metadata": {},
   "source": [
    "##### to check whether particular element present or not"
   ]
  },
  {
   "cell_type": "code",
   "execution_count": 33,
   "id": "565557af-210c-4589-a90c-ea3e81771d06",
   "metadata": {},
   "outputs": [
    {
     "data": {
      "text/plain": [
       "False"
      ]
     },
     "execution_count": 33,
     "metadata": {},
     "output_type": "execute_result"
    }
   ],
   "source": [
    "\"vaibh\" in t2"
   ]
  },
  {
   "cell_type": "code",
   "execution_count": 34,
   "id": "09b48e67-ccf3-49bc-b4f3-a85c3f356a1e",
   "metadata": {},
   "outputs": [
    {
     "data": {
      "text/plain": [
       "True"
      ]
     },
     "execution_count": 34,
     "metadata": {},
     "output_type": "execute_result"
    }
   ],
   "source": [
    "5 in t2"
   ]
  },
  {
   "cell_type": "markdown",
   "id": "a2d5fb9b-525e-4b03-980e-9bf4727b82b4",
   "metadata": {},
   "source": [
    "## Sets"
   ]
  },
  {
   "cell_type": "code",
   "execution_count": 35,
   "id": "6e90caa9-3f8a-4b79-97ae-080def162caa",
   "metadata": {},
   "outputs": [],
   "source": [
    "# it is another type of collection and which is available in python\n",
    "# it removes duplicates from the function\n",
    "# and also arrange into assending order\n",
    "# it cannot write repeat word again"
   ]
  },
  {
   "cell_type": "code",
   "execution_count": 36,
   "id": "9812b814-bd3c-4911-a30d-4cb0d64f8728",
   "metadata": {},
   "outputs": [],
   "source": [
    "s = {}"
   ]
  },
  {
   "cell_type": "code",
   "execution_count": 37,
   "id": "b29ecec7-a267-4c54-a07e-75f056f25c63",
   "metadata": {},
   "outputs": [
    {
     "data": {
      "text/plain": [
       "dict"
      ]
     },
     "execution_count": 37,
     "metadata": {},
     "output_type": "execute_result"
    }
   ],
   "source": [
    "type(s)"
   ]
  },
  {
   "cell_type": "code",
   "execution_count": 38,
   "id": "8452afee-8850-4c17-ac66-3467b5a42e65",
   "metadata": {},
   "outputs": [],
   "source": [
    "t = {1,3}"
   ]
  },
  {
   "cell_type": "code",
   "execution_count": 39,
   "id": "afdb48d0-43c4-47e4-ad59-c6916b245ce1",
   "metadata": {},
   "outputs": [
    {
     "data": {
      "text/plain": [
       "set"
      ]
     },
     "execution_count": 39,
     "metadata": {},
     "output_type": "execute_result"
    }
   ],
   "source": [
    "type(t)"
   ]
  },
  {
   "cell_type": "code",
   "execution_count": 40,
   "id": "0fee4605-53ee-4ea1-8cea-dda54235952b",
   "metadata": {},
   "outputs": [],
   "source": [
    "s1 = {1,2,3,4,5}"
   ]
  },
  {
   "cell_type": "code",
   "execution_count": 41,
   "id": "21696b20-c5fa-44ed-aff4-69a1830f24ae",
   "metadata": {},
   "outputs": [
    {
     "data": {
      "text/plain": [
       "set"
      ]
     },
     "execution_count": 41,
     "metadata": {},
     "output_type": "execute_result"
    }
   ],
   "source": [
    "type(s1)"
   ]
  },
  {
   "cell_type": "code",
   "execution_count": 42,
   "id": "dc7ef877-9862-4c0a-ba9f-624c53ec44e0",
   "metadata": {},
   "outputs": [],
   "source": [
    "s2 = {1,3,4,45,5,2,3,31,12,34,42,21,2,3,4,5,3,4,4,555,3}"
   ]
  },
  {
   "cell_type": "code",
   "execution_count": 43,
   "id": "ec907baf-4984-41ad-9aac-c67cc1900f4d",
   "metadata": {},
   "outputs": [
    {
     "data": {
      "text/plain": [
       "{1, 2, 3, 4, 5, 12, 21, 31, 34, 42, 45, 555}"
      ]
     },
     "execution_count": 43,
     "metadata": {},
     "output_type": "execute_result"
    }
   ],
   "source": [
    "s2"
   ]
  },
  {
   "cell_type": "markdown",
   "id": "1fe6c4e6-e069-4b2b-aad0-a5bb01c88f9b",
   "metadata": {},
   "source": [
    "##### convert set into list"
   ]
  },
  {
   "cell_type": "code",
   "execution_count": 50,
   "id": "03ec5770-d64d-44bc-a928-ab4957dbfe61",
   "metadata": {},
   "outputs": [
    {
     "data": {
      "text/plain": [
       "[1, 2, 3, 4, 5, 34, 42, 555, 12, 45, 21, 31]"
      ]
     },
     "execution_count": 50,
     "metadata": {},
     "output_type": "execute_result"
    }
   ],
   "source": [
    "list(s2)"
   ]
  },
  {
   "cell_type": "markdown",
   "id": "fadd9c13-e9d3-4d09-a32c-a934c1f9692e",
   "metadata": {},
   "source": [
    "##### convert tuple into set"
   ]
  },
  {
   "cell_type": "code",
   "execution_count": 46,
   "id": "e061704e-6249-4588-a927-d273c404cc3e",
   "metadata": {},
   "outputs": [
    {
     "data": {
      "text/plain": [
       "(1, 2, 3, 4, 5, 34, 42, 555, 12, 45, 21, 31)"
      ]
     },
     "execution_count": 46,
     "metadata": {},
     "output_type": "execute_result"
    }
   ],
   "source": [
    "tuple(s2)"
   ]
  },
  {
   "cell_type": "code",
   "execution_count": 51,
   "id": "bf0922c7-017f-47d1-85c8-76e78dfdaee4",
   "metadata": {},
   "outputs": [],
   "source": [
    "l = list(s2)"
   ]
  },
  {
   "cell_type": "code",
   "execution_count": 52,
   "id": "78aad757-9173-4a50-89c8-ef33c8fd4826",
   "metadata": {},
   "outputs": [
    {
     "data": {
      "text/plain": [
       "[1, 2, 3, 4, 5, 34, 42, 555, 12, 45, 21, 31]"
      ]
     },
     "execution_count": 52,
     "metadata": {},
     "output_type": "execute_result"
    }
   ],
   "source": [
    "l"
   ]
  },
  {
   "cell_type": "code",
   "execution_count": 54,
   "id": "cc413bf2-9bcd-46cd-8f72-5713fe8845d1",
   "metadata": {},
   "outputs": [
    {
     "data": {
      "text/plain": [
       "{1, 2, 3, 4, 5, 12, 21, 31, 34, 42, 45, 555}"
      ]
     },
     "execution_count": 54,
     "metadata": {},
     "output_type": "execute_result"
    }
   ],
   "source": [
    "set(l)"
   ]
  },
  {
   "cell_type": "markdown",
   "id": "bdca573c-4b8a-4b35-b950-4332afa5160e",
   "metadata": {},
   "source": [
    "in the set we cannot add list because we can make changes in it but\n",
    "it accept the tuple because in tuple we cannot make change."
   ]
  },
  {
   "cell_type": "code",
   "execution_count": 55,
   "id": "8c88380c-cbdb-44a5-9419-7c39f2fdc4f8",
   "metadata": {},
   "outputs": [
    {
     "ename": "TypeError",
     "evalue": "unhashable type: 'list'",
     "output_type": "error",
     "traceback": [
      "\u001b[0;31m---------------------------------------------------------------------------\u001b[0m",
      "\u001b[0;31mTypeError\u001b[0m                                 Traceback (most recent call last)",
      "Cell \u001b[0;32mIn[55], line 1\u001b[0m\n\u001b[0;32m----> 1\u001b[0m s4 \u001b[38;5;241m=\u001b[39m {\u001b[38;5;241m1\u001b[39m,\u001b[38;5;241m2\u001b[39m,\u001b[38;5;241m3\u001b[39m,\u001b[38;5;241m4\u001b[39m,[\u001b[38;5;241m1\u001b[39m,\u001b[38;5;241m2\u001b[39m,\u001b[38;5;241m3\u001b[39m,\u001b[38;5;241m4\u001b[39m]}\n",
      "\u001b[0;31mTypeError\u001b[0m: unhashable type: 'list'"
     ]
    }
   ],
   "source": [
    "s4 = {1,2,3,4,[1,2,3,4]}"
   ]
  },
  {
   "cell_type": "code",
   "execution_count": 56,
   "id": "68eec1c6-876e-47d1-bcc3-64799eb91208",
   "metadata": {},
   "outputs": [],
   "source": [
    "s5 = {1,2,3,4,(1,2,3,4)}"
   ]
  },
  {
   "cell_type": "code",
   "execution_count": 57,
   "id": "6d590bc8-1861-4a55-ad4f-b436968e7c1d",
   "metadata": {},
   "outputs": [
    {
     "data": {
      "text/plain": [
       "{(1, 2, 3, 4), 1, 2, 3, 4}"
      ]
     },
     "execution_count": 57,
     "metadata": {},
     "output_type": "execute_result"
    }
   ],
   "source": [
    "s5"
   ]
  },
  {
   "cell_type": "markdown",
   "id": "345a0382-14bf-4964-9df3-bb23efb5117d",
   "metadata": {},
   "source": [
    "in below example in set it reorder and also take capital word first \n",
    "because python is case sensitive language"
   ]
  },
  {
   "cell_type": "code",
   "execution_count": 58,
   "id": "bb09d482-13c4-427c-a9cb-84989ca18951",
   "metadata": {},
   "outputs": [],
   "source": [
    "s6 = {\"vaibhu\",\"Vaibhu\",1,2,34}"
   ]
  },
  {
   "cell_type": "code",
   "execution_count": 59,
   "id": "eb9d3d99-662b-4131-83a7-012bb9d912f9",
   "metadata": {},
   "outputs": [
    {
     "data": {
      "text/plain": [
       "{1, 2, 34, 'Vaibhu', 'vaibhu'}"
      ]
     },
     "execution_count": 59,
     "metadata": {},
     "output_type": "execute_result"
    }
   ],
   "source": [
    "s6"
   ]
  },
  {
   "cell_type": "code",
   "execution_count": 60,
   "id": "e5edbd00-99a0-4853-beea-0772e1bd545c",
   "metadata": {},
   "outputs": [],
   "source": [
    "s7 = {\"vaibhu\",\"vaibhu\",1,2,34}"
   ]
  },
  {
   "cell_type": "code",
   "execution_count": 61,
   "id": "dc78189f-b479-48b7-bd66-183147d94f91",
   "metadata": {},
   "outputs": [
    {
     "data": {
      "text/plain": [
       "{1, 2, 34, 'vaibhu'}"
      ]
     },
     "execution_count": 61,
     "metadata": {},
     "output_type": "execute_result"
    }
   ],
   "source": [
    "s7"
   ]
  },
  {
   "cell_type": "markdown",
   "id": "4614b78b-226f-488b-8a52-4cf79e2d7d1a",
   "metadata": {},
   "source": [
    "extract element from set\n",
    "we cannot extarct any element directorly but,\n",
    "we can extract with the help of for loop"
   ]
  },
  {
   "cell_type": "code",
   "execution_count": 62,
   "id": "0b676483-5dce-42cc-91e6-b5a131bba37d",
   "metadata": {},
   "outputs": [
    {
     "ename": "TypeError",
     "evalue": "'set' object is not subscriptable",
     "output_type": "error",
     "traceback": [
      "\u001b[0;31m---------------------------------------------------------------------------\u001b[0m",
      "\u001b[0;31mTypeError\u001b[0m                                 Traceback (most recent call last)",
      "Cell \u001b[0;32mIn[62], line 1\u001b[0m\n\u001b[0;32m----> 1\u001b[0m \u001b[43ms7\u001b[49m\u001b[43m[\u001b[49m\u001b[38;5;241;43m0\u001b[39;49m\u001b[43m]\u001b[49m\n",
      "\u001b[0;31mTypeError\u001b[0m: 'set' object is not subscriptable"
     ]
    }
   ],
   "source": [
    "s7[0]"
   ]
  },
  {
   "cell_type": "code",
   "execution_count": 63,
   "id": "53103503-83ab-4735-a7f6-6db66431086e",
   "metadata": {},
   "outputs": [
    {
     "ename": "TypeError",
     "evalue": "'set' object is not subscriptable",
     "output_type": "error",
     "traceback": [
      "\u001b[0;31m---------------------------------------------------------------------------\u001b[0m",
      "\u001b[0;31mTypeError\u001b[0m                                 Traceback (most recent call last)",
      "Cell \u001b[0;32mIn[63], line 1\u001b[0m\n\u001b[0;32m----> 1\u001b[0m \u001b[43ms7\u001b[49m\u001b[43m[\u001b[49m\u001b[43m:\u001b[49m\u001b[43m:\u001b[49m\u001b[38;5;241;43m-\u001b[39;49m\u001b[38;5;241;43m1\u001b[39;49m\u001b[43m]\u001b[49m\n",
      "\u001b[0;31mTypeError\u001b[0m: 'set' object is not subscriptable"
     ]
    }
   ],
   "source": [
    "s7[::-1]"
   ]
  },
  {
   "cell_type": "code",
   "execution_count": 65,
   "id": "0ab5d2ad-071b-46bd-bc5a-16c415b579db",
   "metadata": {},
   "outputs": [
    {
     "data": {
      "text/plain": [
       "{1, 2, 34, 'vaibhu'}"
      ]
     },
     "execution_count": 65,
     "metadata": {},
     "output_type": "execute_result"
    }
   ],
   "source": [
    "s7"
   ]
  },
  {
   "cell_type": "code",
   "execution_count": 66,
   "id": "edd4d7e3-52a7-4c98-bf47-09e1724735aa",
   "metadata": {},
   "outputs": [
    {
     "name": "stdout",
     "output_type": "stream",
     "text": [
      "1\n",
      "vaibhu\n",
      "2\n",
      "34\n"
     ]
    }
   ],
   "source": [
    "for i in s7:\n",
    "    print(i)"
   ]
  },
  {
   "cell_type": "markdown",
   "id": "0617dfaf-cf15-4fc3-a458-d17ba1c7a80f",
   "metadata": {},
   "source": [
    "##### functions used in set"
   ]
  },
  {
   "cell_type": "code",
   "execution_count": 67,
   "id": "66e8d4c7-c6c7-42b6-94f2-4c331b647643",
   "metadata": {},
   "outputs": [
    {
     "data": {
      "text/plain": [
       "{1, 2, 34, 'vaibhu'}"
      ]
     },
     "execution_count": 67,
     "metadata": {},
     "output_type": "execute_result"
    }
   ],
   "source": [
    "s7"
   ]
  },
  {
   "cell_type": "code",
   "execution_count": 70,
   "id": "86f5efcb-a10c-4e76-8ca9-8114aeda58bf",
   "metadata": {},
   "outputs": [],
   "source": [
    "s7.add(54)"
   ]
  },
  {
   "cell_type": "code",
   "execution_count": 71,
   "id": "ced8b77f-1673-4f21-bd1f-fd80879b6986",
   "metadata": {},
   "outputs": [
    {
     "data": {
      "text/plain": [
       "{1, 2, 34, 54, 'vaibhu'}"
      ]
     },
     "execution_count": 71,
     "metadata": {},
     "output_type": "execute_result"
    }
   ],
   "source": [
    "s7"
   ]
  },
  {
   "cell_type": "code",
   "execution_count": 72,
   "id": "970df5f6-3c9f-4c38-a6e3-5596c0add19a",
   "metadata": {},
   "outputs": [
    {
     "data": {
      "text/plain": [
       "5"
      ]
     },
     "execution_count": 72,
     "metadata": {},
     "output_type": "execute_result"
    }
   ],
   "source": [
    "len(s7)"
   ]
  },
  {
   "cell_type": "markdown",
   "id": "760420b9-0516-4e9f-8820-2da4ded9d2c6",
   "metadata": {},
   "source": [
    "##### pop function used to remove first word"
   ]
  },
  {
   "cell_type": "code",
   "execution_count": 73,
   "id": "01439ac2-d177-488b-85b2-9afc7c91921a",
   "metadata": {},
   "outputs": [
    {
     "data": {
      "text/plain": [
       "1"
      ]
     },
     "execution_count": 73,
     "metadata": {},
     "output_type": "execute_result"
    }
   ],
   "source": [
    "s7.pop()"
   ]
  },
  {
   "cell_type": "code",
   "execution_count": 74,
   "id": "d334b15d-4d3a-4e6f-8de2-096be0795357",
   "metadata": {},
   "outputs": [
    {
     "data": {
      "text/plain": [
       "{2, 34, 54, 'vaibhu'}"
      ]
     },
     "execution_count": 74,
     "metadata": {},
     "output_type": "execute_result"
    }
   ],
   "source": [
    "s7"
   ]
  },
  {
   "cell_type": "code",
   "execution_count": 75,
   "id": "f5525038-9780-48e7-9378-6dfa723630ce",
   "metadata": {},
   "outputs": [
    {
     "data": {
      "text/plain": [
       "2"
      ]
     },
     "execution_count": 75,
     "metadata": {},
     "output_type": "execute_result"
    }
   ],
   "source": [
    "s7.pop()"
   ]
  },
  {
   "cell_type": "code",
   "execution_count": 76,
   "id": "0fd463f0-424a-47fd-af9d-59e562177f93",
   "metadata": {},
   "outputs": [
    {
     "data": {
      "text/plain": [
       "{34, 54, 'vaibhu'}"
      ]
     },
     "execution_count": 76,
     "metadata": {},
     "output_type": "execute_result"
    }
   ],
   "source": [
    "s7"
   ]
  },
  {
   "cell_type": "code",
   "execution_count": 77,
   "id": "8acd7228-96af-4274-9357-3f45464c17c5",
   "metadata": {},
   "outputs": [],
   "source": [
    "f1 = {1,2,3,4,4}"
   ]
  },
  {
   "cell_type": "code",
   "execution_count": 78,
   "id": "de9b38cb-c722-489e-8306-67d4e569180d",
   "metadata": {},
   "outputs": [
    {
     "data": {
      "text/plain": [
       "{1, 2, 3, 4}"
      ]
     },
     "execution_count": 78,
     "metadata": {},
     "output_type": "execute_result"
    }
   ],
   "source": [
    "f1"
   ]
  },
  {
   "cell_type": "code",
   "execution_count": 83,
   "id": "d9d48986-848d-49ef-b4d3-a59393ca7398",
   "metadata": {},
   "outputs": [
    {
     "data": {
      "text/plain": [
       "{34, 54, 'vaibhu'}"
      ]
     },
     "execution_count": 83,
     "metadata": {},
     "output_type": "execute_result"
    }
   ],
   "source": [
    "s7"
   ]
  },
  {
   "cell_type": "markdown",
   "id": "c50e6e12-b230-4d10-a307-7043d12a76f8",
   "metadata": {},
   "source": [
    "clear is used remove all elemenent from function"
   ]
  },
  {
   "cell_type": "code",
   "execution_count": 84,
   "id": "c0111e5f-b1ef-4b5f-8742-201dc1b98478",
   "metadata": {},
   "outputs": [],
   "source": [
    "s7.clear()"
   ]
  },
  {
   "cell_type": "code",
   "execution_count": 85,
   "id": "355dbdc6-cc39-4140-9bf8-357cb531a99a",
   "metadata": {},
   "outputs": [
    {
     "data": {
      "text/plain": [
       "set()"
      ]
     },
     "execution_count": 85,
     "metadata": {},
     "output_type": "execute_result"
    }
   ],
   "source": [
    "s7"
   ]
  },
  {
   "cell_type": "markdown",
   "id": "4802f4db-2ab4-4dee-9f74-bdfd6a1e5a12",
   "metadata": {},
   "source": [
    "difference function gives the difference bet. two variables"
   ]
  },
  {
   "cell_type": "code",
   "execution_count": 6,
   "id": "dd3a134e-605d-43ea-89f6-b32a8e17c72a",
   "metadata": {},
   "outputs": [],
   "source": [
    "s8 = {1,2,3,4}\n",
    "s9 = {1,2,3,5}"
   ]
  },
  {
   "cell_type": "code",
   "execution_count": 87,
   "id": "73e74b67-03f1-4d29-addd-d33b4392e526",
   "metadata": {},
   "outputs": [
    {
     "data": {
      "text/plain": [
       "{4}"
      ]
     },
     "execution_count": 87,
     "metadata": {},
     "output_type": "execute_result"
    }
   ],
   "source": [
    "s8.difference(s9)"
   ]
  },
  {
   "cell_type": "code",
   "execution_count": null,
   "id": "d62014c1-eee6-4343-809b-aee540a8d3ca",
   "metadata": {},
   "outputs": [],
   "source": [
    "# append adds functions or element in variables"
   ]
  },
  {
   "cell_type": "code",
   "execution_count": 7,
   "id": "5316f81f-be0f-4b59-bdb3-ad747b0433a3",
   "metadata": {},
   "outputs": [
    {
     "ename": "AttributeError",
     "evalue": "'set' object has no attribute 'append'",
     "output_type": "error",
     "traceback": [
      "\u001b[0;31m---------------------------------------------------------------------------\u001b[0m",
      "\u001b[0;31mAttributeError\u001b[0m                            Traceback (most recent call last)",
      "Cell \u001b[0;32mIn[7], line 1\u001b[0m\n\u001b[0;32m----> 1\u001b[0m \u001b[43ms8\u001b[49m\u001b[38;5;241;43m.\u001b[39;49m\u001b[43mappend\u001b[49m(s9)\n",
      "\u001b[0;31mAttributeError\u001b[0m: 'set' object has no attribute 'append'"
     ]
    }
   ],
   "source": [
    "s8.append(s9)"
   ]
  },
  {
   "cell_type": "code",
   "execution_count": 11,
   "id": "8c7f046f-b421-4514-b945-9a589c49205e",
   "metadata": {},
   "outputs": [
    {
     "name": "stdout",
     "output_type": "stream",
     "text": [
      "['apple', 'banana', 'cherry', 'orange']\n"
     ]
    }
   ],
   "source": [
    "fruits = ['apple', 'banana', 'cherry']\n",
    "fruits.append(\"orange\")\n",
    "print(fruits)"
   ]
  },
  {
   "cell_type": "code",
   "execution_count": 88,
   "id": "0cda4717-d528-4807-965c-28b667922085",
   "metadata": {},
   "outputs": [
    {
     "data": {
      "text/plain": [
       "{5}"
      ]
     },
     "execution_count": 88,
     "metadata": {},
     "output_type": "execute_result"
    }
   ],
   "source": [
    "s9.difference(s8)"
   ]
  },
  {
   "cell_type": "code",
   "execution_count": 89,
   "id": "a62a83d5-59e3-475c-88d8-de70f1d3b945",
   "metadata": {},
   "outputs": [],
   "source": [
    "s8.difference_update(s9)"
   ]
  },
  {
   "cell_type": "code",
   "execution_count": 90,
   "id": "d42b4d74-f7e9-45b2-9f95-14a07b6b41e7",
   "metadata": {},
   "outputs": [],
   "source": [
    "s8 = {1,2,3,6,6}\n",
    "s9 = {1,2,3,5,8}"
   ]
  },
  {
   "cell_type": "code",
   "execution_count": 91,
   "id": "e5bc9947-c1ef-41bf-b2c5-7a5ed29992c8",
   "metadata": {},
   "outputs": [],
   "source": [
    "s8.difference_update(s9)"
   ]
  },
  {
   "cell_type": "code",
   "execution_count": 92,
   "id": "689e4321-a9dc-4c16-abd5-4b41f82c49e8",
   "metadata": {},
   "outputs": [
    {
     "data": {
      "text/plain": [
       "{6}"
      ]
     },
     "execution_count": 92,
     "metadata": {},
     "output_type": "execute_result"
    }
   ],
   "source": [
    "s8.difference(s9)"
   ]
  },
  {
   "cell_type": "code",
   "execution_count": 93,
   "id": "06a64141-1720-4b4f-be9b-00c3e1890117",
   "metadata": {},
   "outputs": [],
   "source": [
    "s8.difference_update(s9)"
   ]
  },
  {
   "cell_type": "code",
   "execution_count": 95,
   "id": "7b3baf7e-9290-4066-8b58-6467a1c41de6",
   "metadata": {},
   "outputs": [
    {
     "data": {
      "text/plain": [
       "{1, 2, 3, 4, 5}"
      ]
     },
     "execution_count": 95,
     "metadata": {},
     "output_type": "execute_result"
    }
   ],
   "source": [
    "s9.difference(s8)"
   ]
  },
  {
   "cell_type": "code",
   "execution_count": 96,
   "id": "8859c264-75d5-4fd8-a487-a6ecf1bb896d",
   "metadata": {},
   "outputs": [],
   "source": [
    "g1 = {1,2,3,4,5}\n",
    "g2 = {6,7,8,9,0}"
   ]
  },
  {
   "cell_type": "code",
   "execution_count": 100,
   "id": "cd2e1c5f-7539-4e4e-888f-3843eeb016f3",
   "metadata": {},
   "outputs": [
    {
     "data": {
      "text/plain": [
       "{0, 6, 7, 8, 9}"
      ]
     },
     "execution_count": 100,
     "metadata": {},
     "output_type": "execute_result"
    }
   ],
   "source": [
    "g2.difference(g1)"
   ]
  },
  {
   "cell_type": "code",
   "execution_count": 98,
   "id": "b89bd53a-7b3a-43f6-b95c-3900ca3db409",
   "metadata": {},
   "outputs": [],
   "source": [
    "g1.difference_update(g2)"
   ]
  },
  {
   "cell_type": "code",
   "execution_count": 99,
   "id": "11ac1faa-5708-47c3-9445-0abd112b071d",
   "metadata": {},
   "outputs": [
    {
     "data": {
      "text/plain": [
       "{1, 2, 3, 4, 5}"
      ]
     },
     "execution_count": 99,
     "metadata": {},
     "output_type": "execute_result"
    }
   ],
   "source": [
    "g1.difference(g2)"
   ]
  },
  {
   "cell_type": "markdown",
   "id": "cfb223d0-f0c0-4e55-9356-ac8ce791dfc4",
   "metadata": {},
   "source": [
    "#### Distionary"
   ]
  },
  {
   "cell_type": "code",
   "execution_count": null,
   "id": "33534ccd-7288-476a-b72e-85924a42c7eb",
   "metadata": {},
   "outputs": [],
   "source": [
    "# in dictonary we can add only tuples as key"
   ]
  },
  {
   "cell_type": "code",
   "execution_count": 2,
   "id": "36f48dec-da43-4ee8-a80c-238f79125ed6",
   "metadata": {},
   "outputs": [],
   "source": [
    "d = {}"
   ]
  },
  {
   "cell_type": "code",
   "execution_count": 4,
   "id": "c3d6992e-eb87-4b35-b997-27bb2ecfa318",
   "metadata": {},
   "outputs": [
    {
     "data": {
      "text/plain": [
       "dict"
      ]
     },
     "execution_count": 4,
     "metadata": {},
     "output_type": "execute_result"
    }
   ],
   "source": [
    "type(d)"
   ]
  },
  {
   "cell_type": "code",
   "execution_count": 27,
   "id": "daae067c-d52c-45c6-add9-35ef84828f34",
   "metadata": {},
   "outputs": [],
   "source": [
    "d1 = {\"Name\" : \"Vaibhav\", \"email-id\" : \"vaibhavrasal@gmail.com\", \"number\" : 112155455}"
   ]
  },
  {
   "cell_type": "code",
   "execution_count": 29,
   "id": "11c947ef-4a41-442c-a9c2-dab6b190740c",
   "metadata": {},
   "outputs": [
    {
     "name": "stdout",
     "output_type": "stream",
     "text": [
      "{'Name': 'Vaibhav', 'email-id': 'vaibhavrasal@gmail.com', 'number': 112155455}\n"
     ]
    }
   ],
   "source": [
    "print(d1)"
   ]
  },
  {
   "cell_type": "code",
   "execution_count": 30,
   "id": "711e5054-8c23-452f-b836-a73c1b83ff1f",
   "metadata": {},
   "outputs": [
    {
     "data": {
      "text/plain": [
       "dict"
      ]
     },
     "execution_count": 30,
     "metadata": {},
     "output_type": "execute_result"
    }
   ],
   "source": [
    "type(d1)"
   ]
  },
  {
   "cell_type": "code",
   "execution_count": 31,
   "id": "b0077d5b-5d08-423b-8dbe-88d061f41ee9",
   "metadata": {},
   "outputs": [],
   "source": [
    "d2 = {\"name\" : \"Vaibhav\", \"name\" : \"Vaibh\"}"
   ]
  },
  {
   "cell_type": "code",
   "execution_count": 32,
   "id": "cbfaa92a-c74c-4c46-8f27-8d057579c026",
   "metadata": {},
   "outputs": [
    {
     "data": {
      "text/plain": [
       "{'name': 'Vaibh'}"
      ]
     },
     "execution_count": 32,
     "metadata": {},
     "output_type": "execute_result"
    }
   ],
   "source": [
    "d2"
   ]
  },
  {
   "cell_type": "code",
   "execution_count": 33,
   "id": "9f9f9cbf-3a92-4928-8aac-2f96e6272121",
   "metadata": {},
   "outputs": [],
   "source": [
    "d3 = {\"name\" : \"dev\", \"name\" : \"mahadev\"}"
   ]
  },
  {
   "cell_type": "code",
   "execution_count": 34,
   "id": "89de6a9a-33c8-43bb-96b1-1878517cd929",
   "metadata": {},
   "outputs": [
    {
     "data": {
      "text/plain": [
       "{'name': 'mahadev'}"
      ]
     },
     "execution_count": 34,
     "metadata": {},
     "output_type": "execute_result"
    }
   ],
   "source": [
    "d3"
   ]
  },
  {
   "cell_type": "code",
   "execution_count": 35,
   "id": "9bbe3990-2f9f-44b1-a839-1f5fc09b9a02",
   "metadata": {},
   "outputs": [],
   "source": [
    "d4 = {256565 : \"Vaibhav\"}"
   ]
  },
  {
   "cell_type": "code",
   "execution_count": 36,
   "id": "87e52495-46fb-4f41-a59f-4178955f47a3",
   "metadata": {},
   "outputs": [
    {
     "data": {
      "text/plain": [
       "{256565: 'Vaibhav'}"
      ]
     },
     "execution_count": 36,
     "metadata": {},
     "output_type": "execute_result"
    }
   ],
   "source": [
    "d4"
   ]
  },
  {
   "cell_type": "code",
   "execution_count": 37,
   "id": "b88b2b84-a969-419f-a041-4b9ba205f621",
   "metadata": {},
   "outputs": [],
   "source": [
    "d5 = {673763 : \"Rasal\"}"
   ]
  },
  {
   "cell_type": "code",
   "execution_count": 38,
   "id": "f3988672-acd2-4603-85ee-3c7377937a56",
   "metadata": {},
   "outputs": [
    {
     "data": {
      "text/plain": [
       "{673763: 'Rasal'}"
      ]
     },
     "execution_count": 38,
     "metadata": {},
     "output_type": "execute_result"
    }
   ],
   "source": [
    "d5"
   ]
  },
  {
   "cell_type": "code",
   "execution_count": 39,
   "id": "0d69d38b-24a0-4c66-8664-920c93354f4a",
   "metadata": {},
   "outputs": [],
   "source": [
    "d6 = {True : \"ABC\"}"
   ]
  },
  {
   "cell_type": "code",
   "execution_count": 40,
   "id": "3919d2de-4794-48fa-8c30-4434da16e35a",
   "metadata": {},
   "outputs": [
    {
     "data": {
      "text/plain": [
       "{True: 'ABC'}"
      ]
     },
     "execution_count": 40,
     "metadata": {},
     "output_type": "execute_result"
    }
   ],
   "source": [
    "d6"
   ]
  },
  {
   "cell_type": "code",
   "execution_count": 42,
   "id": "0001a65d-e9cc-43d0-aa19-39facdddfa80",
   "metadata": {},
   "outputs": [
    {
     "ename": "SyntaxError",
     "evalue": "incomplete input (1489904017.py, line 1)",
     "output_type": "error",
     "traceback": [
      "\u001b[0;36m  Cell \u001b[0;32mIn[42], line 1\u001b[0;36m\u001b[0m\n\u001b[0;31m    d6 = {# : \"Vaibhav\"}\u001b[0m\n\u001b[0m                        ^\u001b[0m\n\u001b[0;31mSyntaxError\u001b[0m\u001b[0;31m:\u001b[0m incomplete input\n"
     ]
    }
   ],
   "source": [
    "d6 = {# : \"Vaibhav\"}"
   ]
  },
  {
   "cell_type": "code",
   "execution_count": 43,
   "id": "a180ee54-776a-4535-85ef-ff8127c96dba",
   "metadata": {},
   "outputs": [
    {
     "ename": "TypeError",
     "evalue": "unhashable type: 'list'",
     "output_type": "error",
     "traceback": [
      "\u001b[0;31m---------------------------------------------------------------------------\u001b[0m",
      "\u001b[0;31mTypeError\u001b[0m                                 Traceback (most recent call last)",
      "Cell \u001b[0;32mIn[43], line 1\u001b[0m\n\u001b[0;32m----> 1\u001b[0m d7 \u001b[38;5;241m=\u001b[39m {[\u001b[38;5;241m1\u001b[39m,\u001b[38;5;241m2\u001b[39m,\u001b[38;5;241m3\u001b[39m] :\u001b[38;5;124m\"\u001b[39m\u001b[38;5;124mabc\u001b[39m\u001b[38;5;124m\"\u001b[39m}\n",
      "\u001b[0;31mTypeError\u001b[0m: unhashable type: 'list'"
     ]
    }
   ],
   "source": [
    "d7 = {[1,2,3] :\"abc\"}"
   ]
  },
  {
   "cell_type": "code",
   "execution_count": 44,
   "id": "504693d5-37ec-4666-85a7-74de31f5ee4e",
   "metadata": {},
   "outputs": [],
   "source": [
    "d9 = {(1,2,3) : \"abc\"}"
   ]
  },
  {
   "cell_type": "code",
   "execution_count": 45,
   "id": "817c550a-2dec-4446-91d1-122730acde8d",
   "metadata": {},
   "outputs": [
    {
     "data": {
      "text/plain": [
       "{(1, 2, 3): 'abc'}"
      ]
     },
     "execution_count": 45,
     "metadata": {},
     "output_type": "execute_result"
    }
   ],
   "source": [
    "d9"
   ]
  },
  {
   "cell_type": "code",
   "execution_count": 46,
   "id": "de7dfc99-b258-46a7-bafe-d766bdba37f0",
   "metadata": {},
   "outputs": [
    {
     "ename": "TypeError",
     "evalue": "unhashable type: 'set'",
     "output_type": "error",
     "traceback": [
      "\u001b[0;31m---------------------------------------------------------------------------\u001b[0m",
      "\u001b[0;31mTypeError\u001b[0m                                 Traceback (most recent call last)",
      "Cell \u001b[0;32mIn[46], line 1\u001b[0m\n\u001b[0;32m----> 1\u001b[0m d10 \u001b[38;5;241m=\u001b[39m {{\u001b[38;5;241m1\u001b[39m,\u001b[38;5;241m2\u001b[39m,\u001b[38;5;241m3\u001b[39m} :\u001b[38;5;124m\"\u001b[39m\u001b[38;5;124mabc\u001b[39m\u001b[38;5;124m\"\u001b[39m}\n",
      "\u001b[0;31mTypeError\u001b[0m: unhashable type: 'set'"
     ]
    }
   ],
   "source": [
    "d10 = {{1,2,3} :\"abc\"}"
   ]
  },
  {
   "cell_type": "code",
   "execution_count": 48,
   "id": "beffe795-b8a6-4712-b8a0-9a7575876441",
   "metadata": {},
   "outputs": [
    {
     "ename": "TypeError",
     "evalue": "unhashable type: 'dict'",
     "output_type": "error",
     "traceback": [
      "\u001b[0;31m---------------------------------------------------------------------------\u001b[0m",
      "\u001b[0;31mTypeError\u001b[0m                                 Traceback (most recent call last)",
      "Cell \u001b[0;32mIn[48], line 1\u001b[0m\n\u001b[0;32m----> 1\u001b[0m d11 \u001b[38;5;241m=\u001b[39m {{\u001b[38;5;124m\"\u001b[39m\u001b[38;5;124mkey\u001b[39m\u001b[38;5;124m\"\u001b[39m:\u001b[38;5;241m1234\u001b[39m} : \u001b[38;5;124m\"\u001b[39m\u001b[38;5;124mabc\u001b[39m\u001b[38;5;124m\"\u001b[39m}\n",
      "\u001b[0;31mTypeError\u001b[0m: unhashable type: 'dict'"
     ]
    }
   ],
   "source": [
    "d11 = {{\"key\":1234} : \"abc\"}"
   ]
  },
  {
   "cell_type": "code",
   "execution_count": 49,
   "id": "dd01c311-da47-45ab-be04-8062fad20767",
   "metadata": {},
   "outputs": [],
   "source": [
    "d12 = {\"course_name\" : [\"data science masterclass\", \"web dev\",\"java with dsa and system Design\"]}"
   ]
  },
  {
   "cell_type": "code",
   "execution_count": 50,
   "id": "d2e72f7b-dfbc-4a3f-90db-c6606e447a1b",
   "metadata": {},
   "outputs": [
    {
     "data": {
      "text/plain": [
       "{'course_name': ['data science masterclass',\n",
       "  'web dev',\n",
       "  'java with dsa and system Design']}"
      ]
     },
     "execution_count": 50,
     "metadata": {},
     "output_type": "execute_result"
    }
   ],
   "source": [
    "d12"
   ]
  },
  {
   "cell_type": "code",
   "execution_count": 1,
   "id": "29b9ee83-c23d-46ca-8a9e-7cd20fd48544",
   "metadata": {},
   "outputs": [],
   "source": [
    "d13 = {\"key\" : (1,2,3,4,5)}"
   ]
  },
  {
   "cell_type": "code",
   "execution_count": 3,
   "id": "02af1bc9-27ba-4d61-acf5-a76095cc8375",
   "metadata": {},
   "outputs": [],
   "source": [
    "d14 = {\"key\": {1,2,3,4,5}}"
   ]
  },
  {
   "cell_type": "code",
   "execution_count": 2,
   "id": "0062a4e0-abb4-4484-9cf6-7d0f57fa91f3",
   "metadata": {},
   "outputs": [],
   "source": [
    "d15 = {\"key\" : {\"name\" : \"sudhanshu\", \"class\" : \"Data Science Masters\"}}"
   ]
  },
  {
   "cell_type": "code",
   "execution_count": 3,
   "id": "2964da26-9ea4-4a9b-ad06-aa0805662426",
   "metadata": {},
   "outputs": [
    {
     "data": {
      "text/plain": [
       "{'key': {'name': 'sudhanshu', 'class': 'Data Science Masters'}}"
      ]
     },
     "execution_count": 3,
     "metadata": {},
     "output_type": "execute_result"
    }
   ],
   "source": [
    "d15"
   ]
  },
  {
   "cell_type": "code",
   "execution_count": null,
   "id": "db0858ff-8771-4a28-af23-ec5dacda65d4",
   "metadata": {},
   "outputs": [],
   "source": [
    "# in above example we create distonary inside distonary\n",
    "## and that called nasted disctornary"
   ]
  },
  {
   "cell_type": "code",
   "execution_count": 13,
   "id": "a618d43c-bc74-43ac-8f69-8b9d3308cc52",
   "metadata": {},
   "outputs": [],
   "source": [
    "d16 = {\"batch_name\" :[\"data science\", \"web dev\",\"jds\"],\"start_date\" : (28,23,25),\"mentor_name\" : (\"vikee\",\"vishal\",\"dhiraj\",\"ganesh\")}"
   ]
  },
  {
   "cell_type": "code",
   "execution_count": 14,
   "id": "5c43a8d9-00e1-4e6f-9d61-ba8f0cf01a3b",
   "metadata": {},
   "outputs": [
    {
     "data": {
      "text/plain": [
       "{'batch_name': ['data science', 'web dev', 'jds'],\n",
       " 'start_date': (28, 23, 25),\n",
       " 'mentor_name': ('vikee', 'vishal', 'dhiraj', 'ganesh')}"
      ]
     },
     "execution_count": 14,
     "metadata": {},
     "output_type": "execute_result"
    }
   ],
   "source": [
    "d16"
   ]
  },
  {
   "cell_type": "code",
   "execution_count": 13,
   "id": "39c9f88a-1674-4241-b4c4-7101aff31e5b",
   "metadata": {},
   "outputs": [],
   "source": [
    "d16[\"timing\"] = (8,8,8)"
   ]
  },
  {
   "cell_type": "code",
   "execution_count": 14,
   "id": "0235d645-9463-4a54-8ac0-409b8a0410e2",
   "metadata": {},
   "outputs": [
    {
     "data": {
      "text/plain": [
       "{'batch_name': ['data science', 'web dev', 'jds'],\n",
       " 'start_date': (28, 23, 25),\n",
       " 'mentor_name': ('vikee', 'vishal', 'dhiraj', 'ganesh'),\n",
       " 'timing': (8, 8, 8)}"
      ]
     },
     "execution_count": 14,
     "metadata": {},
     "output_type": "execute_result"
    }
   ],
   "source": [
    "d16"
   ]
  },
  {
   "cell_type": "code",
   "execution_count": 15,
   "id": "674b0e9b-5278-490d-8ce9-b1fa065f3b7e",
   "metadata": {},
   "outputs": [
    {
     "data": {
      "text/plain": [
       "['data science', 'web dev', 'jds']"
      ]
     },
     "execution_count": 15,
     "metadata": {},
     "output_type": "execute_result"
    }
   ],
   "source": [
    "d16[\"batch_name\"]"
   ]
  },
  {
   "cell_type": "code",
   "execution_count": 16,
   "id": "8a0a8321-7d93-484e-9ac8-1ef933c63833",
   "metadata": {},
   "outputs": [
    {
     "data": {
      "text/plain": [
       "(8, 8, 8)"
      ]
     },
     "execution_count": 16,
     "metadata": {},
     "output_type": "execute_result"
    }
   ],
   "source": [
    "d16[\"timing\"]"
   ]
  },
  {
   "cell_type": "code",
   "execution_count": 17,
   "id": "ac91c36e-28a1-4e87-ba9d-37c978fc3328",
   "metadata": {},
   "outputs": [
    {
     "data": {
      "text/plain": [
       "('vikee', 'vishal', 'dhiraj', 'ganesh')"
      ]
     },
     "execution_count": 17,
     "metadata": {},
     "output_type": "execute_result"
    }
   ],
   "source": [
    "d16[\"mentor_name\"]"
   ]
  },
  {
   "cell_type": "code",
   "execution_count": 4,
   "id": "832dc4c9-8b97-4ffc-aacd-9eb890215acd",
   "metadata": {},
   "outputs": [
    {
     "data": {
      "text/plain": [
       "{'batch_name': ['data science', 'web dev', 'jds'],\n",
       " 'start_date': (28, 23, 25),\n",
       " 'mentor_name': ('vikee', 'vishal', 'dhiraj', 'ganesh')}"
      ]
     },
     "execution_count": 4,
     "metadata": {},
     "output_type": "execute_result"
    }
   ],
   "source": [
    "d16"
   ]
  },
  {
   "cell_type": "code",
   "execution_count": 5,
   "id": "cb762221-6692-44f4-b12c-439bc8309a25",
   "metadata": {},
   "outputs": [],
   "source": [
    "d16[\"name\"] = \"rahul\""
   ]
  },
  {
   "cell_type": "code",
   "execution_count": 6,
   "id": "57b7fc27-8ca4-4a21-8431-2dab5a057cfe",
   "metadata": {},
   "outputs": [
    {
     "data": {
      "text/plain": [
       "{'batch_name': ['data science', 'web dev', 'jds'],\n",
       " 'start_date': (28, 23, 25),\n",
       " 'mentor_name': ('vikee', 'vishal', 'dhiraj', 'ganesh'),\n",
       " 'name': 'rahul'}"
      ]
     },
     "execution_count": 6,
     "metadata": {},
     "output_type": "execute_result"
    }
   ],
   "source": [
    "d16"
   ]
  },
  {
   "cell_type": "code",
   "execution_count": 7,
   "id": "f4673b75-4c36-4ccc-9dda-6aae6eabecfb",
   "metadata": {},
   "outputs": [
    {
     "data": {
      "text/plain": [
       "'RAHUL'"
      ]
     },
     "execution_count": 7,
     "metadata": {},
     "output_type": "execute_result"
    }
   ],
   "source": [
    "d16[\"name\"].upper()"
   ]
  },
  {
   "cell_type": "code",
   "execution_count": 4,
   "id": "3c544208-e525-448c-b520-a844c56285b3",
   "metadata": {},
   "outputs": [
    {
     "data": {
      "text/plain": [
       "{'key': {'name': 'sudhanshu', 'class': 'Data Science Masters'}}"
      ]
     },
     "execution_count": 4,
     "metadata": {},
     "output_type": "execute_result"
    }
   ],
   "source": [
    "d15"
   ]
  },
  {
   "cell_type": "code",
   "execution_count": 11,
   "id": "41e4f5a6-316d-4bb3-af95-d39ea82e671e",
   "metadata": {},
   "outputs": [
    {
     "data": {
      "text/plain": [
       "{'name': 'sudhanshu', 'class': 'Data Science Masters'}"
      ]
     },
     "execution_count": 11,
     "metadata": {},
     "output_type": "execute_result"
    }
   ],
   "source": [
    "d15[\"key\"]"
   ]
  },
  {
   "cell_type": "code",
   "execution_count": 12,
   "id": "fbdd995e-758c-42ae-af81-201c9e827427",
   "metadata": {},
   "outputs": [
    {
     "data": {
      "text/plain": [
       "dict"
      ]
     },
     "execution_count": 12,
     "metadata": {},
     "output_type": "execute_result"
    }
   ],
   "source": [
    "type(d15[\"key\"])"
   ]
  },
  {
   "cell_type": "code",
   "execution_count": 14,
   "id": "acb6d491-679f-45ae-9c55-830a2175dcb6",
   "metadata": {},
   "outputs": [
    {
     "data": {
      "text/plain": [
       "'Data Science Masters'"
      ]
     },
     "execution_count": 14,
     "metadata": {},
     "output_type": "execute_result"
    }
   ],
   "source": [
    "d15[\"key\"][\"class\"]"
   ]
  },
  {
   "cell_type": "code",
   "execution_count": 15,
   "id": "ebf73a23-f765-41f7-bb09-48bc10280e2c",
   "metadata": {},
   "outputs": [
    {
     "data": {
      "text/plain": [
       "'sudhanshu'"
      ]
     },
     "execution_count": 15,
     "metadata": {},
     "output_type": "execute_result"
    }
   ],
   "source": [
    "d15[\"key\"][\"name\"]"
   ]
  },
  {
   "cell_type": "code",
   "execution_count": 17,
   "id": "c12a5cf5-b6d6-45a1-8c09-5014822beb17",
   "metadata": {},
   "outputs": [],
   "source": [
    "d15[\"time\"] = 8"
   ]
  },
  {
   "cell_type": "code",
   "execution_count": 18,
   "id": "2df67067-f20b-4daa-9f31-a837e25d9e54",
   "metadata": {},
   "outputs": [
    {
     "data": {
      "text/plain": [
       "{'key': {'name': 'sudhanshu', 'class': 'Data Science Masters'}, 'time': 8}"
      ]
     },
     "execution_count": 18,
     "metadata": {},
     "output_type": "execute_result"
    }
   ],
   "source": [
    "d15"
   ]
  },
  {
   "cell_type": "code",
   "execution_count": 24,
   "id": "ff4fb690-d949-4982-b181-f6e5e177f6f3",
   "metadata": {},
   "outputs": [],
   "source": [
    "d15[\"hours\"] = 10"
   ]
  },
  {
   "cell_type": "code",
   "execution_count": 5,
   "id": "b373b40a-de8b-4859-9b30-e68c661788fb",
   "metadata": {},
   "outputs": [],
   "source": [
    "d15[\"key1\"] = \"abc\""
   ]
  },
  {
   "cell_type": "markdown",
   "id": "f72b853c-8a38-4f7d-a18a-a18706f3793a",
   "metadata": {},
   "source": [
    "d15"
   ]
  },
  {
   "cell_type": "code",
   "execution_count": 6,
   "id": "8935570a-9003-4d4a-84e3-02dc7e83451b",
   "metadata": {},
   "outputs": [
    {
     "data": {
      "text/plain": [
       "{'key': {'name': 'sudhanshu', 'class': 'Data Science Masters'}, 'key1': 'abc'}"
      ]
     },
     "execution_count": 6,
     "metadata": {},
     "output_type": "execute_result"
    }
   ],
   "source": [
    "d15"
   ]
  },
  {
   "cell_type": "code",
   "execution_count": 9,
   "id": "daee6540-5085-4b03-a39c-89ee8699cb2e",
   "metadata": {},
   "outputs": [],
   "source": [
    "del d15[\"key1\"]"
   ]
  },
  {
   "cell_type": "code",
   "execution_count": 10,
   "id": "55795ef1-a7df-43a3-af44-cbe692a07572",
   "metadata": {},
   "outputs": [
    {
     "data": {
      "text/plain": [
       "{'key': {'name': 'sudhanshu', 'class': 'Data Science Masters'}}"
      ]
     },
     "execution_count": 10,
     "metadata": {},
     "output_type": "execute_result"
    }
   ],
   "source": [
    "d15"
   ]
  },
  {
   "cell_type": "code",
   "execution_count": 11,
   "id": "ffb2eefd-1904-4930-93e4-248818d0164b",
   "metadata": {},
   "outputs": [],
   "source": [
    "d15.clear()"
   ]
  },
  {
   "cell_type": "code",
   "execution_count": 12,
   "id": "3a96366d-b8b5-42a6-a8fc-0cde5a944840",
   "metadata": {},
   "outputs": [
    {
     "data": {
      "text/plain": [
       "{}"
      ]
     },
     "execution_count": 12,
     "metadata": {},
     "output_type": "execute_result"
    }
   ],
   "source": [
    "d15"
   ]
  },
  {
   "cell_type": "code",
   "execution_count": 15,
   "id": "4a622611-5e97-4e6f-8f6b-6a2e046c51e3",
   "metadata": {},
   "outputs": [
    {
     "data": {
      "text/plain": [
       "3"
      ]
     },
     "execution_count": 15,
     "metadata": {},
     "output_type": "execute_result"
    }
   ],
   "source": [
    "len(d16)"
   ]
  },
  {
   "cell_type": "code",
   "execution_count": 17,
   "id": "0a21e809-e0fc-4d30-ae71-11a9645e6493",
   "metadata": {},
   "outputs": [
    {
     "data": {
      "text/plain": [
       "dict_keys(['batch_name', 'start_date', 'mentor_name'])"
      ]
     },
     "execution_count": 17,
     "metadata": {},
     "output_type": "execute_result"
    }
   ],
   "source": [
    "d16.keys()"
   ]
  },
  {
   "cell_type": "code",
   "execution_count": 18,
   "id": "eb5ff066-3309-4b7f-aa46-df36f008c0a2",
   "metadata": {},
   "outputs": [
    {
     "data": {
      "text/plain": [
       "dict_values([['data science', 'web dev', 'jds'], (28, 23, 25), ('vikee', 'vishal', 'dhiraj', 'ganesh')])"
      ]
     },
     "execution_count": 18,
     "metadata": {},
     "output_type": "execute_result"
    }
   ],
   "source": [
    "d16.values()"
   ]
  },
  {
   "cell_type": "code",
   "execution_count": 19,
   "id": "b7024859-e464-4bd8-a803-2dcc70e03bae",
   "metadata": {},
   "outputs": [
    {
     "data": {
      "text/plain": [
       "[['data science', 'web dev', 'jds'],\n",
       " (28, 23, 25),\n",
       " ('vikee', 'vishal', 'dhiraj', 'ganesh')]"
      ]
     },
     "execution_count": 19,
     "metadata": {},
     "output_type": "execute_result"
    }
   ],
   "source": [
    "list(d16.values())"
   ]
  },
  {
   "cell_type": "code",
   "execution_count": 20,
   "id": "6d29199a-02ab-416a-960b-d4116cb5cf62",
   "metadata": {},
   "outputs": [
    {
     "data": {
      "text/plain": [
       "['batch_name', 'start_date', 'mentor_name']"
      ]
     },
     "execution_count": 20,
     "metadata": {},
     "output_type": "execute_result"
    }
   ],
   "source": [
    "list(d16.keys())"
   ]
  },
  {
   "cell_type": "code",
   "execution_count": 21,
   "id": "40a215f2-a161-41af-b85b-709d77aa230e",
   "metadata": {},
   "outputs": [
    {
     "data": {
      "text/plain": [
       "dict_items([('batch_name', ['data science', 'web dev', 'jds']), ('start_date', (28, 23, 25)), ('mentor_name', ('vikee', 'vishal', 'dhiraj', 'ganesh'))])"
      ]
     },
     "execution_count": 21,
     "metadata": {},
     "output_type": "execute_result"
    }
   ],
   "source": [
    "d16.items()"
   ]
  },
  {
   "cell_type": "code",
   "execution_count": 22,
   "id": "0660ca83-726c-46af-b09d-904997df15d2",
   "metadata": {},
   "outputs": [
    {
     "data": {
      "text/plain": [
       "[('batch_name', ['data science', 'web dev', 'jds']),\n",
       " ('start_date', (28, 23, 25)),\n",
       " ('mentor_name', ('vikee', 'vishal', 'dhiraj', 'ganesh'))]"
      ]
     },
     "execution_count": 22,
     "metadata": {},
     "output_type": "execute_result"
    }
   ],
   "source": [
    "list(d16.items())"
   ]
  },
  {
   "cell_type": "code",
   "execution_count": 23,
   "id": "a4f5f5ca-5217-4aab-bd4c-ae51b085da9d",
   "metadata": {},
   "outputs": [],
   "source": [
    "d17 = d16.copy()"
   ]
  },
  {
   "cell_type": "code",
   "execution_count": 24,
   "id": "37375e72-5abd-40fd-85e7-844fd3531f54",
   "metadata": {},
   "outputs": [
    {
     "data": {
      "text/plain": [
       "{'batch_name': ['data science', 'web dev', 'jds'],\n",
       " 'start_date': (28, 23, 25),\n",
       " 'mentor_name': ('vikee', 'vishal', 'dhiraj', 'ganesh')}"
      ]
     },
     "execution_count": 24,
     "metadata": {},
     "output_type": "execute_result"
    }
   ],
   "source": [
    "d17"
   ]
  },
  {
   "cell_type": "code",
   "execution_count": 25,
   "id": "d44995a8-4cf6-442e-968d-1952601e35b4",
   "metadata": {},
   "outputs": [
    {
     "data": {
      "text/plain": [
       "{'batch_name': ['data science', 'web dev', 'jds'],\n",
       " 'start_date': (28, 23, 25),\n",
       " 'mentor_name': ('vikee', 'vishal', 'dhiraj', 'ganesh')}"
      ]
     },
     "execution_count": 25,
     "metadata": {},
     "output_type": "execute_result"
    }
   ],
   "source": [
    "d16"
   ]
  },
  {
   "cell_type": "code",
   "execution_count": 26,
   "id": "8162aa9e-b518-4625-8b24-ed7a0e8501de",
   "metadata": {},
   "outputs": [],
   "source": [
    "del d16[\"start_date\"]"
   ]
  },
  {
   "cell_type": "code",
   "execution_count": 27,
   "id": "65a7cceb-0f7c-4fe8-a297-e95d30c11206",
   "metadata": {},
   "outputs": [
    {
     "data": {
      "text/plain": [
       "{'batch_name': ['data science', 'web dev', 'jds'],\n",
       " 'mentor_name': ('vikee', 'vishal', 'dhiraj', 'ganesh')}"
      ]
     },
     "execution_count": 27,
     "metadata": {},
     "output_type": "execute_result"
    }
   ],
   "source": [
    "d16"
   ]
  },
  {
   "cell_type": "code",
   "execution_count": 28,
   "id": "e712e7dc-d694-4ddf-8aec-bd36c8a82f6f",
   "metadata": {},
   "outputs": [
    {
     "data": {
      "text/plain": [
       "{'batch_name': ['data science', 'web dev', 'jds'],\n",
       " 'start_date': (28, 23, 25),\n",
       " 'mentor_name': ('vikee', 'vishal', 'dhiraj', 'ganesh')}"
      ]
     },
     "execution_count": 28,
     "metadata": {},
     "output_type": "execute_result"
    }
   ],
   "source": [
    "d17"
   ]
  },
  {
   "cell_type": "code",
   "execution_count": 29,
   "id": "0f90449d-bc31-4b9d-a7d1-c391864a2bef",
   "metadata": {},
   "outputs": [],
   "source": [
    "d18 = d16"
   ]
  },
  {
   "cell_type": "code",
   "execution_count": 30,
   "id": "3be36c15-e0a1-428c-881b-40628012bd9d",
   "metadata": {},
   "outputs": [
    {
     "data": {
      "text/plain": [
       "{'batch_name': ['data science', 'web dev', 'jds'],\n",
       " 'mentor_name': ('vikee', 'vishal', 'dhiraj', 'ganesh')}"
      ]
     },
     "execution_count": 30,
     "metadata": {},
     "output_type": "execute_result"
    }
   ],
   "source": [
    "d18"
   ]
  },
  {
   "cell_type": "code",
   "execution_count": 31,
   "id": "cdf8bcf5-8346-4b91-9aee-59ea952878ea",
   "metadata": {},
   "outputs": [
    {
     "data": {
      "text/plain": [
       "{'batch_name': ['data science', 'web dev', 'jds'],\n",
       " 'mentor_name': ('vikee', 'vishal', 'dhiraj', 'ganesh')}"
      ]
     },
     "execution_count": 31,
     "metadata": {},
     "output_type": "execute_result"
    }
   ],
   "source": [
    "d16"
   ]
  },
  {
   "cell_type": "code",
   "execution_count": 32,
   "id": "83f19eb7-00f4-4f34-8570-f25aed27f2e9",
   "metadata": {},
   "outputs": [
    {
     "data": {
      "text/plain": [
       "['data science', 'web dev', 'jds']"
      ]
     },
     "execution_count": 32,
     "metadata": {},
     "output_type": "execute_result"
    }
   ],
   "source": [
    "d16.pop(\"batch_name\")"
   ]
  },
  {
   "cell_type": "code",
   "execution_count": 33,
   "id": "e7a0cda3-adc3-43f3-858d-036fd33c8fc9",
   "metadata": {},
   "outputs": [
    {
     "data": {
      "text/plain": [
       "{'mentor_name': ('vikee', 'vishal', 'dhiraj', 'ganesh')}"
      ]
     },
     "execution_count": 33,
     "metadata": {},
     "output_type": "execute_result"
    }
   ],
   "source": [
    "d16"
   ]
  },
  {
   "cell_type": "code",
   "execution_count": 34,
   "id": "5130426b-7281-4e89-a156-b98f545c5e85",
   "metadata": {},
   "outputs": [
    {
     "data": {
      "text/plain": [
       "('vikee', 'vishal', 'dhiraj', 'ganesh')"
      ]
     },
     "execution_count": 34,
     "metadata": {},
     "output_type": "execute_result"
    }
   ],
   "source": [
    "d16.pop(\"mentor_name\")"
   ]
  },
  {
   "cell_type": "code",
   "execution_count": 38,
   "id": "0f15b73d-32d6-4ecf-b6b7-f5957396e1a8",
   "metadata": {},
   "outputs": [
    {
     "data": {
      "text/plain": [
       "{1: ('a', 'b', 'c'), 2: ('a', 'b', 'c'), 3: ('a', 'b', 'c')}"
      ]
     },
     "execution_count": 38,
     "metadata": {},
     "output_type": "execute_result"
    }
   ],
   "source": [
    "dict.fromkeys((1,2,3), (\"a\",\"b\",\"c\"))"
   ]
  },
  {
   "cell_type": "code",
   "execution_count": 39,
   "id": "b784feca-ef39-4b5a-a2ed-fc94e30aa714",
   "metadata": {},
   "outputs": [],
   "source": [
    "d19 = {\"key1\" : \"value\", \"key2\" : \"value2\" }\n",
    "d20 = {\"key3\" : \"value3\", \"key4\" : \"value4\"}"
   ]
  },
  {
   "cell_type": "code",
   "execution_count": 40,
   "id": "6e4bcb16-1685-41c3-8b18-d5ac80e4703b",
   "metadata": {},
   "outputs": [
    {
     "data": {
      "text/plain": [
       "({'key1': 'value', 'key2': 'value2'}, {'key3': 'value3', 'key4': 'value4'})"
      ]
     },
     "execution_count": 40,
     "metadata": {},
     "output_type": "execute_result"
    }
   ],
   "source": [
    "(d19,d20)"
   ]
  },
  {
   "cell_type": "code",
   "execution_count": 41,
   "id": "2c6e21f6-b9b5-4464-b7a4-058810dad379",
   "metadata": {},
   "outputs": [],
   "source": [
    "d19.update(d20)"
   ]
  },
  {
   "cell_type": "code",
   "execution_count": 42,
   "id": "2a25fe4a-642e-4650-9f0e-791892a21318",
   "metadata": {},
   "outputs": [
    {
     "data": {
      "text/plain": [
       "{'key1': 'value', 'key2': 'value2', 'key3': 'value3', 'key4': 'value4'}"
      ]
     },
     "execution_count": 42,
     "metadata": {},
     "output_type": "execute_result"
    }
   ],
   "source": [
    "d19"
   ]
  },
  {
   "cell_type": "code",
   "execution_count": 43,
   "id": "3556246a-2124-4def-bf8e-d61765204ece",
   "metadata": {},
   "outputs": [
    {
     "data": {
      "text/plain": [
       "{'key3': 'value3', 'key4': 'value4'}"
      ]
     },
     "execution_count": 43,
     "metadata": {},
     "output_type": "execute_result"
    }
   ],
   "source": [
    "d20"
   ]
  },
  {
   "cell_type": "code",
   "execution_count": 44,
   "id": "eac17032-f388-40c8-8263-f97bfd048b62",
   "metadata": {},
   "outputs": [],
   "source": [
    "d20.update(d19)"
   ]
  },
  {
   "cell_type": "code",
   "execution_count": 45,
   "id": "79c1c40a-4169-474f-94c8-635cf45770d7",
   "metadata": {},
   "outputs": [
    {
     "data": {
      "text/plain": [
       "{'key3': 'value3', 'key4': 'value4', 'key1': 'value', 'key2': 'value2'}"
      ]
     },
     "execution_count": 45,
     "metadata": {},
     "output_type": "execute_result"
    }
   ],
   "source": [
    "d20"
   ]
  },
  {
   "cell_type": "code",
   "execution_count": 46,
   "id": "d1307cae-5b8a-4db5-9276-f1fab150fe6e",
   "metadata": {},
   "outputs": [
    {
     "data": {
      "text/plain": [
       "{'key1': 'value', 'key2': 'value2', 'key3': 'value3', 'key4': 'value4'}"
      ]
     },
     "execution_count": 46,
     "metadata": {},
     "output_type": "execute_result"
    }
   ],
   "source": [
    "d19"
   ]
  },
  {
   "cell_type": "code",
   "execution_count": 47,
   "id": "d204e957-c107-4a5c-9712-a46b04fcb159",
   "metadata": {},
   "outputs": [],
   "source": [
    "# this function is used to search function inside dictionary\n",
    "d20.get(\"vaib\")"
   ]
  },
  {
   "cell_type": "code",
   "execution_count": 49,
   "id": "0f289f34-bb92-47e6-88ef-17aecaa1267e",
   "metadata": {},
   "outputs": [
    {
     "data": {
      "text/plain": [
       "'value4'"
      ]
     },
     "execution_count": 49,
     "metadata": {},
     "output_type": "execute_result"
    }
   ],
   "source": [
    "d19.get(\"key4\")"
   ]
  },
  {
   "cell_type": "markdown",
   "id": "84b9cc21-f297-4976-961a-c681256935b8",
   "metadata": {},
   "source": [
    "#### Distionary Comprehensions"
   ]
  },
  {
   "cell_type": "code",
   "execution_count": 56,
   "id": "0881dc4f-ba89-4741-a99f-cc9437034bdd",
   "metadata": {},
   "outputs": [
    {
     "data": {
      "text/plain": [
       "{1: 1, 2: 4, 3: 9, 4: 16, 5: 25, 6: 36, 7: 49, 8: 64, 9: 81, 10: 100}"
      ]
     },
     "execution_count": 56,
     "metadata": {},
     "output_type": "execute_result"
    }
   ],
   "source": [
    "{i : i**2 for i in range(1,11)}"
   ]
  },
  {
   "cell_type": "code",
   "execution_count": 55,
   "id": "9ffc66c1-6c54-44a7-8ea9-aa2165895932",
   "metadata": {},
   "outputs": [
    {
     "data": {
      "text/plain": [
       "[1, 2, 3, 4, 5, 6, 7, 8, 9, 10]"
      ]
     },
     "execution_count": 55,
     "metadata": {},
     "output_type": "execute_result"
    }
   ],
   "source": [
    "list(range(1,11))"
   ]
  },
  {
   "cell_type": "code",
   "execution_count": 62,
   "id": "0c53589e-ade4-45b5-8cc0-038363715ca4",
   "metadata": {},
   "outputs": [
    {
     "data": {
      "text/plain": [
       "{1: 0.5,\n",
       " 2: 1.0,\n",
       " 3: 1.5,\n",
       " 4: 2.0,\n",
       " 5: 2.5,\n",
       " 6: 3.0,\n",
       " 7: 3.5,\n",
       " 8: 4.0,\n",
       " 9: 4.5,\n",
       " 10: 5.0,\n",
       " 11: 5.5,\n",
       " 12: 6.0,\n",
       " 13: 6.5,\n",
       " 14: 7.0,\n",
       " 15: 7.5}"
      ]
     },
     "execution_count": 62,
     "metadata": {},
     "output_type": "execute_result"
    }
   ],
   "source": [
    "{i : i/2 for i in range(1,16)}"
   ]
  },
  {
   "cell_type": "code",
   "execution_count": 61,
   "id": "25dfb315-abf4-45b5-bd19-97ca958f09a9",
   "metadata": {},
   "outputs": [
    {
     "data": {
      "text/plain": [
       "{1: 0,\n",
       " 2: 1,\n",
       " 3: 2,\n",
       " 4: 3,\n",
       " 5: 4,\n",
       " 6: 5,\n",
       " 7: 6,\n",
       " 8: 7,\n",
       " 9: 8,\n",
       " 10: 9,\n",
       " 11: 10,\n",
       " 12: 11,\n",
       " 13: 12,\n",
       " 14: 13,\n",
       " 15: 14,\n",
       " 16: 15,\n",
       " 17: 16,\n",
       " 18: 17,\n",
       " 19: 18,\n",
       " 20: 19}"
      ]
     },
     "execution_count": 61,
     "metadata": {},
     "output_type": "execute_result"
    }
   ],
   "source": [
    "{i : i-1 for i in range(1,21)}"
   ]
  },
  {
   "cell_type": "code",
   "execution_count": 67,
   "id": "b8407122-488e-460b-8850-225f0b383aae",
   "metadata": {},
   "outputs": [
    {
     "data": {
      "text/plain": [
       "{1: 3, 2: 6, 3: 9, 4: 12, 5: 15, 6: 18, 7: 21, 8: 24, 9: 27, 10: 30}"
      ]
     },
     "execution_count": 67,
     "metadata": {},
     "output_type": "execute_result"
    }
   ],
   "source": [
    "{i : i*3 for i in range(1,11)}"
   ]
  },
  {
   "cell_type": "code",
   "execution_count": 76,
   "id": "7b6a7a96-d89e-43f7-ad85-5b47e94d9f2a",
   "metadata": {},
   "outputs": [],
   "source": [
    "import math\n",
    "d21 = {i :math.log10(i)  for i in range(1,11)}"
   ]
  },
  {
   "cell_type": "code",
   "execution_count": 71,
   "id": "3bd3bd58-2e39-4773-9e39-2fc69b0bdb27",
   "metadata": {},
   "outputs": [
    {
     "data": {
      "text/plain": [
       "{}"
      ]
     },
     "execution_count": 71,
     "metadata": {},
     "output_type": "execute_result"
    }
   ],
   "source": [
    "d16"
   ]
  },
  {
   "cell_type": "code",
   "execution_count": 72,
   "id": "23d26870-e214-4ae1-8a92-1ad689712958",
   "metadata": {},
   "outputs": [
    {
     "data": {
      "text/plain": [
       "{}"
      ]
     },
     "execution_count": 72,
     "metadata": {},
     "output_type": "execute_result"
    }
   ],
   "source": [
    "d15"
   ]
  },
  {
   "cell_type": "code",
   "execution_count": 73,
   "id": "a17858ee-fcda-4a25-be46-ea3dae6556f3",
   "metadata": {},
   "outputs": [
    {
     "data": {
      "text/plain": [
       "{'key1': 'value', 'key2': 'value2', 'key3': 'value3', 'key4': 'value4'}"
      ]
     },
     "execution_count": 73,
     "metadata": {},
     "output_type": "execute_result"
    }
   ],
   "source": [
    "d19"
   ]
  },
  {
   "cell_type": "code",
   "execution_count": 74,
   "id": "f045adec-8d5c-428a-b9f1-8cb58f8369c7",
   "metadata": {},
   "outputs": [
    {
     "data": {
      "text/plain": [
       "True"
      ]
     },
     "execution_count": 74,
     "metadata": {},
     "output_type": "execute_result"
    }
   ],
   "source": [
    "\"key1\" in d19"
   ]
  },
  {
   "cell_type": "code",
   "execution_count": 77,
   "id": "8e01032f-eb06-487c-8a48-30dfc8ab66d0",
   "metadata": {},
   "outputs": [
    {
     "data": {
      "text/plain": [
       "{1: 0.0,\n",
       " 2: 0.3010299956639812,\n",
       " 3: 0.47712125471966244,\n",
       " 4: 0.6020599913279624,\n",
       " 5: 0.6989700043360189,\n",
       " 6: 0.7781512503836436,\n",
       " 7: 0.8450980400142568,\n",
       " 8: 0.9030899869919435,\n",
       " 9: 0.9542425094393249,\n",
       " 10: 1.0}"
      ]
     },
     "execution_count": 77,
     "metadata": {},
     "output_type": "execute_result"
    }
   ],
   "source": [
    "d21"
   ]
  },
  {
   "cell_type": "code",
   "execution_count": 80,
   "id": "c70ac403-04a0-4605-94be-000a6b894545",
   "metadata": {},
   "outputs": [
    {
     "name": "stdout",
     "output_type": "stream",
     "text": [
      "0.3010299956639812\n",
      "0.6020599913279624\n",
      "0.7781512503836436\n",
      "0.9030899869919435\n",
      "1.0\n"
     ]
    }
   ],
   "source": [
    "for i in d21.keys():\n",
    "    if i % 2 == 0 : \n",
    "        print(d21[i])"
   ]
  },
  {
   "cell_type": "code",
   "execution_count": null,
   "id": "42e26311-31b8-4bc2-94be-2c19be526ed3",
   "metadata": {},
   "outputs": [],
   "source": []
  }
 ],
 "metadata": {
  "kernelspec": {
   "display_name": "Python 3 (ipykernel)",
   "language": "python",
   "name": "python3"
  },
  "language_info": {
   "codemirror_mode": {
    "name": "ipython",
    "version": 3
   },
   "file_extension": ".py",
   "mimetype": "text/x-python",
   "name": "python",
   "nbconvert_exporter": "python",
   "pygments_lexer": "ipython3",
   "version": "3.10.8"
  }
 },
 "nbformat": 4,
 "nbformat_minor": 5
}
