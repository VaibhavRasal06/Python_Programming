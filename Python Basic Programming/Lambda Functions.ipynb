{
 "cells": [
  {
   "cell_type": "markdown",
   "id": "027aabaa-98f8-4fd4-a451-406d4c64d7cf",
   "metadata": {},
   "source": [
    "### Lambda Functions"
   ]
  },
  {
   "cell_type": "code",
   "execution_count": 14,
   "id": "81d01d28-a1e4-4889-a2f1-8c1cd4446e93",
   "metadata": {},
   "outputs": [],
   "source": [
    "n = 3\n",
    "p = 5"
   ]
  },
  {
   "cell_type": "code",
   "execution_count": 19,
   "id": "f897ffbb-2a34-4efa-96fb-b9353f2f8347",
   "metadata": {},
   "outputs": [],
   "source": [
    "def test(n,p):\n",
    "    return n**p"
   ]
  },
  {
   "cell_type": "code",
   "execution_count": 20,
   "id": "bb997dd4-2673-489a-9e33-5913527feef3",
   "metadata": {},
   "outputs": [
    {
     "data": {
      "text/plain": [
       "9"
      ]
     },
     "execution_count": 20,
     "metadata": {},
     "output_type": "execute_result"
    }
   ],
   "source": [
    "test(3,2)"
   ]
  },
  {
   "cell_type": "code",
   "execution_count": 22,
   "id": "9b343453-e445-4e88-aa30-b8f991cb3042",
   "metadata": {},
   "outputs": [
    {
     "data": {
      "text/plain": [
       "134217728"
      ]
     },
     "execution_count": 22,
     "metadata": {},
     "output_type": "execute_result"
    }
   ],
   "source": [
    "test(8,9)"
   ]
  },
  {
   "cell_type": "code",
   "execution_count": 30,
   "id": "3f562c32-8084-479a-a337-8f9d0b296bc1",
   "metadata": {},
   "outputs": [
    {
     "data": {
      "text/plain": [
       "<function __main__.<lambda>(n, p)>"
      ]
     },
     "execution_count": 30,
     "metadata": {},
     "output_type": "execute_result"
    }
   ],
   "source": [
    "lambda n, p : n**p"
   ]
  },
  {
   "cell_type": "code",
   "execution_count": 31,
   "id": "b2888486-7d8f-44b0-a808-7cf01110e54f",
   "metadata": {},
   "outputs": [],
   "source": [
    "a = lambda n, p : n**p"
   ]
  },
  {
   "cell_type": "code",
   "execution_count": 32,
   "id": "6373ee9a-595c-48e3-9581-f3f5dfd3b481",
   "metadata": {},
   "outputs": [
    {
     "data": {
      "text/plain": [
       "9"
      ]
     },
     "execution_count": 32,
     "metadata": {},
     "output_type": "execute_result"
    }
   ],
   "source": [
    "a(3,2)"
   ]
  },
  {
   "cell_type": "code",
   "execution_count": 33,
   "id": "4f8315dd-55b5-4fe0-93f3-fef78f852108",
   "metadata": {},
   "outputs": [
    {
     "data": {
      "text/plain": [
       "134217728"
      ]
     },
     "execution_count": 33,
     "metadata": {},
     "output_type": "execute_result"
    }
   ],
   "source": [
    "a(8,9)"
   ]
  },
  {
   "cell_type": "code",
   "execution_count": 34,
   "id": "87e41750-6619-4d61-acbc-fcb2448c0e48",
   "metadata": {},
   "outputs": [],
   "source": [
    "add = lambda x, y : x+y"
   ]
  },
  {
   "cell_type": "code",
   "execution_count": 35,
   "id": "50b3e775-cea0-4dd3-b6ee-44967a1ddcc8",
   "metadata": {},
   "outputs": [
    {
     "data": {
      "text/plain": [
       "3688"
      ]
     },
     "execution_count": 35,
     "metadata": {},
     "output_type": "execute_result"
    }
   ],
   "source": [
    "add(34,3654)"
   ]
  },
  {
   "cell_type": "code",
   "execution_count": 36,
   "id": "4c9fd881-0317-4178-bfba-4181a9778a1c",
   "metadata": {},
   "outputs": [
    {
     "data": {
      "text/plain": [
       "288"
      ]
     },
     "execution_count": 36,
     "metadata": {},
     "output_type": "execute_result"
    }
   ],
   "source": [
    "add(54,234)"
   ]
  },
  {
   "cell_type": "markdown",
   "id": "c739ba3f-cd5a-4df6-9906-33838c4a811d",
   "metadata": {},
   "source": [
    "create a function that convert celcuis to fernahit"
   ]
  },
  {
   "cell_type": "code",
   "execution_count": 39,
   "id": "c3e5d04a-ab92-436c-ab65-8041bed6bc8a",
   "metadata": {},
   "outputs": [],
   "source": [
    "c_to_f = lambda c :(9/5)*c+32"
   ]
  },
  {
   "cell_type": "code",
   "execution_count": 40,
   "id": "582b0730-4597-482d-8262-e0c28a0b3dd3",
   "metadata": {},
   "outputs": [
    {
     "data": {
      "text/plain": [
       "93.2"
      ]
     },
     "execution_count": 40,
     "metadata": {},
     "output_type": "execute_result"
    }
   ],
   "source": [
    "c_to_f(34)"
   ]
  },
  {
   "cell_type": "markdown",
   "id": "ec5e646a-e49e-4e0c-afb5-21bd74800372",
   "metadata": {},
   "source": [
    "create a function that can find greater numbers between two numbers"
   ]
  },
  {
   "cell_type": "code",
   "execution_count": 42,
   "id": "6a660356-5c66-4288-8695-f04b07265ede",
   "metadata": {},
   "outputs": [],
   "source": [
    "max_two = lambda x, y : x if x > y else y"
   ]
  },
  {
   "cell_type": "code",
   "execution_count": 43,
   "id": "1c8c2f5d-f677-4c7a-991f-da7a025514b1",
   "metadata": {},
   "outputs": [
    {
     "data": {
      "text/plain": [
       "56"
      ]
     },
     "execution_count": 43,
     "metadata": {},
     "output_type": "execute_result"
    }
   ],
   "source": [
    "max_two(4,56)"
   ]
  },
  {
   "cell_type": "code",
   "execution_count": 44,
   "id": "b6e6e157-db22-4a87-a310-db14a7995d36",
   "metadata": {},
   "outputs": [
    {
     "data": {
      "text/plain": [
       "7848"
      ]
     },
     "execution_count": 44,
     "metadata": {},
     "output_type": "execute_result"
    }
   ],
   "source": [
    "max_two(773,7848)"
   ]
  },
  {
   "cell_type": "markdown",
   "id": "ac91ad01-2c16-4336-b064-7ff432a2795a",
   "metadata": {},
   "source": [
    "create a function that measure length of word"
   ]
  },
  {
   "cell_type": "code",
   "execution_count": 46,
   "id": "b81c06b8-b8ac-47b7-8f5a-5ef891d6f808",
   "metadata": {},
   "outputs": [],
   "source": [
    "len_str = lambda s : len(s)"
   ]
  },
  {
   "cell_type": "code",
   "execution_count": 47,
   "id": "bf2b262c-83a8-493e-aee2-9939a9c0a9b7",
   "metadata": {},
   "outputs": [
    {
     "data": {
      "text/plain": [
       "14"
      ]
     },
     "execution_count": 47,
     "metadata": {},
     "output_type": "execute_result"
    }
   ],
   "source": [
    "len_str(\"priyadarshnaam\")"
   ]
  },
  {
   "cell_type": "code",
   "execution_count": 48,
   "id": "43a98ff6-bcd8-4cde-aa96-c398e6bd36ee",
   "metadata": {},
   "outputs": [
    {
     "data": {
      "text/plain": [
       "12"
      ]
     },
     "execution_count": 48,
     "metadata": {},
     "output_type": "execute_result"
    }
   ],
   "source": [
    "len_str(\"chinnaswammi\")"
   ]
  },
  {
   "cell_type": "markdown",
   "id": "e1087bc5-a0ca-47e0-af44-2f5300dd82c7",
   "metadata": {},
   "source": [
    "### Map Function"
   ]
  },
  {
   "cell_type": "markdown",
   "id": "1bd12db5-3f7d-4ca5-8f28-d1056f346ae6",
   "metadata": {},
   "source": [
    "create a function that can create square of each number that is present in list"
   ]
  },
  {
   "cell_type": "code",
   "execution_count": 49,
   "id": "8524173e-04df-4d64-9182-5e01996868a3",
   "metadata": {},
   "outputs": [],
   "source": [
    "l = [2,12,3,2,34,2,21,11]"
   ]
  },
  {
   "cell_type": "code",
   "execution_count": 50,
   "id": "dcb276d3-ff99-41ec-a480-806e5c7cefb8",
   "metadata": {},
   "outputs": [],
   "source": [
    "def test3(l):\n",
    "    l1 = []\n",
    "    for i in l:\n",
    "        l1.append(i**2)\n",
    "    return l1"
   ]
  },
  {
   "cell_type": "code",
   "execution_count": 51,
   "id": "4f23c9c1-d7a7-46b9-86e8-fb6176774c5f",
   "metadata": {},
   "outputs": [
    {
     "data": {
      "text/plain": [
       "[4, 144, 9, 4, 1156, 4, 441, 121]"
      ]
     },
     "execution_count": 51,
     "metadata": {},
     "output_type": "execute_result"
    }
   ],
   "source": [
    "test3(l)"
   ]
  },
  {
   "cell_type": "markdown",
   "id": "ecb6f80a-0084-4743-af65-1cdd43f67678",
   "metadata": {},
   "source": [
    "we can write above same function in one line with help of map function"
   ]
  },
  {
   "cell_type": "code",
   "execution_count": 52,
   "id": "e53d33f6-517b-44e1-b882-8b8a80261360",
   "metadata": {},
   "outputs": [],
   "source": [
    "def sq(x):\n",
    "    return x**2"
   ]
  },
  {
   "cell_type": "code",
   "execution_count": 55,
   "id": "ebd656cc-57da-4a60-82ab-96ae3eff542d",
   "metadata": {},
   "outputs": [],
   "source": [
    "l = [2,12,3,2,34,2,21,11]"
   ]
  },
  {
   "cell_type": "code",
   "execution_count": 56,
   "id": "c2abb10d-bc81-4cd6-8033-ee59a47b3db4",
   "metadata": {},
   "outputs": [
    {
     "data": {
      "text/plain": [
       "[4, 144, 9, 4, 1156, 4, 441, 121]"
      ]
     },
     "execution_count": 56,
     "metadata": {},
     "output_type": "execute_result"
    }
   ],
   "source": [
    "list(map(sq, l))"
   ]
  },
  {
   "cell_type": "code",
   "execution_count": 58,
   "id": "ec8ec570-0888-4f15-bc8c-9caac68b19ae",
   "metadata": {},
   "outputs": [
    {
     "data": {
      "text/plain": [
       "[4, 144, 9, 4, 1156, 4, 441, 121]"
      ]
     },
     "execution_count": 58,
     "metadata": {},
     "output_type": "execute_result"
    }
   ],
   "source": [
    "list(map(lambda x : x**2, l))"
   ]
  },
  {
   "cell_type": "code",
   "execution_count": 59,
   "id": "696f0124-57de-4e32-94a1-d7af24c26e31",
   "metadata": {},
   "outputs": [
    {
     "data": {
      "text/plain": [
       "[4, 24, 6, 4, 68, 4, 42, 22]"
      ]
     },
     "execution_count": 59,
     "metadata": {},
     "output_type": "execute_result"
    }
   ],
   "source": [
    "list(map(lambda x : x*2, l))"
   ]
  },
  {
   "cell_type": "code",
   "execution_count": 60,
   "id": "7f64583a-b7d5-4236-a200-f42e495d7f09",
   "metadata": {},
   "outputs": [
    {
     "data": {
      "text/plain": [
       "[24, 34, 25, 24, 56, 24, 43, 33]"
      ]
     },
     "execution_count": 60,
     "metadata": {},
     "output_type": "execute_result"
    }
   ],
   "source": [
    "list(map(lambda x : x+22, l))"
   ]
  },
  {
   "cell_type": "code",
   "execution_count": 62,
   "id": "bc56f599-2a63-4861-8a0e-5e6bd180f23c",
   "metadata": {},
   "outputs": [
    {
     "data": {
      "text/plain": [
       "['2', '12', '3', '2', '34', '2', '21', '11']"
      ]
     },
     "execution_count": 62,
     "metadata": {},
     "output_type": "execute_result"
    }
   ],
   "source": [
    "list(map(lambda x : str(x), l))"
   ]
  },
  {
   "cell_type": "code",
   "execution_count": 64,
   "id": "fad81712-0c15-45b3-aac3-a78e804948e3",
   "metadata": {},
   "outputs": [],
   "source": [
    "l1 = [1,3,4,4,3,2]\n",
    "l2 = [2,3,42,3,4,5]"
   ]
  },
  {
   "cell_type": "code",
   "execution_count": 65,
   "id": "7b581f96-74aa-43f6-a827-e605c4b6300d",
   "metadata": {},
   "outputs": [
    {
     "data": {
      "text/plain": [
       "[3, 6, 46, 7, 7, 7]"
      ]
     },
     "execution_count": 65,
     "metadata": {},
     "output_type": "execute_result"
    }
   ],
   "source": [
    "list(map(lambda x, y : x+y, l1,l2))"
   ]
  },
  {
   "cell_type": "markdown",
   "id": "e1b0df30-3a47-4c5e-9810-db96c68f0060",
   "metadata": {},
   "source": [
    "separate each word and make it uppercase also return as a list"
   ]
  },
  {
   "cell_type": "code",
   "execution_count": 71,
   "id": "18f38d39-a8b8-4e8a-a146-bfd53e7a0305",
   "metadata": {},
   "outputs": [],
   "source": [
    "v = \"vijayam\""
   ]
  },
  {
   "cell_type": "code",
   "execution_count": 72,
   "id": "7bcf67b6-0b60-4fbd-9e3d-7a51e531d2e9",
   "metadata": {},
   "outputs": [
    {
     "data": {
      "text/plain": [
       "['V', 'I', 'J', 'A', 'Y', 'A', 'M']"
      ]
     },
     "execution_count": 72,
     "metadata": {},
     "output_type": "execute_result"
    }
   ],
   "source": [
    "list(map(lambda x : x.upper(), v))"
   ]
  },
  {
   "cell_type": "code",
   "execution_count": 73,
   "id": "27ed5bd3-6155-4fc9-9a75-3379d881eb91",
   "metadata": {},
   "outputs": [],
   "source": [
    "s = \"anekantay\""
   ]
  },
  {
   "cell_type": "code",
   "execution_count": 74,
   "id": "5442623a-9e42-4f09-a573-9ab71f51cfbf",
   "metadata": {},
   "outputs": [
    {
     "data": {
      "text/plain": [
       "['A', 'N', 'E', 'K', 'A', 'N', 'T', 'A', 'Y']"
      ]
     },
     "execution_count": 74,
     "metadata": {},
     "output_type": "execute_result"
    }
   ],
   "source": [
    "list(map(lambda x : x.upper(), s))"
   ]
  },
  {
   "cell_type": "markdown",
   "id": "ff2af8b2-07ce-48c8-9ce6-fb00f2f62222",
   "metadata": {},
   "source": [
    "### Reduce"
   ]
  },
  {
   "cell_type": "code",
   "execution_count": 75,
   "id": "7128f52c-a77a-4450-9733-bfb232c28004",
   "metadata": {},
   "outputs": [],
   "source": [
    "# reduce library is not available in python but available in packages so we can import"
   ]
  },
  {
   "cell_type": "code",
   "execution_count": 76,
   "id": "539ac8d1-3d82-46b8-bb23-9a9e6e675d9e",
   "metadata": {},
   "outputs": [],
   "source": [
    "from functools import reduce"
   ]
  },
  {
   "cell_type": "markdown",
   "id": "20cd3cdb-768b-4165-9c89-bfada935a801",
   "metadata": {},
   "source": [
    "calculate sumation of all numbers in set"
   ]
  },
  {
   "cell_type": "code",
   "execution_count": 77,
   "id": "2cd41843-2470-47b0-aab6-2ed5d63189c5",
   "metadata": {},
   "outputs": [],
   "source": [
    "l = [1,2,3,4,5,5,2]"
   ]
  },
  {
   "cell_type": "code",
   "execution_count": 78,
   "id": "455eb8a2-e425-4e6a-b75e-eb80f20f5712",
   "metadata": {},
   "outputs": [
    {
     "data": {
      "text/plain": [
       "22"
      ]
     },
     "execution_count": 78,
     "metadata": {},
     "output_type": "execute_result"
    }
   ],
   "source": [
    "reduce(lambda x, y : x+y , l)"
   ]
  },
  {
   "cell_type": "code",
   "execution_count": 83,
   "id": "d3bbaf07-da28-4109-960b-81efc9417e02",
   "metadata": {},
   "outputs": [],
   "source": [
    "def add(x,y):\n",
    "    return x+y"
   ]
  },
  {
   "cell_type": "code",
   "execution_count": 84,
   "id": "adefca83-ae28-49bd-8967-f3fbb78efb44",
   "metadata": {},
   "outputs": [
    {
     "data": {
      "text/plain": [
       "22"
      ]
     },
     "execution_count": 84,
     "metadata": {},
     "output_type": "execute_result"
    }
   ],
   "source": [
    "reduce (add, l)"
   ]
  },
  {
   "cell_type": "code",
   "execution_count": 85,
   "id": "a1dc3cda-3f75-4c41-99ec-4a0a6834f169",
   "metadata": {},
   "outputs": [
    {
     "data": {
      "text/plain": [
       "[1, 2, 3, 4, 5, 5, 2]"
      ]
     },
     "execution_count": 85,
     "metadata": {},
     "output_type": "execute_result"
    }
   ],
   "source": [
    "l"
   ]
  },
  {
   "cell_type": "code",
   "execution_count": 89,
   "id": "1e094844-c295-49d4-a33f-fa1d793ebe7c",
   "metadata": {},
   "outputs": [
    {
     "data": {
      "text/plain": [
       "1"
      ]
     },
     "execution_count": 89,
     "metadata": {},
     "output_type": "execute_result"
    }
   ],
   "source": [
    "reduce(lambda x, y : x+y, [1])"
   ]
  },
  {
   "cell_type": "markdown",
   "id": "0ff1bd21-41df-42da-ab74-47ca984ca118",
   "metadata": {},
   "source": [
    "find out biggest number in list "
   ]
  },
  {
   "cell_type": "code",
   "execution_count": 97,
   "id": "079ff7b9-b782-4951-9342-04772635df03",
   "metadata": {},
   "outputs": [],
   "source": [
    "l = [45,44,34,23,12]"
   ]
  },
  {
   "cell_type": "code",
   "execution_count": 98,
   "id": "04571b59-7b40-44fe-b131-a168e779156c",
   "metadata": {},
   "outputs": [
    {
     "data": {
      "text/plain": [
       "45"
      ]
     },
     "execution_count": 98,
     "metadata": {},
     "output_type": "execute_result"
    }
   ],
   "source": [
    "reduce(lambda x,y : x if x> y else y , l)"
   ]
  },
  {
   "cell_type": "markdown",
   "id": "e76de724-1277-4b22-994a-1f50d6f6e93f",
   "metadata": {},
   "source": [
    "### Filter Function"
   ]
  },
  {
   "cell_type": "markdown",
   "id": "2bf37a3e-1d25-4a8a-a87a-dc2322da511e",
   "metadata": {},
   "source": [
    "find out only even numbers from list"
   ]
  },
  {
   "cell_type": "code",
   "execution_count": 99,
   "id": "1e78d34e-423a-40e7-a00b-57d9d4e961b0",
   "metadata": {},
   "outputs": [
    {
     "data": {
      "text/plain": [
       "[44, 34, 12]"
      ]
     },
     "execution_count": 99,
     "metadata": {},
     "output_type": "execute_result"
    }
   ],
   "source": [
    "list(filter(lambda x : x % 2 ==0 , l))"
   ]
  },
  {
   "cell_type": "markdown",
   "id": "d2d0d9fe-ea43-4bec-8cab-645348500a48",
   "metadata": {},
   "source": [
    "find out only odd numbers from list"
   ]
  },
  {
   "cell_type": "code",
   "execution_count": 100,
   "id": "a3aa2de1-ada4-4af2-9bfb-e1c841d8b77c",
   "metadata": {},
   "outputs": [
    {
     "data": {
      "text/plain": [
       "[45, 23]"
      ]
     },
     "execution_count": 100,
     "metadata": {},
     "output_type": "execute_result"
    }
   ],
   "source": [
    "list(filter(lambda x : x % 2 != 0 , l))"
   ]
  },
  {
   "cell_type": "code",
   "execution_count": 101,
   "id": "35c4ac40-2d0a-43fc-8212-02800d3a7948",
   "metadata": {},
   "outputs": [],
   "source": [
    "l1 = [-2,3,-5,-5,7,-5,4,-7,-7]"
   ]
  },
  {
   "cell_type": "markdown",
   "id": "05a7d7df-1039-464e-b02d-4d94cf516b3f",
   "metadata": {},
   "source": [
    "find out positive numbers from list"
   ]
  },
  {
   "cell_type": "code",
   "execution_count": 105,
   "id": "aecbe711-fb2d-4769-869d-4f6e0dff3d2d",
   "metadata": {},
   "outputs": [
    {
     "data": {
      "text/plain": [
       "[3, 7, 4]"
      ]
     },
     "execution_count": 105,
     "metadata": {},
     "output_type": "execute_result"
    }
   ],
   "source": [
    "list(filter(lambda x : x >0, l1))"
   ]
  },
  {
   "cell_type": "markdown",
   "id": "3c427f6b-914f-4208-9f79-02659b2a54e6",
   "metadata": {},
   "source": [
    "find out negative numbers from list"
   ]
  },
  {
   "cell_type": "code",
   "execution_count": 106,
   "id": "63db37a0-dc3f-4209-98a3-1d8b6aff3b72",
   "metadata": {},
   "outputs": [
    {
     "data": {
      "text/plain": [
       "[-2, -5, -5, -5, -7, -7]"
      ]
     },
     "execution_count": 106,
     "metadata": {},
     "output_type": "execute_result"
    }
   ],
   "source": [
    "list(filter(lambda x : x < 0, l1))"
   ]
  },
  {
   "cell_type": "code",
   "execution_count": 107,
   "id": "12b743b0-817b-4af6-80b5-3c69efdcf020",
   "metadata": {},
   "outputs": [],
   "source": [
    "l2 = [\"mumbai\", \"pune\", \"nagpur\", \"ch.sambhajinagar\",\"dharashiv\", \"solapur\"]"
   ]
  },
  {
   "cell_type": "code",
   "execution_count": 109,
   "id": "ce20fb39-33c7-49a5-a5fb-e8028c8f0229",
   "metadata": {},
   "outputs": [
    {
     "data": {
      "text/plain": [
       "['pune']"
      ]
     },
     "execution_count": 109,
     "metadata": {},
     "output_type": "execute_result"
    }
   ],
   "source": [
    "list(filter(lambda x : len(x) < 6, l2))"
   ]
  },
  {
   "cell_type": "code",
   "execution_count": null,
   "id": "998d80dc-882d-47f5-a75e-03b244af484b",
   "metadata": {},
   "outputs": [],
   "source": []
  }
 ],
 "metadata": {
  "kernelspec": {
   "display_name": "Python 3 (ipykernel)",
   "language": "python",
   "name": "python3"
  },
  "language_info": {
   "codemirror_mode": {
    "name": "ipython",
    "version": 3
   },
   "file_extension": ".py",
   "mimetype": "text/x-python",
   "name": "python",
   "nbconvert_exporter": "python",
   "pygments_lexer": "ipython3",
   "version": "3.10.8"
  }
 },
 "nbformat": 4,
 "nbformat_minor": 5
}
