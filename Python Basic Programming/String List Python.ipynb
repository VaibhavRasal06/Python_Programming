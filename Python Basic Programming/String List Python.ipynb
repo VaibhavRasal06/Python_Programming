{
 "cells": [
  {
   "cell_type": "markdown",
   "id": "0fd26905-0317-4f64-b012-e6dd153f0f30",
   "metadata": {},
   "source": [
    "## String List"
   ]
  },
  {
   "cell_type": "code",
   "execution_count": 1,
   "id": "3cc20f6b-475e-4196-96fc-90cfa11c22e8",
   "metadata": {},
   "outputs": [],
   "source": [
    "name = \"Vaibhav Rasal\""
   ]
  },
  {
   "cell_type": "code",
   "execution_count": 2,
   "id": "1e098225-9682-4789-adf1-61de070457c0",
   "metadata": {},
   "outputs": [
    {
     "data": {
      "text/plain": [
       "'vAIBHAV rASAL'"
      ]
     },
     "execution_count": 2,
     "metadata": {},
     "output_type": "execute_result"
    }
   ],
   "source": [
    "name.swapcase()"
   ]
  },
  {
   "cell_type": "code",
   "execution_count": 3,
   "id": "dc3c2f04-a807-47d8-924e-ecc6f44c2109",
   "metadata": {},
   "outputs": [
    {
     "data": {
      "text/plain": [
       "'Vaibhav Rasal'"
      ]
     },
     "execution_count": 3,
     "metadata": {},
     "output_type": "execute_result"
    }
   ],
   "source": [
    "name.title()"
   ]
  },
  {
   "cell_type": "markdown",
   "id": "29d0189b-1a5b-4d6d-8794-881ff4701d27",
   "metadata": {},
   "source": [
    "### Reversing String"
   ]
  },
  {
   "cell_type": "code",
   "execution_count": 6,
   "id": "3c37c86d-4a5a-4808-a533-bcd88657656f",
   "metadata": {},
   "outputs": [
    {
     "data": {
      "text/plain": [
       "'lasaR vahbiaV'"
      ]
     },
     "execution_count": 6,
     "metadata": {},
     "output_type": "execute_result"
    }
   ],
   "source": [
    "name[::-1]"
   ]
  },
  {
   "cell_type": "code",
   "execution_count": 9,
   "id": "0acaea23-fa37-4fb8-baa4-ca10722a96e9",
   "metadata": {},
   "outputs": [
    {
     "data": {
      "text/plain": [
       "<reversed at 0x7fdf416c4190>"
      ]
     },
     "execution_count": 9,
     "metadata": {},
     "output_type": "execute_result"
    }
   ],
   "source": [
    "reversed(name)"
   ]
  },
  {
   "cell_type": "code",
   "execution_count": 10,
   "id": "46163bf2-084c-404f-9e8b-5976daffeca3",
   "metadata": {},
   "outputs": [
    {
     "data": {
      "text/plain": [
       "'l a s a R   v a h b i a V'"
      ]
     },
     "execution_count": 10,
     "metadata": {},
     "output_type": "execute_result"
    }
   ],
   "source": [
    "' '.join(reversed(name))"
   ]
  },
  {
   "cell_type": "code",
   "execution_count": 11,
   "id": "de43d800-5bb4-4237-8c43-1e399bab4e68",
   "metadata": {},
   "outputs": [
    {
     "data": {
      "text/plain": [
       "'RVaibhavaVaibhavsVaibhavaVaibhavl'"
      ]
     },
     "execution_count": 11,
     "metadata": {},
     "output_type": "execute_result"
    }
   ],
   "source": [
    "\"Vaibhav\".join(\"Rasal\")"
   ]
  },
  {
   "cell_type": "code",
   "execution_count": 13,
   "id": "2facb07b-78d9-4877-807c-9acf4f931033",
   "metadata": {},
   "outputs": [
    {
     "data": {
      "text/plain": [
       "'t n a'"
      ]
     },
     "execution_count": 13,
     "metadata": {},
     "output_type": "execute_result"
    }
   ],
   "source": [
    "' '.join(reversed(\"ant\"))"
   ]
  },
  {
   "cell_type": "code",
   "execution_count": 15,
   "id": "174f77ee-1110-4eeb-b4d8-3bf56a86252f",
   "metadata": {},
   "outputs": [
    {
     "data": {
      "text/plain": [
       "'t PWSkills n PWSkills a'"
      ]
     },
     "execution_count": 15,
     "metadata": {},
     "output_type": "execute_result"
    }
   ],
   "source": [
    "' PWSkills '.join(reversed(\"ant\"))"
   ]
  },
  {
   "cell_type": "code",
   "execution_count": 17,
   "id": "0b5c1343-ae67-488f-8032-1238a616cc26",
   "metadata": {},
   "outputs": [
    {
     "data": {
      "text/plain": [
       "<reversed at 0x7fdf41eaf9d0>"
      ]
     },
     "execution_count": 17,
     "metadata": {},
     "output_type": "execute_result"
    }
   ],
   "source": [
    "reversed(\"ant\")"
   ]
  },
  {
   "cell_type": "code",
   "execution_count": 19,
   "id": "43e0dcb4-af49-482b-97c8-ea59145ef893",
   "metadata": {},
   "outputs": [
    {
     "data": {
      "text/plain": [
       "['n', 'a', 't', 'a', 'r']"
      ]
     },
     "execution_count": 19,
     "metadata": {},
     "output_type": "execute_result"
    }
   ],
   "source": [
    "## typecasting\n",
    "list(reversed(\"ratan\"))"
   ]
  },
  {
   "cell_type": "code",
   "execution_count": 20,
   "id": "57d9fe8f-bd56-43de-af7b-40f4d9e0ce7d",
   "metadata": {},
   "outputs": [
    {
     "data": {
      "text/plain": [
       "'<reversed object at 0x7fdf415bcd60>'"
      ]
     },
     "execution_count": 20,
     "metadata": {},
     "output_type": "execute_result"
    }
   ],
   "source": [
    "str(reversed(\"ratan\"))"
   ]
  },
  {
   "cell_type": "code",
   "execution_count": 21,
   "id": "496095fe-5569-48d3-8ec6-1aefdb834785",
   "metadata": {},
   "outputs": [],
   "source": [
    "str1 = \"Vaibhav\""
   ]
  },
  {
   "cell_type": "code",
   "execution_count": 22,
   "id": "d4fa1381-5b5b-4a41-9388-59f687bd3780",
   "metadata": {},
   "outputs": [
    {
     "data": {
      "text/plain": [
       "'VRasalaRasaliRasalbRasalhRasalaRasalv'"
      ]
     },
     "execution_count": 22,
     "metadata": {},
     "output_type": "execute_result"
    }
   ],
   "source": [
    "\"Rasal\".join(str1)"
   ]
  },
  {
   "cell_type": "code",
   "execution_count": 23,
   "id": "d6f2e933-a3a1-4e4c-af19-716feef45027",
   "metadata": {},
   "outputs": [],
   "source": [
    "str2 = \"om\""
   ]
  },
  {
   "cell_type": "code",
   "execution_count": 30,
   "id": "fa6a5b10-fc0a-4096-8504-7b518b3a2a75",
   "metadata": {},
   "outputs": [
    {
     "data": {
      "text/plain": [
       "'ovedm'"
      ]
     },
     "execution_count": 30,
     "metadata": {},
     "output_type": "execute_result"
    }
   ],
   "source": [
    "\"ved\".join(str2)"
   ]
  },
  {
   "cell_type": "code",
   "execution_count": 25,
   "id": "ca9984ee-cac0-471f-a6d0-e2367d82f5ce",
   "metadata": {},
   "outputs": [],
   "source": [
    "str3 = \"pranav\""
   ]
  },
  {
   "cell_type": "code",
   "execution_count": 26,
   "id": "786bc1f7-58fb-4c1f-825d-f629a3147954",
   "metadata": {},
   "outputs": [
    {
     "data": {
      "text/plain": [
       "'psangamrsangamasangamnsangamasangamv'"
      ]
     },
     "execution_count": 26,
     "metadata": {},
     "output_type": "execute_result"
    }
   ],
   "source": [
    "\"sangam\".join(str3)"
   ]
  },
  {
   "cell_type": "code",
   "execution_count": 27,
   "id": "d885b605-7afe-43a7-be96-ddac60bdda02",
   "metadata": {},
   "outputs": [],
   "source": [
    "str4 = \"PW is a good company\""
   ]
  },
  {
   "cell_type": "code",
   "execution_count": 28,
   "id": "07a70c4a-695c-4d16-9631-ae6343a09939",
   "metadata": {},
   "outputs": [
    {
     "data": {
      "text/plain": [
       "'PPwskillsWPwskills PwskillsiPwskillssPwskills PwskillsaPwskills PwskillsgPwskillsoPwskillsoPwskillsdPwskills PwskillscPwskillsoPwskillsmPwskillspPwskillsaPwskillsnPwskillsy'"
      ]
     },
     "execution_count": 28,
     "metadata": {},
     "output_type": "execute_result"
    }
   ],
   "source": [
    "\"Pwskills\".join(str4)"
   ]
  },
  {
   "cell_type": "code",
   "execution_count": 33,
   "id": "ef259a34-ea49-42c7-9cfe-2184c6e4c83c",
   "metadata": {},
   "outputs": [],
   "source": [
    "name = \"Vaibhav Rasal\""
   ]
  },
  {
   "cell_type": "code",
   "execution_count": 34,
   "id": "793228a3-bd4b-4ee7-b089-8c2db85e9521",
   "metadata": {},
   "outputs": [
    {
     "name": "stdout",
     "output_type": "stream",
     "text": [
      "lasaR vahbiaV"
     ]
    }
   ],
   "source": [
    "for i in list(reversed(name)):\n",
    "    print(i,end='')"
   ]
  },
  {
   "cell_type": "markdown",
   "id": "575a61d4-06bb-4f7a-8533-431c8387445f",
   "metadata": {},
   "source": [
    "Removing space from the string"
   ]
  },
  {
   "cell_type": "code",
   "execution_count": 37,
   "id": "fa473772-72ee-43aa-b91f-65fdc67dfc84",
   "metadata": {},
   "outputs": [],
   "source": [
    "str5 = \" Rasal\""
   ]
  },
  {
   "cell_type": "code",
   "execution_count": 42,
   "id": "f984ec6a-f91b-423c-b543-169253aac697",
   "metadata": {},
   "outputs": [
    {
     "data": {
      "text/plain": [
       "'Rasal'"
      ]
     },
     "execution_count": 42,
     "metadata": {},
     "output_type": "execute_result"
    }
   ],
   "source": [
    "str5.strip(\" \")"
   ]
  },
  {
   "cell_type": "markdown",
   "id": "067b23db-32bf-449d-9621-88e2445add4a",
   "metadata": {},
   "source": [
    "Add space at left side"
   ]
  },
  {
   "cell_type": "code",
   "execution_count": 39,
   "id": "c58b9c25-2f68-4a3c-8acf-91f7ed7986c1",
   "metadata": {},
   "outputs": [],
   "source": [
    "str6 = \" vasudev \""
   ]
  },
  {
   "cell_type": "code",
   "execution_count": 41,
   "id": "937f34c8-c587-4d58-aa67-0a8ef7647252",
   "metadata": {},
   "outputs": [
    {
     "data": {
      "text/plain": [
       "'vasudev '"
      ]
     },
     "execution_count": 41,
     "metadata": {},
     "output_type": "execute_result"
    }
   ],
   "source": [
    "str6.lstrip(\" \")"
   ]
  },
  {
   "cell_type": "markdown",
   "id": "7ecb4220-1e88-4307-84ad-38f16e4d0d40",
   "metadata": {},
   "source": [
    "Add space at right side"
   ]
  },
  {
   "cell_type": "code",
   "execution_count": 45,
   "id": "c141bfee-8847-4cd1-836c-2abda25a159e",
   "metadata": {},
   "outputs": [],
   "source": [
    "str7 = \" matsya \""
   ]
  },
  {
   "cell_type": "code",
   "execution_count": 46,
   "id": "529e948d-4b2a-4983-9ae5-eb00123dc7ea",
   "metadata": {},
   "outputs": [
    {
     "data": {
      "text/plain": [
       "' matsya'"
      ]
     },
     "execution_count": 46,
     "metadata": {},
     "output_type": "execute_result"
    }
   ],
   "source": [
    "str7.rstrip(\" \")"
   ]
  },
  {
   "cell_type": "markdown",
   "id": "a10f3b77-d5d6-4744-9745-ed7cdd000261",
   "metadata": {},
   "source": [
    "Replacing word of a string"
   ]
  },
  {
   "cell_type": "markdown",
   "id": "4a7b739f-d35d-4174-b1c8-8fbaf4b15583",
   "metadata": {},
   "source": [
    "#### Strings are mutable. we cannot change strings or modify strings but replce some of its part"
   ]
  },
  {
   "cell_type": "code",
   "execution_count": 47,
   "id": "2ea7fde6-2865-4447-9655-d8c4873544d1",
   "metadata": {},
   "outputs": [],
   "source": [
    "str8 = \"Welcome to Pune\""
   ]
  },
  {
   "cell_type": "code",
   "execution_count": 48,
   "id": "960061f2-e3a7-4a3a-bd83-ec1b9a13920d",
   "metadata": {},
   "outputs": [
    {
     "data": {
      "text/plain": [
       "'Welcome in Pune'"
      ]
     },
     "execution_count": 48,
     "metadata": {},
     "output_type": "execute_result"
    }
   ],
   "source": [
    "str8.replace(\"to\", \"in\")"
   ]
  },
  {
   "cell_type": "code",
   "execution_count": 1,
   "id": "200d4233-1c64-4d2b-aebd-c37ee8a23491",
   "metadata": {},
   "outputs": [],
   "source": [
    "str9 = \"What is your name\""
   ]
  },
  {
   "cell_type": "code",
   "execution_count": 2,
   "id": "452ec173-7eab-436f-a571-d0218a01e36e",
   "metadata": {},
   "outputs": [
    {
     "data": {
      "text/plain": [
       "'What is your class'"
      ]
     },
     "execution_count": 2,
     "metadata": {},
     "output_type": "execute_result"
    }
   ],
   "source": [
    "str9.replace(\"name\", \"class\")"
   ]
  },
  {
   "cell_type": "code",
   "execution_count": 11,
   "id": "1f4d898a-0055-421b-b919-132664de532b",
   "metadata": {},
   "outputs": [],
   "source": [
    "name1 = \"Vaibhav\""
   ]
  },
  {
   "cell_type": "code",
   "execution_count": 6,
   "id": "f0dbfbbb-fc8a-4e52-b5ce-ef692c763a57",
   "metadata": {},
   "outputs": [],
   "source": [
    "name = \"Sanjay\""
   ]
  },
  {
   "cell_type": "code",
   "execution_count": 13,
   "id": "34bdd894-6b76-4145-895b-372dbbfbd0e7",
   "metadata": {},
   "outputs": [
    {
     "ename": "TypeError",
     "evalue": "'str' object does not support item assignment",
     "output_type": "error",
     "traceback": [
      "\u001b[0;31m---------------------------------------------------------------------------\u001b[0m",
      "\u001b[0;31mTypeError\u001b[0m                                 Traceback (most recent call last)",
      "Cell \u001b[0;32mIn[13], line 1\u001b[0m\n\u001b[0;32m----> 1\u001b[0m \u001b[43mname1\u001b[49m\u001b[43m[\u001b[49m\u001b[38;5;241;43m0\u001b[39;49m\u001b[43m]\u001b[49m \u001b[38;5;241m=\u001b[39m\u001b[38;5;124m\"\u001b[39m\u001b[38;5;124mk\u001b[39m\u001b[38;5;124m\"\u001b[39m\n",
      "\u001b[0;31mTypeError\u001b[0m: 'str' object does not support item assignment"
     ]
    }
   ],
   "source": [
    "name1[0] =\"k\""
   ]
  },
  {
   "cell_type": "code",
   "execution_count": null,
   "id": "ddc05acc-a4bb-4746-92ca-9e0b688a4516",
   "metadata": {},
   "outputs": [],
   "source": []
  }
 ],
 "metadata": {
  "kernelspec": {
   "display_name": "Python 3 (ipykernel)",
   "language": "python",
   "name": "python3"
  },
  "language_info": {
   "codemirror_mode": {
    "name": "ipython",
    "version": 3
   },
   "file_extension": ".py",
   "mimetype": "text/x-python",
   "name": "python",
   "nbconvert_exporter": "python",
   "pygments_lexer": "ipython3",
   "version": "3.10.8"
  }
 },
 "nbformat": 4,
 "nbformat_minor": 5
}
