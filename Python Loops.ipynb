{
 "cells": [
  {
   "cell_type": "code",
   "execution_count": 3,
   "id": "fda7cd18-b8ae-414f-997d-a9dcac9e2565",
   "metadata": {},
   "outputs": [],
   "source": [
    "# We add this for to declare to datatype to machine"
   ]
  },
  {
   "cell_type": "code",
   "execution_count": 1,
   "id": "7eeb3312-e89f-4beb-a877-6cb8b6029c8b",
   "metadata": {},
   "outputs": [
    {
     "name": "stdout",
     "output_type": "stream",
     "text": [
      "<class 'int'>\n"
     ]
    }
   ],
   "source": [
    "a = 10\n",
    "print(type(a))"
   ]
  },
  {
   "cell_type": "code",
   "execution_count": 4,
   "id": "a1a53902-a798-47c1-b0f8-c7d8ab6deb1b",
   "metadata": {},
   "outputs": [
    {
     "data": {
      "text/plain": [
       "int"
      ]
     },
     "execution_count": 4,
     "metadata": {},
     "output_type": "execute_result"
    }
   ],
   "source": [
    "int"
   ]
  },
  {
   "cell_type": "code",
   "execution_count": 5,
   "id": "c177b0df-3db4-4354-877f-b5a98fc8a508",
   "metadata": {},
   "outputs": [
    {
     "name": "stdout",
     "output_type": "stream",
     "text": [
      "my age is: 21\n"
     ]
    }
   ],
   "source": [
    "age = 21\n",
    "print(\"my age is:\",age)"
   ]
  },
  {
   "cell_type": "code",
   "execution_count": 11,
   "id": "c4da9cc0-b28f-4baf-b0fd-f7522729bd9a",
   "metadata": {},
   "outputs": [
    {
     "name": "stdout",
     "output_type": "stream",
     "text": [
      "my age is: 25\n"
     ]
    }
   ],
   "source": [
    "age = 25\n",
    "print(\"my age is:\",age)"
   ]
  },
  {
   "cell_type": "code",
   "execution_count": 6,
   "id": "d43e155a-7f57-4398-b0c9-4103cc09b47f",
   "metadata": {},
   "outputs": [
    {
     "name": "stdout",
     "output_type": "stream",
     "text": [
      "i have a: range rover\n"
     ]
    }
   ],
   "source": [
    "car = \"range rover\"\n",
    "print(\"i have a:\",car)"
   ]
  },
  {
   "cell_type": "code",
   "execution_count": 8,
   "id": "666e2dce-349c-4d7b-93a7-3e35fbf682df",
   "metadata": {},
   "outputs": [
    {
     "name": "stdout",
     "output_type": "stream",
     "text": [
      "my car is:range rover\n"
     ]
    }
   ],
   "source": [
    "print(f\"my car is:{car}\")"
   ]
  },
  {
   "cell_type": "code",
   "execution_count": 12,
   "id": "be335696-4367-45b3-b7d7-ebf7ddbf988c",
   "metadata": {},
   "outputs": [
    {
     "name": "stdout",
     "output_type": "stream",
     "text": [
      "my age is: 25\n"
     ]
    }
   ],
   "source": [
    "print(f\"my age is: {age}\")"
   ]
  },
  {
   "cell_type": "code",
   "execution_count": 14,
   "id": "c2d16da0-4fb0-475a-9654-f86930103ad2",
   "metadata": {},
   "outputs": [
    {
     "name": "stdout",
     "output_type": "stream",
     "text": [
      "i got marks: 56\n"
     ]
    }
   ],
   "source": [
    "marks = 56\n",
    "print(\"i got marks:\",marks)"
   ]
  },
  {
   "cell_type": "code",
   "execution_count": 19,
   "id": "a78db2c7-b687-4c0f-9dd6-1465309b4f23",
   "metadata": {},
   "outputs": [
    {
     "name": "stdout",
     "output_type": "stream",
     "text": [
      "my line is: 32\n"
     ]
    }
   ],
   "source": [
    "line = 32\n",
    "print(\"my line is:\",line)"
   ]
  },
  {
   "cell_type": "code",
   "execution_count": 21,
   "id": "6cfddad8-d37f-4a06-b4cb-120064325e62",
   "metadata": {},
   "outputs": [
    {
     "name": "stdout",
     "output_type": "stream",
     "text": [
      "my line is:32\n"
     ]
    }
   ],
   "source": [
    "print(f\"my line is:{line}\")\n",
    "# here we called f = fstring"
   ]
  },
  {
   "cell_type": "code",
   "execution_count": 22,
   "id": "ab069bfa-9a68-4fa2-9da9-5116d2be49c4",
   "metadata": {},
   "outputs": [
    {
     "name": "stdout",
     "output_type": "stream",
     "text": [
      "my name is Vaibhav and age is 21\n"
     ]
    }
   ],
   "source": [
    "## format()\n",
    "name = \"Vaibhav\"\n",
    "age = \"21\"\n",
    "print(\"my name is {} and age is {}\".format(name,age))"
   ]
  },
  {
   "cell_type": "code",
   "execution_count": 9,
   "id": "8465fbf2-9fdb-4267-8983-0d39a66cfbf2",
   "metadata": {},
   "outputs": [
    {
     "name": "stdout",
     "output_type": "stream",
     "text": [
      "i have a TATA and its model is Harrier\n"
     ]
    }
   ],
   "source": [
    "car_name = \"TATA\"\n",
    "model_name = \"Harrier\"\n",
    "print(f\"i have a {car_name} and its model is {model_name}\")"
   ]
  },
  {
   "cell_type": "code",
   "execution_count": 16,
   "id": "22dad6d6-c99c-4ef8-845d-ded60981d1d4",
   "metadata": {},
   "outputs": [
    {
     "name": "stdout",
     "output_type": "stream",
     "text": [
      "Bharat Launches PSLV and its generation is 3rd Generation\n"
     ]
    }
   ],
   "source": [
    "rocket_type = \"PSLV\"\n",
    "rocket_name = \"3rd Generation\"\n",
    "print(\"Bharat Launches {} and its generation is {}\".format(rocket_type,rocket_name))"
   ]
  },
  {
   "cell_type": "code",
   "execution_count": 24,
   "id": "4f05d7b0-8ce4-4472-b10c-aeef0672c7e0",
   "metadata": {},
   "outputs": [
    {
     "name": "stdout",
     "output_type": "stream",
     "text": [
      "i has a bike Pulsar and car has Range Rover\n"
     ]
    }
   ],
   "source": [
    "# example 2\n",
    "bike = \"Pulsar\"\n",
    "car = \"Range Rover\"\n",
    "print(\"i has a bike {} and car has {}\".format(bike,car))"
   ]
  },
  {
   "cell_type": "code",
   "execution_count": 28,
   "id": "6f69fefc-40b3-42dc-b078-e88e8276fda3",
   "metadata": {},
   "outputs": [
    {
     "name": "stdout",
     "output_type": "stream",
     "text": [
      "My name is Vaibhav and age is 21\n"
     ]
    }
   ],
   "source": [
    "# here in angular bracket what we write that called placeholder\n",
    "print(\"My name is {firstname} and age is {firstage}\".format(firstname=name,firstage=age))"
   ]
  },
  {
   "cell_type": "code",
   "execution_count": 1,
   "id": "5419aa66-bff2-4047-a85f-53f3b58df807",
   "metadata": {},
   "outputs": [
    {
     "name": "stdout",
     "output_type": "stream",
     "text": [
      "my name is Vaibhav Rasal and my age is 21 and i pursuing BE degree\n"
     ]
    }
   ],
   "source": [
    "name = \"Vaibhav Rasal\"\n",
    "age = 21\n",
    "degree = \"BE\"\n",
    "print(\"my name is {} and my age is {} and i pursuing {} degree\".format(name,age,degree))"
   ]
  },
  {
   "cell_type": "code",
   "execution_count": 3,
   "id": "4dcf20cd-b17c-4cbe-8cbe-79e445c3986b",
   "metadata": {},
   "outputs": [
    {
     "name": "stdout",
     "output_type": "stream",
     "text": [
      "i have samsung s22 ultra and its ram is 12 GB and camera is also good. it has 108 MP\n"
     ]
    }
   ],
   "source": [
    "mobile = \"samsung s22 ultra\"\n",
    "ram = \"12 GB\"\n",
    "camera = \"108 MP\"\n",
    "\n",
    "print(\"i have {} and its ram is {} and camera is also good. it has {}\".format(mobile, ram, camera))"
   ]
  },
  {
   "cell_type": "code",
   "execution_count": 9,
   "id": "5174262a-ff6a-48d5-b3b6-940722a4445c",
   "metadata": {},
   "outputs": [
    {
     "name": "stdout",
     "output_type": "stream",
     "text": [
      "my name is Vaibhav Rasal and my age is 32 and i pursuing BE degree\n"
     ]
    }
   ],
   "source": [
    "print(f\"my name is {name} and my age is {age} and i pursuing {degree} degree\")"
   ]
  },
  {
   "cell_type": "markdown",
   "id": "a6411953-9f34-4f83-99ea-d03a9f08ca95",
   "metadata": {},
   "source": [
    "### Control Flow"
   ]
  },
  {
   "cell_type": "markdown",
   "id": "0f699768-f53c-4cdd-89fb-08c076eb3319",
   "metadata": {},
   "source": [
    " #### Decision Making Points"
   ]
  },
  {
   "cell_type": "code",
   "execution_count": 10,
   "id": "238d516d-1db6-40e2-8515-47867e01d94c",
   "metadata": {},
   "outputs": [],
   "source": [
    "## If statements"
   ]
  },
  {
   "cell_type": "code",
   "execution_count": 37,
   "id": "c73dddee-25c6-4a24-8e23-4350ae8ccf11",
   "metadata": {},
   "outputs": [
    {
     "name": "stdout",
     "output_type": "stream",
     "text": [
      "You are not eligible for vote\n"
     ]
    }
   ],
   "source": [
    "age = 17\n",
    "if age<18:\n",
    "    print(\"You are not eligible for vote\")"
   ]
  },
  {
   "cell_type": "code",
   "execution_count": 2,
   "id": "dcb4dd7c-256c-4d9d-848f-db5b41a6f244",
   "metadata": {},
   "outputs": [
    {
     "name": "stdout",
     "output_type": "stream",
     "text": [
      "Thank for application we will let you know\n"
     ]
    }
   ],
   "source": [
    "income = 15000\n",
    "if income<=15000:\n",
    "    print(\"Thank for application we will let you know\")"
   ]
  },
  {
   "cell_type": "code",
   "execution_count": 38,
   "id": "e0f1ac39-574c-4827-8bdf-85b79cc0e6e4",
   "metadata": {},
   "outputs": [
    {
     "name": "stdout",
     "output_type": "stream",
     "text": [
      "You are eligible for vote\n"
     ]
    }
   ],
   "source": [
    "age = 18\n",
    "if age<=18:\n",
    "    print(\"You are eligible for vote\")"
   ]
  },
  {
   "cell_type": "code",
   "execution_count": 9,
   "id": "bf93a759-6a5d-4def-9964-ddd5b481ff3e",
   "metadata": {},
   "outputs": [
    {
     "name": "stdout",
     "output_type": "stream",
     "text": [
      "a is less than b\n"
     ]
    }
   ],
   "source": [
    "a = 9\n",
    "b = 989\n",
    "if a<b:\n",
    "    print(\"b is greater than a)"
   ]
  },
  {
   "cell_type": "code",
   "execution_count": 36,
   "id": "1621cc1e-3f8e-4b2d-988e-cbbccdad21a4",
   "metadata": {},
   "outputs": [
    {
     "data": {
      "text/plain": [
       "True"
      ]
     },
     "execution_count": 36,
     "metadata": {},
     "output_type": "execute_result"
    }
   ],
   "source": [
    "18==18"
   ]
  },
  {
   "cell_type": "code",
   "execution_count": 10,
   "id": "9a490384-f145-4ab5-8483-fd1242ceb377",
   "metadata": {},
   "outputs": [
    {
     "data": {
      "text/plain": [
       "True"
      ]
     },
     "execution_count": 10,
     "metadata": {},
     "output_type": "execute_result"
    }
   ],
   "source": [
    "18<=18"
   ]
  },
  {
   "cell_type": "code",
   "execution_count": 11,
   "id": "157b8bed-9b12-4b1c-ac92-e49469ba3cb3",
   "metadata": {},
   "outputs": [
    {
     "data": {
      "text/plain": [
       "False"
      ]
     },
     "execution_count": 11,
     "metadata": {},
     "output_type": "execute_result"
    }
   ],
   "source": [
    "78 > 98"
   ]
  },
  {
   "cell_type": "markdown",
   "id": "0dc798c0-ab97-4995-a10a-de03018efb7d",
   "metadata": {},
   "source": [
    "#### Take Input from User"
   ]
  },
  {
   "cell_type": "code",
   "execution_count": null,
   "id": "ea555ceb-28bf-43d1-9b32-9d151489f965",
   "metadata": {},
   "outputs": [],
   "source": [
    "name=input(\"Enter The Name\")"
   ]
  },
  {
   "cell_type": "code",
   "execution_count": null,
   "id": "e99f2cd8-1c31-4c4d-b69e-fe20a96b638d",
   "metadata": {},
   "outputs": [],
   "source": [
    "name"
   ]
  },
  {
   "cell_type": "code",
   "execution_count": 16,
   "id": "69d467a1-c09f-4066-80f8-176350ee0bc8",
   "metadata": {},
   "outputs": [
    {
     "name": "stdin",
     "output_type": "stream",
     "text": [
      "What is your car brand  BMW\n"
     ]
    },
    {
     "name": "stdout",
     "output_type": "stream",
     "text": [
      "Thanks For Visiting We Only Give Servise For Range Rover\n"
     ]
    }
   ],
   "source": [
    "car = input(\"What is your car brand \")\n",
    "if car != \"Range Rover\":\n",
    "    print(\"Thanks For Visiting We Only Give Servise For Range Rover\")\n",
    "else:\n",
    "    print(\"please check your waiting period\")"
   ]
  },
  {
   "cell_type": "code",
   "execution_count": 1,
   "id": "576c1e18-317b-41a0-9652-fd15f5319686",
   "metadata": {},
   "outputs": [
    {
     "name": "stdout",
     "output_type": "stream",
     "text": [
      "Hello World\n"
     ]
    }
   ],
   "source": [
    "print(\"Hello World\")"
   ]
  },
  {
   "cell_type": "code",
   "execution_count": 2,
   "id": "52fe0d6e-1c52-43b3-a43c-0b73c50429bb",
   "metadata": {},
   "outputs": [
    {
     "name": "stdin",
     "output_type": "stream",
     "text": [
      "my age is 21\n"
     ]
    }
   ],
   "source": [
    "age=int(input(\"my age is\"))"
   ]
  },
  {
   "cell_type": "code",
   "execution_count": 17,
   "id": "86160632-d900-442e-9d93-f5ea07f771d1",
   "metadata": {},
   "outputs": [
    {
     "name": "stdin",
     "output_type": "stream",
     "text": [
      "Number of rockets launches till 53\n"
     ]
    }
   ],
   "source": [
    "rocket_number = int(input(\"Number of rockets launches till\"))"
   ]
  },
  {
   "cell_type": "code",
   "execution_count": 3,
   "id": "6d8dcd30-ca2f-4785-8beb-906d1f81269f",
   "metadata": {},
   "outputs": [
    {
     "data": {
      "text/plain": [
       "int"
      ]
     },
     "execution_count": 3,
     "metadata": {},
     "output_type": "execute_result"
    }
   ],
   "source": [
    "type(age)"
   ]
  },
  {
   "cell_type": "code",
   "execution_count": 5,
   "id": "cd1afefc-cde8-4b06-b2de-1f75bc13fe79",
   "metadata": {},
   "outputs": [
    {
     "name": "stdout",
     "output_type": "stream",
     "text": [
      "Hello World\n"
     ]
    }
   ],
   "source": [
    "print(\"Hello World\")"
   ]
  },
  {
   "cell_type": "code",
   "execution_count": 7,
   "id": "db284ff0-1c71-4048-877f-3279e183e1d2",
   "metadata": {},
   "outputs": [
    {
     "name": "stdin",
     "output_type": "stream",
     "text": [
      "my age is 21\n"
     ]
    }
   ],
   "source": [
    "age = int(input(\"my age is\"))"
   ]
  },
  {
   "cell_type": "code",
   "execution_count": 8,
   "id": "ae6cd753-2579-4c14-9c37-cdbd7c595539",
   "metadata": {},
   "outputs": [],
   "source": [
    "## Task\n",
    "## Take a input of age\n",
    "## check whether age >=18 and age<=32"
   ]
  },
  {
   "cell_type": "code",
   "execution_count": 11,
   "id": "15eb0a04-3300-4674-b1af-d9b46d9fb696",
   "metadata": {},
   "outputs": [
    {
     "name": "stdin",
     "output_type": "stream",
     "text": [
      "Enter your age 24\n"
     ]
    },
    {
     "name": "stdout",
     "output_type": "stream",
     "text": [
      "Your Are eligible for blood donation\n"
     ]
    }
   ],
   "source": [
    "age = int(input(\"Enter your age\"))\n",
    "if age>=18 and age<=32:\n",
    "    print(\"Your Are eligible for blood donation\")"
   ]
  },
  {
   "cell_type": "code",
   "execution_count": 26,
   "id": "ebf80686-87bf-4394-acfb-08b8878a675e",
   "metadata": {},
   "outputs": [
    {
     "name": "stdin",
     "output_type": "stream",
     "text": [
      "Enter Your Password avina\n"
     ]
    },
    {
     "name": "stdout",
     "output_type": "stream",
     "text": [
      "Wrong Password Check again\n"
     ]
    }
   ],
   "source": [
    "password = input(\"Enter Your Password\")\n",
    "if password != \"Vibe@1234\":\n",
    "    print(\"Wrong Password Check again\")\n",
    "else:\n",
    "    print(\"Welcome to your account\")"
   ]
  },
  {
   "cell_type": "code",
   "execution_count": 12,
   "id": "7ed31a4e-9740-4248-adab-5cefabd10cf8",
   "metadata": {},
   "outputs": [
    {
     "data": {
      "text/plain": [
       "True"
      ]
     },
     "execution_count": 12,
     "metadata": {},
     "output_type": "execute_result"
    }
   ],
   "source": [
    "23<=54"
   ]
  },
  {
   "cell_type": "code",
   "execution_count": 13,
   "id": "040cd448-5b98-4ee5-81ac-f3215cc9c219",
   "metadata": {},
   "outputs": [
    {
     "data": {
      "text/plain": [
       "False"
      ]
     },
     "execution_count": 13,
     "metadata": {},
     "output_type": "execute_result"
    }
   ],
   "source": [
    "23>=65"
   ]
  },
  {
   "cell_type": "code",
   "execution_count": 14,
   "id": "02fb8421-bbf4-4ecd-a93e-eded80938c5e",
   "metadata": {},
   "outputs": [],
   "source": [
    "### if else(जर इतर) statement when statement not get output if value bigger than input"
   ]
  },
  {
   "cell_type": "code",
   "execution_count": 22,
   "id": "1d5f70df-48d4-4939-954f-c3ed831babda",
   "metadata": {},
   "outputs": [
    {
     "name": "stdin",
     "output_type": "stream",
     "text": [
      "Enter your age 18\n"
     ]
    },
    {
     "name": "stdout",
     "output_type": "stream",
     "text": [
      "Your Are eligible for blood donation\n"
     ]
    }
   ],
   "source": [
    "age = int(input(\"Enter your age\"))\n",
    "if age>=18 and age<=32:\n",
    "    print(\"Your Are eligible for blood donation\")\n",
    "else:\n",
    "    print(\"Thank You!! We will let you know\")"
   ]
  },
  {
   "cell_type": "code",
   "execution_count": 23,
   "id": "b7771f1e-00a9-443e-ad22-0911f16e561b",
   "metadata": {},
   "outputs": [],
   "source": [
    "## Task\n",
    "## mall\n",
    "## any product greater than 1000 rs\n",
    "## product >=1000 rs = 20% discount\n",
    "## product <=1000 rs = 30% discount"
   ]
  },
  {
   "cell_type": "code",
   "execution_count": 33,
   "id": "378d9c6d-56d8-4816-9561-ddb048f5c619",
   "metadata": {},
   "outputs": [
    {
     "name": "stdin",
     "output_type": "stream",
     "text": [
      "Enter the price 1000\n"
     ]
    },
    {
     "name": "stdout",
     "output_type": "stream",
     "text": [
      "The price of the product is 700.0\n"
     ]
    }
   ],
   "source": [
    "product_price = int(input(\"Enter the price\"))\n",
    "if product_price>1000:\n",
    "    print(\"The price of the product is {}\".format(product_price*0.8))\n",
    "else:\n",
    "    print(\"The price of the product is {}\".format(product_price*0.7))"
   ]
  },
  {
   "cell_type": "code",
   "execution_count": 1,
   "id": "b7fc65a9-c090-469f-99a0-a8a53496f698",
   "metadata": {},
   "outputs": [
    {
     "data": {
      "text/plain": [
       "1000.0"
      ]
     },
     "execution_count": 1,
     "metadata": {},
     "output_type": "execute_result"
    }
   ],
   "source": [
    "# if we buy rs 5000 product and get dicount of 20% means 1000 rs dicount\n",
    "(20/100)*5000"
   ]
  },
  {
   "cell_type": "code",
   "execution_count": 9,
   "id": "4c5f7714-1c7d-457e-b3c0-84a7e27e455e",
   "metadata": {},
   "outputs": [
    {
     "name": "stdin",
     "output_type": "stream",
     "text": [
      "Enter the price 1003\n"
     ]
    },
    {
     "name": "stdout",
     "output_type": "stream",
     "text": [
      "The price of the product is 802.4000000000001\n"
     ]
    }
   ],
   "source": [
    "# above same thing we can convert in f format\n",
    "product_price = int(input(\"Enter the price\"))\n",
    "if product_price>1000:\n",
    "    print(f\"The price of the product is {product_price*0.8}\".format())\n",
    "else:\n",
    "    print(f\"The price of the product is {product_price*0.7}\".format())"
   ]
  },
  {
   "cell_type": "code",
   "execution_count": 31,
   "id": "aa287092-2898-462b-8b80-39baa57fd182",
   "metadata": {},
   "outputs": [
    {
     "name": "stdin",
     "output_type": "stream",
     "text": [
      "In Which Pole You have to land North Pole\n"
     ]
    },
    {
     "name": "stdout",
     "output_type": "stream",
     "text": [
      "Yes You can land on the station, Happy landing\n"
     ]
    }
   ],
   "source": [
    "mars_location = input(\"In Which Pole You have to land\")\n",
    "if mars_location == \"North Pole\":\n",
    "    print(\"Yes You can land on the station, Happy landing\")\n",
    "else:\n",
    "    print(\"Sorry to say you have no permission for landing\")"
   ]
  },
  {
   "cell_type": "code",
   "execution_count": null,
   "id": "5aac656d-8699-4eba-b092-5267ff786b43",
   "metadata": {},
   "outputs": [],
   "source": [
    "# Example 2\n",
    "## Task\n",
    "## mall - input the product price\n",
    "## product >3000 rs 20% off\n",
    "## if product price is >=4000, you will get free goa trip\n",
    "## print the product price after removing the discount\n",
    "## product >=2000 rs and <=3000 30% off\n",
    "## print the product price after removing the discount\n",
    "## price ==2999 u will get additional gift\n",
    "## product <=1000 rs 0% off\n",
    "## print the product price after removing the discount"
   ]
  },
  {
   "cell_type": "code",
   "execution_count": 15,
   "id": "1805701a-570c-4762-8edd-1d6a2322de19",
   "metadata": {},
   "outputs": [
    {
     "name": "stdin",
     "output_type": "stream",
     "text": [
      "Enter The Price 50\n"
     ]
    },
    {
     "name": "stdout",
     "output_type": "stream",
     "text": [
      "Lets drink tea\n",
      "i will also be there\n"
     ]
    }
   ],
   "source": [
    "# elif = else + if\n",
    "## first take \"if\" then \"elif\" then \"elif\" then \"else\"\n",
    "# if we want to add another condtion at third number then add another elif function\n",
    "product_price = int(input(\"Enter The Price\"))\n",
    "if product_price>3000:\n",
    "    if product_price==4000:\n",
    "        print(\"Congrulations you get a goa trip\")\n",
    "    print(f\"The price of product is {product_price*0.8}\")\n",
    "elif product_price>=2000 and product_price<=3000:\n",
    "    if product_price>=2999:\n",
    "        print(\"Congratulations you get an additional gift\")\n",
    "    print(f\"The price of product is {product_price*0.7}\")\n",
    "elif product_price>=100 and product_price<=2000: \n",
    "    print(f\"The price of product {product_price*0.6}\")\n",
    "else:\n",
    "    print(\"Lets drink tea\")\n",
    "    print(\"i will also be there\")"
   ]
  },
  {
   "cell_type": "code",
   "execution_count": 1,
   "id": "ec9d6c9b-42fb-4944-b586-985decdc2b2c",
   "metadata": {},
   "outputs": [
    {
     "name": "stdin",
     "output_type": "stream",
     "text": [
      "Enter here your country name India\n"
     ]
    },
    {
     "name": "stdout",
     "output_type": "stream",
     "text": [
      "Sorry we currrenly operate in india only\n"
     ]
    },
    {
     "name": "stdin",
     "output_type": "stream",
     "text": [
      "Enter your valid pancard number 25151518144\n"
     ]
    },
    {
     "name": "stdout",
     "output_type": "stream",
     "text": [
      "your pandcard details are verified\n"
     ]
    },
    {
     "name": "stdin",
     "output_type": "stream",
     "text": [
      "enter here valid aadhar card number 2562514526\n"
     ]
    },
    {
     "name": "stdout",
     "output_type": "stream",
     "text": [
      "your aadhar nunmber is verified\n"
     ]
    },
    {
     "name": "stdin",
     "output_type": "stream",
     "text": [
      "enter your annual income 100000\n"
     ]
    },
    {
     "name": "stdout",
     "output_type": "stream",
     "text": [
      "wait for proceeding\n"
     ]
    }
   ],
   "source": [
    "# loan aprove application \n",
    "# if income = 10000 then aprove loan of 100000\n",
    "# if income > we are sorry to say, for lower in come we are currently give loan\n",
    "# if income > 1,00,000 aprove loan of 10,000,00\n",
    "country_name = input(\"Enter here your country name\")\n",
    "if country_name != \"India\" or country_name != \"india\":\n",
    "    print(\"Sorry we currrenly operate in india only\")\n",
    "else:\n",
    "    print(\"Verified your Indian\")\n",
    "    \n",
    "pancard_number = int(input(\"Enter your valid pancard number\"))\n",
    "print(\"your pandcard details are verified\")\n",
    "\n",
    "aadhar_card = int(input(\"enter here valid aadhar card number\"))\n",
    "print(\"your aadhar nunmber is verified\")\n",
    "\n",
    "income = int(input(\"enter your annual income\"))\n",
    "if income <= 10000:\n",
    "    print(\" Thanks for application, but sorry we are not offer loan for lower income\")\n",
    "\n",
    "elif income>= 100000:\n",
    "    print(\"wait for proceeding\")\n",
    "    \n",
    "else:\n",
    "    print(\"prceeding please wait\")"
   ]
  },
  {
   "cell_type": "code",
   "execution_count": null,
   "id": "1d3bec8e-e574-4d75-ab94-3362e63a453c",
   "metadata": {},
   "outputs": [
    {
     "name": "stdin",
     "output_type": "stream",
     "text": [
      "Enter your name:  va\n",
      "Enter here your HSC marks:  87\n",
      "Enter here your Physics, Chemistry, Mathematics Marks Addition 140\n"
     ]
    },
    {
     "name": "stdout",
     "output_type": "stream",
     "text": [
      "you are not eligible for addmision process\n"
     ]
    }
   ],
   "source": [
    "# CAP round for college:\n",
    "\n",
    "name = input(\"Enter your name: \")\n",
    "\n",
    "hsc_marks = eval(input(\"Enter here your HSC marks: \"))\n",
    "\n",
    "Physics = \"Physics\"\n",
    "\n",
    "Chemistry = \"Chemistry\"\n",
    "\n",
    "Mathematics = \"Mathematics\"\n",
    "\n",
    "hsc_sub_total = eval(input(f\"Enter here your Physics, Chemistry, Mathematics Marks Addition\"))\n",
    "\n",
    "if (hsc_sub_total >= 150):\n",
    "    \n",
    "    print(\"You are eligible of admision process\")\n",
    "else:\n",
    "    print(\"you are not eligible for addmision process\")\n",
    "    \n",
    "    \n",
    "\n",
    "cet_score = eval(input(\"Enter here your cet score: \"))\n",
    "if (cet_score >= 96):\n",
    "    print(\"congrulations you get addmision in compueter science engineering\")\n",
    "    \n"
   ]
  },
  {
   "cell_type": "raw",
   "id": "5445cfc5-fe4e-4a7c-bc46-0a4784ddaca8",
   "metadata": {},
   "source": [
    "# comparision operator\n",
    "True==True"
   ]
  },
  {
   "cell_type": "code",
   "execution_count": 2,
   "id": "f4b180fe-28ed-48c3-8db1-e88e3a1861ac",
   "metadata": {},
   "outputs": [
    {
     "name": "stdin",
     "output_type": "stream",
     "text": [
      "Enter The Number 1000\n"
     ]
    },
    {
     "name": "stdout",
     "output_type": "stream",
     "text": [
      "Go to home\n"
     ]
    }
   ],
   "source": [
    "## Single statement sauites\n",
    "val = int(input(\"Enter The Number\"))\n",
    "if val<=999:\n",
    "    print(\"Value is less than equal to 999\")\n",
    "else:\n",
    "    print(\"Go to home\")"
   ]
  },
  {
   "cell_type": "markdown",
   "id": "902aeae3-20a3-48e5-a376-84982c4fd6c5",
   "metadata": {},
   "source": [
    "### Loops statement\n"
   ]
  },
  {
   "cell_type": "markdown",
   "id": "b94ab743-11d5-40ee-a240-a50aa14bc140",
   "metadata": {},
   "source": [
    "#### 1. while loop\n",
    "#### 2. for loop\n",
    "#### 3. nested loops\n",
    "#### 4. loop control(break.continue,pass)"
   ]
  },
  {
   "cell_type": "markdown",
   "id": "b09757af-c1d7-4684-b9da-4017c60f5dc4",
   "metadata": {},
   "source": [
    "## 1.while loop"
   ]
  },
  {
   "cell_type": "code",
   "execution_count": 3,
   "id": "78695682-accb-458e-91d0-09d0496f395d",
   "metadata": {},
   "outputs": [
    {
     "name": "stdout",
     "output_type": "stream",
     "text": [
      "25\n",
      "26\n",
      "27\n",
      "28\n",
      "29\n",
      "30\n",
      "31\n",
      "32\n",
      "33\n",
      "34\n",
      "35\n",
      "36\n",
      "37\n",
      "38\n",
      "39\n",
      "40\n",
      "41\n",
      "42\n",
      "43\n",
      "44\n",
      "45\n",
      "46\n",
      "47\n",
      "48\n",
      "49\n",
      "50\n",
      "51\n",
      "52\n",
      "53\n",
      "54\n",
      "55\n",
      "56\n",
      "57\n",
      "58\n",
      "59\n",
      "60\n",
      "its time for retirement\n"
     ]
    }
   ],
   "source": [
    "joining_age=25\n",
    "i=1\n",
    "while joining_age<=60:\n",
    "    print(joining_age)\n",
    "    joining_age=joining_age+1\n",
    "    \n",
    "else:\n",
    "    print(\"its time for retirement\")"
   ]
  },
  {
   "cell_type": "code",
   "execution_count": null,
   "id": "2dfeb18d-3fe5-43f9-aef2-75c52c506d0b",
   "metadata": {},
   "outputs": [],
   "source": [
    "##### i = int(input(\"Enter the Number: \"))\n",
    "i = 2\n",
    "while(i<=38):\n",
    "    i = int(input(\"Enter the Number: \"))\n",
    "    print(i)\n",
    "\n",
    "print(\"Done with the loop\")"
   ]
  },
  {
   "cell_type": "code",
   "execution_count": 11,
   "id": "581ce9db-ed40-4e52-b95e-95a7031ab6d7",
   "metadata": {},
   "outputs": [
    {
     "name": "stdout",
     "output_type": "stream",
     "text": [
      "5\n",
      "4\n",
      "3\n",
      "2\n",
      "1\n"
     ]
    }
   ],
   "source": [
    "count = 5\n",
    "while (count > 0):\n",
    "    print(count)\n",
    "    count = count - 1"
   ]
  },
  {
   "cell_type": "code",
   "execution_count": 6,
   "id": "80b45b5a-8c01-437f-8485-08f620d571e8",
   "metadata": {},
   "outputs": [
    {
     "name": "stdout",
     "output_type": "stream",
     "text": [
      "100\n",
      "95\n",
      "90\n",
      "85\n",
      "80\n",
      "75\n",
      "70\n",
      "65\n",
      "60\n",
      "55\n",
      "50\n",
      "45\n",
      "40\n",
      "35\n",
      "30\n",
      "25\n",
      "20\n",
      "15\n",
      "10\n",
      "5\n"
     ]
    }
   ],
   "source": [
    "number = 100\n",
    "while (number >= 5):\n",
    "    print(number)\n",
    "    number = number - 5"
   ]
  },
  {
   "cell_type": "code",
   "execution_count": 10,
   "id": "1bc7315d-8279-4046-a432-3f368d58dcad",
   "metadata": {},
   "outputs": [
    {
     "name": "stdout",
     "output_type": "stream",
     "text": [
      "1000\n",
      "900\n",
      "800\n",
      "700\n",
      "600\n",
      "500\n",
      "400\n",
      "300\n",
      "200\n",
      "100\n",
      "put more money bank people\n"
     ]
    }
   ],
   "source": [
    "### ATM machine with 1000 rs\n",
    "total_amount=1000\n",
    "while total_amount!=0:\n",
    "    print(total_amount)\n",
    "    total_amount=total_amount-100\n",
    "else:\n",
    "    print(\"put more money bank people\")"
   ]
  },
  {
   "cell_type": "markdown",
   "id": "3eeee644-73e0-48b8-bc5e-2e0e50a7bac8",
   "metadata": {},
   "source": [
    "## 2.for loop"
   ]
  },
  {
   "cell_type": "code",
   "execution_count": 12,
   "id": "4e961d20-806a-4062-840a-052a2eac7a4c",
   "metadata": {},
   "outputs": [],
   "source": [
    "# it is just like basket where we can put different different things\n",
    "lst = [\"Vaibhav\",1,2,3,4,\"apple\",\"banana\"]"
   ]
  },
  {
   "cell_type": "code",
   "execution_count": 13,
   "id": "68dd3d2b-b8e2-442b-9850-57e4609fe495",
   "metadata": {},
   "outputs": [
    {
     "data": {
      "text/plain": [
       "list"
      ]
     },
     "execution_count": 13,
     "metadata": {},
     "output_type": "execute_result"
    }
   ],
   "source": [
    "type(lst)"
   ]
  },
  {
   "cell_type": "code",
   "execution_count": 14,
   "id": "dbcc4c7e-21cb-446a-8a27-5a1caf7cac49",
   "metadata": {},
   "outputs": [
    {
     "data": {
      "text/plain": [
       "'Vaibhav'"
      ]
     },
     "execution_count": 14,
     "metadata": {},
     "output_type": "execute_result"
    }
   ],
   "source": [
    "lst[0]"
   ]
  },
  {
   "cell_type": "code",
   "execution_count": 15,
   "id": "278a6cc8-c265-41c2-9704-c491a474dd8d",
   "metadata": {},
   "outputs": [
    {
     "data": {
      "text/plain": [
       "3"
      ]
     },
     "execution_count": 15,
     "metadata": {},
     "output_type": "execute_result"
    }
   ],
   "source": [
    "lst[3]"
   ]
  },
  {
   "cell_type": "code",
   "execution_count": 16,
   "id": "7aecdc31-b8ea-4731-93b6-13bbf5afcbf0",
   "metadata": {},
   "outputs": [
    {
     "data": {
      "text/plain": [
       "'apple'"
      ]
     },
     "execution_count": 16,
     "metadata": {},
     "output_type": "execute_result"
    }
   ],
   "source": [
    "lst[5]"
   ]
  },
  {
   "cell_type": "code",
   "execution_count": 17,
   "id": "e805283a-c95b-42dd-bc5e-355116e5a6e9",
   "metadata": {},
   "outputs": [
    {
     "data": {
      "text/plain": [
       "['Vaibhav', 1, 2, 3, 4, 'apple', 'banana']"
      ]
     },
     "execution_count": 17,
     "metadata": {},
     "output_type": "execute_result"
    }
   ],
   "source": [
    "lst"
   ]
  },
  {
   "cell_type": "code",
   "execution_count": 12,
   "id": "50db14c8-d75f-40d8-a9f9-a31ef54ff077",
   "metadata": {},
   "outputs": [
    {
     "data": {
      "text/plain": [
       "'Avinash'"
      ]
     },
     "execution_count": 12,
     "metadata": {},
     "output_type": "execute_result"
    }
   ],
   "source": [
    "students = [\"Vaibhav\",\"Dhiraj\",\"vikee\",\"Avinash\",\"Gopal\",\"Vishal\"]\n",
    "students[3]"
   ]
  },
  {
   "cell_type": "code",
   "execution_count": 18,
   "id": "695658ca-a280-4d71-9509-e911aa1fa2b5",
   "metadata": {},
   "outputs": [
    {
     "name": "stdout",
     "output_type": "stream",
     "text": [
      "Vaibhav\n",
      "1\n",
      "2\n",
      "3\n",
      "4\n",
      "apple\n",
      "banana\n"
     ]
    }
   ],
   "source": [
    "for x in lst:\n",
    "    print(x)"
   ]
  },
  {
   "cell_type": "code",
   "execution_count": 3,
   "id": "1baf1e97-4f21-4b6c-9fb8-dfa0a947977f",
   "metadata": {},
   "outputs": [
    {
     "name": "stdout",
     "output_type": "stream",
     "text": [
      "apple\n",
      "banana\n",
      "cherry\n"
     ]
    }
   ],
   "source": [
    "fruits = [\"apple\", \"banana\", \"cherry\"]\n",
    "for x in fruits:\n",
    "    print(x)"
   ]
  },
  {
   "cell_type": "code",
   "execution_count": 5,
   "id": "dec64c96-541b-4ffe-98f3-0ced2b9806b7",
   "metadata": {},
   "outputs": [
    {
     "name": "stdout",
     "output_type": "stream",
     "text": [
      "Range Rover\n",
      "BMW\n",
      "Rolls Roycee\n",
      "Lamborgine\n"
     ]
    }
   ],
   "source": [
    "car = [\"Range Rover\",\"BMW\",\"Rolls Roycee\",\"Lamborgine\"]\n",
    "for z in car:\n",
    "    print(z)"
   ]
  },
  {
   "cell_type": "code",
   "execution_count": 7,
   "id": "3b56bc07-8a0f-47c8-a2c5-7d0629848d5d",
   "metadata": {},
   "outputs": [
    {
     "data": {
      "text/plain": [
       "list"
      ]
     },
     "execution_count": 7,
     "metadata": {},
     "output_type": "execute_result"
    }
   ],
   "source": [
    "type(car)"
   ]
  },
  {
   "cell_type": "code",
   "execution_count": 8,
   "id": "04136b4d-aa26-42e1-812c-6ecba152e9f8",
   "metadata": {},
   "outputs": [
    {
     "data": {
      "text/plain": [
       "'Rolls Roycee'"
      ]
     },
     "execution_count": 8,
     "metadata": {},
     "output_type": "execute_result"
    }
   ],
   "source": [
    "car[2]"
   ]
  },
  {
   "cell_type": "code",
   "execution_count": 20,
   "id": "0fb62ce4-53af-43e8-a274-d72bf81b5e1e",
   "metadata": {},
   "outputs": [],
   "source": [
    "fruits_list=[\"Banana\",\"Mango\",\"Cherry\",\"Papaya\",\"Appple\"]"
   ]
  },
  {
   "cell_type": "code",
   "execution_count": 32,
   "id": "ccb0c49a-bac0-44fe-b275-1bd563e110fa",
   "metadata": {},
   "outputs": [
    {
     "name": "stdout",
     "output_type": "stream",
     "text": [
      "Banana\n",
      "Mango\n",
      "Cherry\n",
      "The fruit is cherry\n"
     ]
    }
   ],
   "source": [
    "for a in fruits_list:\n",
    "    print(a)\n",
    "    if a==\"Cherry\":\n",
    "        print(\"The fruit is cherry\")\n",
    "        break"
   ]
  },
  {
   "cell_type": "code",
   "execution_count": 25,
   "id": "80a32d6b-e141-4fcf-8923-244f24b0f060",
   "metadata": {},
   "outputs": [
    {
     "data": {
      "text/plain": [
       "['Banana', 'Mango', 'Cherry', 'Papaya', 'Appple']"
      ]
     },
     "execution_count": 25,
     "metadata": {},
     "output_type": "execute_result"
    }
   ],
   "source": [
    "fruits_list"
   ]
  },
  {
   "cell_type": "code",
   "execution_count": 26,
   "id": "bde673ce-b8ac-4e60-a5d5-7dc92aec73cd",
   "metadata": {},
   "outputs": [
    {
     "data": {
      "text/plain": [
       "'Appple'"
      ]
     },
     "execution_count": 26,
     "metadata": {},
     "output_type": "execute_result"
    }
   ],
   "source": [
    "fruits_list[4]"
   ]
  },
  {
   "cell_type": "code",
   "execution_count": 34,
   "id": "cd5f6168-d032-480d-bd6e-a5f8579479af",
   "metadata": {},
   "outputs": [
    {
     "name": "stdout",
     "output_type": "stream",
     "text": [
      "mango"
     ]
    }
   ],
   "source": [
    "# end='' this write in horizontal format\n",
    "fruit='mango'\n",
    "for x in fruit:\n",
    "    print(x,end='')"
   ]
  },
  {
   "cell_type": "code",
   "execution_count": 35,
   "id": "38101e60-7ee5-4c67-9c9f-25b7927734ae",
   "metadata": {},
   "outputs": [
    {
     "name": "stdout",
     "output_type": "stream",
     "text": [
      "m\n",
      "a\n",
      "n\n",
      "g\n",
      "o\n"
     ]
    }
   ],
   "source": [
    "fruit='mango'\n",
    "for x in fruit:\n",
    "    print(x)"
   ]
  },
  {
   "cell_type": "code",
   "execution_count": 37,
   "id": "abb71309-7572-41f5-a889-44f45f216ecf",
   "metadata": {},
   "outputs": [
    {
     "data": {
      "text/plain": [
       "'n'"
      ]
     },
     "execution_count": 37,
     "metadata": {},
     "output_type": "execute_result"
    }
   ],
   "source": [
    "fruit[2]"
   ]
  },
  {
   "cell_type": "markdown",
   "id": "9ef70d41-1742-4cb1-bb67-b8c545e2f592",
   "metadata": {},
   "source": []
  },
  {
   "cell_type": "markdown",
   "id": "d263ae1d-7014-48e1-84b9-dd28c67dcab5",
   "metadata": {},
   "source": [
    "#### Range"
   ]
  },
  {
   "cell_type": "code",
   "execution_count": 42,
   "id": "6735df19-50c2-45d0-985b-89ef16d80c4b",
   "metadata": {},
   "outputs": [
    {
     "name": "stdout",
     "output_type": "stream",
     "text": [
      "1\n",
      "2\n",
      "3\n",
      "4\n",
      "5\n"
     ]
    }
   ],
   "source": [
    "for i in range(1,6):\n",
    "    print(i)"
   ]
  },
  {
   "cell_type": "code",
   "execution_count": 43,
   "id": "3ee94f18-3c08-4a7f-a423-969dd48ae27c",
   "metadata": {},
   "outputs": [
    {
     "name": "stdout",
     "output_type": "stream",
     "text": [
      "1\n",
      "3\n",
      "5\n"
     ]
    }
   ],
   "source": [
    "# here after putting 2 at the last we get output has difference of 2.\n",
    "for i in range(1,6,2):\n",
    "    print(i)"
   ]
  },
  {
   "cell_type": "code",
   "execution_count": 47,
   "id": "e16d9c21-d986-4692-b3dc-b4db881abf47",
   "metadata": {},
   "outputs": [
    {
     "name": "stdout",
     "output_type": "stream",
     "text": [
      "1\n",
      "5\n",
      "9\n"
     ]
    }
   ],
   "source": [
    "for i in range(1,10,4):\n",
    "    print(i)"
   ]
  },
  {
   "cell_type": "markdown",
   "id": "2d98ce86-0d54-449f-949e-1f784bfc1f79",
   "metadata": {},
   "source": [
    "## 3.Nested Loops"
   ]
  },
  {
   "cell_type": "code",
   "execution_count": 57,
   "id": "6bd55fd8-40fd-46cd-b605-349aeecc15e8",
   "metadata": {},
   "outputs": [
    {
     "name": "stdout",
     "output_type": "stream",
     "text": [
      "*\n",
      "**\n",
      "***\n",
      "****\n",
      "*****\n",
      "******\n",
      "*******\n"
     ]
    }
   ],
   "source": [
    "n=7\n",
    "\n",
    "for i in range(0,n):\n",
    "    for j in range(0,i+1):\n",
    "        print(\"*\",end=\"\")\n",
    "    print(\"\\r\")"
   ]
  },
  {
   "cell_type": "code",
   "execution_count": 55,
   "id": "1bb88a62-6b21-470f-bf80-a18709db1d56",
   "metadata": {},
   "outputs": [
    {
     "name": "stdout",
     "output_type": "stream",
     "text": [
      "*\n",
      "\n",
      "**\n",
      "\n",
      "***\n",
      "\n",
      "****\n",
      "\n",
      "*****\n",
      "\n",
      "******\n",
      "\n",
      "*******\n",
      "\n"
     ]
    }
   ],
   "source": [
    "n=7\n",
    "\n",
    "for i in range(0,n):\n",
    "    for j in range(0,i+1):\n",
    "        print(\"*\",end=\"\")\n",
    "    print(\"\\n\")"
   ]
  },
  {
   "cell_type": "code",
   "execution_count": 66,
   "id": "c8028741-8bed-4a8a-86a5-2bb55b9a241e",
   "metadata": {},
   "outputs": [],
   "source": [
    "## Loops controls\n",
    "## Break and continue\n",
    "fruits_list=[\"Mango\",\"Cherry\",\"Apple\",\"Papaya\",\"Banana\"]"
   ]
  },
  {
   "cell_type": "code",
   "execution_count": 67,
   "id": "0426fd7e-4ab2-4d10-92b5-7a0aae75e0b7",
   "metadata": {},
   "outputs": [
    {
     "name": "stdout",
     "output_type": "stream",
     "text": [
      "Mango\n",
      "Cherry\n",
      "The friut is apple\n"
     ]
    }
   ],
   "source": [
    "for i in fruits_list:\n",
    "    if i==\"Apple\":\n",
    "        print(\"The friut is apple\")\n",
    "        break\n",
    "    print(i)"
   ]
  },
  {
   "cell_type": "code",
   "execution_count": 69,
   "id": "496c981f-d310-415d-82c6-bc86ee84ea5f",
   "metadata": {},
   "outputs": [
    {
     "name": "stdout",
     "output_type": "stream",
     "text": [
      "Mango\n",
      "Cherry\n",
      "The friut is apple\n",
      "Apple\n",
      "Papaya\n",
      "Banana\n"
     ]
    }
   ],
   "source": [
    "# by using pass its skip apple\n",
    "for i in fruits_list:\n",
    "    if i==\"Apple\":\n",
    "        print(\"The friut is apple\")\n",
    "        pass\n",
    "    print(i)"
   ]
  },
  {
   "cell_type": "code",
   "execution_count": 17,
   "id": "04fb6bf9-58aa-46b7-9600-9bf99673f231",
   "metadata": {},
   "outputs": [
    {
     "name": "stdout",
     "output_type": "stream",
     "text": [
      "1  2  3  4  \n",
      "5  6  7  8  \n",
      "9  10  11  12  \n",
      "13  14  15  16  \n"
     ]
    }
   ],
   "source": [
    "n = 4\n",
    "n1 = 0\n",
    "for i in range(1,n+1):\n",
    "    for j in range(1,n+1):\n",
    "        n1 = n1 + 1\n",
    "        print(n1,end=\"  \")\n",
    "    print()        \n",
    "        \n"
   ]
  },
  {
   "cell_type": "code",
   "execution_count": null,
   "id": "ca3eba6e-a631-4376-a619-97d8480508a2",
   "metadata": {},
   "outputs": [],
   "source": []
  }
 ],
 "metadata": {
  "kernelspec": {
   "display_name": "Python 3 (ipykernel)",
   "language": "python",
   "name": "python3"
  },
  "language_info": {
   "codemirror_mode": {
    "name": "ipython",
    "version": 3
   },
   "file_extension": ".py",
   "mimetype": "text/x-python",
   "name": "python",
   "nbconvert_exporter": "python",
   "pygments_lexer": "ipython3",
   "version": "3.10.8"
  }
 },
 "nbformat": 4,
 "nbformat_minor": 5
}
